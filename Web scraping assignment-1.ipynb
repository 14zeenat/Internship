{
 "cells": [
  {
   "cell_type": "markdown",
   "id": "7314389c",
   "metadata": {},
   "source": [
    "###                   ASSIGNMENT-1\n",
    "###                   WEB SCRAPING"
   ]
  },
  {
   "cell_type": "markdown",
   "id": "e66144fe",
   "metadata": {},
   "source": [
    "#### 1) Write a python program to display all the header tags  from wikipedia.org  and make data frame."
   ]
  },
  {
   "cell_type": "code",
   "execution_count": 1,
   "id": "246fc60f",
   "metadata": {},
   "outputs": [],
   "source": [
    "# Import requried libraries\n",
    "\n",
    "import requests\n",
    "from bs4 import BeautifulSoup\n",
    "import pandas as pd"
   ]
  },
  {
   "cell_type": "code",
   "execution_count": 2,
   "id": "7c7ed26a",
   "metadata": {},
   "outputs": [],
   "source": [
    "# send GET request\n",
    "\n",
    "page_1 = requests.get(\"https://en.wikipedia.org/wiki/Main_Page\")"
   ]
  },
  {
   "cell_type": "code",
   "execution_count": 3,
   "id": "bee7a547",
   "metadata": {},
   "outputs": [
    {
     "data": {
      "text/plain": [
       "<Response [200]>"
      ]
     },
     "execution_count": 3,
     "metadata": {},
     "output_type": "execute_result"
    }
   ],
   "source": [
    "# Checking response code\n",
    "page_1"
   ]
  },
  {
   "cell_type": "code",
   "execution_count": 4,
   "id": "93440ad8",
   "metadata": {},
   "outputs": [],
   "source": [
    "# Page content\n",
    "S1 = BeautifulSoup(page_1.content)"
   ]
  },
  {
   "cell_type": "code",
   "execution_count": 5,
   "id": "dda40854",
   "metadata": {},
   "outputs": [
    {
     "data": {
      "text/plain": [
       "'Welcome to Wikipedia'"
      ]
     },
     "execution_count": 5,
     "metadata": {},
     "output_type": "execute_result"
    }
   ],
   "source": [
    "# first headline\n",
    "h1 = S1.find('span', class_=\"mw-headline\")\n",
    "h1.text"
   ]
  },
  {
   "cell_type": "code",
   "execution_count": 6,
   "id": "9662eef8",
   "metadata": {},
   "outputs": [
    {
     "data": {
      "text/plain": [
       "['Welcome to Wikipedia',\n",
       " \"From today's featured article\",\n",
       " 'Did you know\\xa0...',\n",
       " 'In the news',\n",
       " 'On this day',\n",
       " \"From today's featured list\",\n",
       " \"Today's featured picture\",\n",
       " 'Other areas of Wikipedia',\n",
       " \"Wikipedia's sister projects\",\n",
       " 'Wikipedia languages']"
      ]
     },
     "execution_count": 6,
     "metadata": {},
     "output_type": "execute_result"
    }
   ],
   "source": [
    "wiki_page = []   # empty list\n",
    "\n",
    "wiki_page.append(h1.text)       # adding first headline\n",
    "\n",
    "for i in S1.find_all('h2', class_=\"mp-h2\"):\n",
    "    wiki_page.append(i.text)\n",
    "\n",
    "wiki_page  "
   ]
  },
  {
   "cell_type": "code",
   "execution_count": 7,
   "id": "bbc0e445",
   "metadata": {},
   "outputs": [
    {
     "data": {
      "text/html": [
       "<div>\n",
       "<style scoped>\n",
       "    .dataframe tbody tr th:only-of-type {\n",
       "        vertical-align: middle;\n",
       "    }\n",
       "\n",
       "    .dataframe tbody tr th {\n",
       "        vertical-align: top;\n",
       "    }\n",
       "\n",
       "    .dataframe thead th {\n",
       "        text-align: right;\n",
       "    }\n",
       "</style>\n",
       "<table border=\"1\" class=\"dataframe\">\n",
       "  <thead>\n",
       "    <tr style=\"text-align: right;\">\n",
       "      <th></th>\n",
       "      <th>wikipedia_main_page_contents</th>\n",
       "    </tr>\n",
       "  </thead>\n",
       "  <tbody>\n",
       "    <tr>\n",
       "      <th>0</th>\n",
       "      <td>Welcome to Wikipedia</td>\n",
       "    </tr>\n",
       "    <tr>\n",
       "      <th>1</th>\n",
       "      <td>From today's featured article</td>\n",
       "    </tr>\n",
       "    <tr>\n",
       "      <th>2</th>\n",
       "      <td>Did you know ...</td>\n",
       "    </tr>\n",
       "    <tr>\n",
       "      <th>3</th>\n",
       "      <td>In the news</td>\n",
       "    </tr>\n",
       "    <tr>\n",
       "      <th>4</th>\n",
       "      <td>On this day</td>\n",
       "    </tr>\n",
       "    <tr>\n",
       "      <th>5</th>\n",
       "      <td>From today's featured list</td>\n",
       "    </tr>\n",
       "    <tr>\n",
       "      <th>6</th>\n",
       "      <td>Today's featured picture</td>\n",
       "    </tr>\n",
       "    <tr>\n",
       "      <th>7</th>\n",
       "      <td>Other areas of Wikipedia</td>\n",
       "    </tr>\n",
       "    <tr>\n",
       "      <th>8</th>\n",
       "      <td>Wikipedia's sister projects</td>\n",
       "    </tr>\n",
       "    <tr>\n",
       "      <th>9</th>\n",
       "      <td>Wikipedia languages</td>\n",
       "    </tr>\n",
       "  </tbody>\n",
       "</table>\n",
       "</div>"
      ],
      "text/plain": [
       "    wikipedia_main_page_contents\n",
       "0           Welcome to Wikipedia\n",
       "1  From today's featured article\n",
       "2               Did you know ...\n",
       "3                    In the news\n",
       "4                    On this day\n",
       "5     From today's featured list\n",
       "6       Today's featured picture\n",
       "7       Other areas of Wikipedia\n",
       "8    Wikipedia's sister projects\n",
       "9            Wikipedia languages"
      ]
     },
     "execution_count": 7,
     "metadata": {},
     "output_type": "execute_result"
    }
   ],
   "source": [
    "# making DataFrame\n",
    "\n",
    "wikipedia_page = pd.DataFrame({'wikipedia_main_page_contents': wiki_page})\n",
    "wikipedia_page"
   ]
  },
  {
   "cell_type": "code",
   "execution_count": null,
   "id": "eeeb3a78",
   "metadata": {},
   "outputs": [],
   "source": []
  },
  {
   "cell_type": "markdown",
   "id": "a33a852f",
   "metadata": {},
   "source": [
    "#### 2) Write a python program to display IMDB’s Top rated 50 movies’ data (i.e. name, rating, year of release) and make data frame."
   ]
  },
  {
   "cell_type": "code",
   "execution_count": 8,
   "id": "7a96e374",
   "metadata": {},
   "outputs": [],
   "source": [
    "# Import requried libraries\n",
    "\n",
    "import requests\n",
    "from bs4 import BeautifulSoup\n",
    "import pandas as pd"
   ]
  },
  {
   "cell_type": "code",
   "execution_count": 9,
   "id": "7305850e",
   "metadata": {},
   "outputs": [],
   "source": [
    "# send GET request\n",
    "\n",
    "page_2 = requests.get(\"https://www.imdb.com/search/title/?groups=top_250&sort=user_rating,desc\")"
   ]
  },
  {
   "cell_type": "code",
   "execution_count": 10,
   "id": "d615d62f",
   "metadata": {},
   "outputs": [
    {
     "data": {
      "text/plain": [
       "<Response [200]>"
      ]
     },
     "execution_count": 10,
     "metadata": {},
     "output_type": "execute_result"
    }
   ],
   "source": [
    "# checking response code\n",
    "page_2"
   ]
  },
  {
   "cell_type": "code",
   "execution_count": 11,
   "id": "d9e96024",
   "metadata": {},
   "outputs": [],
   "source": [
    "# page content\n",
    "\n",
    "S2 = BeautifulSoup(page_2.content)"
   ]
  },
  {
   "cell_type": "code",
   "execution_count": 12,
   "id": "c6db8c45",
   "metadata": {},
   "outputs": [
    {
     "data": {
      "text/plain": [
       "['The Shawshank Redemption',\n",
       " 'The Godfather',\n",
       " 'The Dark Knight',\n",
       " \"Schindler's List\",\n",
       " 'The Godfather Part II',\n",
       " '12 Angry Men',\n",
       " 'The Lord of the Rings: The Return of the King',\n",
       " 'Pulp Fiction',\n",
       " 'Fight Club',\n",
       " 'Inception',\n",
       " 'The Lord of the Rings: The Fellowship of the Ring',\n",
       " 'Forrest Gump',\n",
       " 'The Lord of the Rings: The Two Towers',\n",
       " 'Il buono, il brutto, il cattivo',\n",
       " 'Jai Bhim',\n",
       " 'GoodFellas',\n",
       " 'The Matrix',\n",
       " \"One Flew Over the Cuckoo's Nest\",\n",
       " 'The Empire Strikes Back',\n",
       " 'Interstellar',\n",
       " 'The Silence of the Lambs',\n",
       " 'Se7en',\n",
       " 'Star Wars',\n",
       " 'Saving Private Ryan',\n",
       " 'The Green Mile',\n",
       " 'Terminator 2: Judgment Day',\n",
       " 'Sen to Chihiro no kamikakushi',\n",
       " 'Cidade de Deus',\n",
       " 'La vita è bella',\n",
       " 'Shichinin no samurai',\n",
       " \"It's a Wonderful Life\",\n",
       " 'Seppuku',\n",
       " 'Gisaengchung',\n",
       " 'The Departed',\n",
       " 'Gladiator',\n",
       " 'Whiplash',\n",
       " 'The Prestige',\n",
       " 'Léon',\n",
       " 'Alien',\n",
       " 'Rear Window',\n",
       " 'Back to the Future',\n",
       " 'Apocalypse Now',\n",
       " 'The Lion King',\n",
       " 'Psycho',\n",
       " 'The Usual Suspects',\n",
       " 'The Pianist',\n",
       " 'American History X',\n",
       " 'The Intouchables',\n",
       " 'Casablanca',\n",
       " 'Once Upon a Time in the West']"
      ]
     },
     "execution_count": 12,
     "metadata": {},
     "output_type": "execute_result"
    }
   ],
   "source": [
    "movies = []     # empty list\n",
    "\n",
    "for i in S2.find_all('h3',class_=\"lister-item-header\"):\n",
    "    movies.append(i.text.split('\\n')[2])\n",
    "movies    "
   ]
  },
  {
   "cell_type": "code",
   "execution_count": 13,
   "id": "48638f9c",
   "metadata": {},
   "outputs": [
    {
     "data": {
      "text/plain": [
       "['1994',\n",
       " '1972',\n",
       " '2008',\n",
       " '1993',\n",
       " '1974',\n",
       " '1957',\n",
       " '2003',\n",
       " '1994',\n",
       " '1999',\n",
       " '2010',\n",
       " '2001',\n",
       " '1994',\n",
       " '2002',\n",
       " '1966',\n",
       " '2021',\n",
       " '1990',\n",
       " '1999',\n",
       " '1975',\n",
       " '1980',\n",
       " '2014',\n",
       " '1991',\n",
       " '1995',\n",
       " '1977',\n",
       " '1998',\n",
       " '1999',\n",
       " '1991',\n",
       " '2001',\n",
       " '2002',\n",
       " '1997',\n",
       " '1954',\n",
       " '1946',\n",
       " '1962',\n",
       " '2019',\n",
       " '2006',\n",
       " '2000',\n",
       " '2014',\n",
       " '2006',\n",
       " '1994',\n",
       " '1979',\n",
       " '1954',\n",
       " '1985',\n",
       " '1979',\n",
       " '1994',\n",
       " '1960',\n",
       " '1995',\n",
       " '2002',\n",
       " '1998',\n",
       " '2011',\n",
       " '1942',\n",
       " '1968']"
      ]
     },
     "execution_count": 13,
     "metadata": {},
     "output_type": "execute_result"
    }
   ],
   "source": [
    "year = []    # empty list\n",
    "\n",
    "for i in S2.find_all('h3',class_=\"lister-item-header\"):\n",
    "    year.append(i.text.split('(')[1].split(')')[0])\n",
    "year"
   ]
  },
  {
   "cell_type": "code",
   "execution_count": 14,
   "id": "90724ed6",
   "metadata": {},
   "outputs": [
    {
     "data": {
      "text/plain": [
       "['9.3',\n",
       " '9.2',\n",
       " '9.0',\n",
       " '9.0',\n",
       " '9.0',\n",
       " '9.0',\n",
       " '9.0',\n",
       " '8.9',\n",
       " '8.8',\n",
       " '8.8',\n",
       " '8.8',\n",
       " '8.8',\n",
       " '8.8',\n",
       " '8.8',\n",
       " '8.8',\n",
       " '8.7',\n",
       " '8.7',\n",
       " '8.7',\n",
       " '8.7',\n",
       " '8.6',\n",
       " '8.6',\n",
       " '8.6',\n",
       " '8.6',\n",
       " '8.6',\n",
       " '8.6',\n",
       " '8.6',\n",
       " '8.6',\n",
       " '8.6',\n",
       " '8.6',\n",
       " '8.6',\n",
       " '8.6',\n",
       " '8.6',\n",
       " '8.5',\n",
       " '8.5',\n",
       " '8.5',\n",
       " '8.5',\n",
       " '8.5',\n",
       " '8.5',\n",
       " '8.5',\n",
       " '8.5',\n",
       " '8.5',\n",
       " '8.5',\n",
       " '8.5',\n",
       " '8.5',\n",
       " '8.5',\n",
       " '8.5',\n",
       " '8.5',\n",
       " '8.5',\n",
       " '8.5',\n",
       " '8.5']"
      ]
     },
     "execution_count": 14,
     "metadata": {},
     "output_type": "execute_result"
    }
   ],
   "source": [
    "movie_ratings = []   # empty list\n",
    "\n",
    "for i in S2.find_all('div',class_=\"inline-block ratings-imdb-rating\"):\n",
    "    movie_ratings.append(i.text.split('\\n')[2])\n",
    "movie_ratings    "
   ]
  },
  {
   "cell_type": "code",
   "execution_count": 15,
   "id": "76fb03a0",
   "metadata": {},
   "outputs": [
    {
     "name": "stdout",
     "output_type": "stream",
     "text": [
      "50 50 50\n"
     ]
    }
   ],
   "source": [
    "print(len(movies),len(year),len(movie_ratings))"
   ]
  },
  {
   "cell_type": "code",
   "execution_count": 16,
   "id": "1af52034",
   "metadata": {},
   "outputs": [
    {
     "name": "stdout",
     "output_type": "stream",
     "text": [
      "\u001b[1mIMDB's Top Rated 50 Movies\u001b[0m\n"
     ]
    },
    {
     "data": {
      "text/html": [
       "<div>\n",
       "<style scoped>\n",
       "    .dataframe tbody tr th:only-of-type {\n",
       "        vertical-align: middle;\n",
       "    }\n",
       "\n",
       "    .dataframe tbody tr th {\n",
       "        vertical-align: top;\n",
       "    }\n",
       "\n",
       "    .dataframe thead th {\n",
       "        text-align: right;\n",
       "    }\n",
       "</style>\n",
       "<table border=\"1\" class=\"dataframe\">\n",
       "  <thead>\n",
       "    <tr style=\"text-align: right;\">\n",
       "      <th></th>\n",
       "      <th>name</th>\n",
       "      <th>rating</th>\n",
       "      <th>year of release</th>\n",
       "    </tr>\n",
       "  </thead>\n",
       "  <tbody>\n",
       "    <tr>\n",
       "      <th>0</th>\n",
       "      <td>The Shawshank Redemption</td>\n",
       "      <td>9.3</td>\n",
       "      <td>1994</td>\n",
       "    </tr>\n",
       "    <tr>\n",
       "      <th>1</th>\n",
       "      <td>The Godfather</td>\n",
       "      <td>9.2</td>\n",
       "      <td>1972</td>\n",
       "    </tr>\n",
       "    <tr>\n",
       "      <th>2</th>\n",
       "      <td>The Dark Knight</td>\n",
       "      <td>9.0</td>\n",
       "      <td>2008</td>\n",
       "    </tr>\n",
       "    <tr>\n",
       "      <th>3</th>\n",
       "      <td>Schindler's List</td>\n",
       "      <td>9.0</td>\n",
       "      <td>1993</td>\n",
       "    </tr>\n",
       "    <tr>\n",
       "      <th>4</th>\n",
       "      <td>The Godfather Part II</td>\n",
       "      <td>9.0</td>\n",
       "      <td>1974</td>\n",
       "    </tr>\n",
       "    <tr>\n",
       "      <th>5</th>\n",
       "      <td>12 Angry Men</td>\n",
       "      <td>9.0</td>\n",
       "      <td>1957</td>\n",
       "    </tr>\n",
       "    <tr>\n",
       "      <th>6</th>\n",
       "      <td>The Lord of the Rings: The Return of the King</td>\n",
       "      <td>9.0</td>\n",
       "      <td>2003</td>\n",
       "    </tr>\n",
       "    <tr>\n",
       "      <th>7</th>\n",
       "      <td>Pulp Fiction</td>\n",
       "      <td>8.9</td>\n",
       "      <td>1994</td>\n",
       "    </tr>\n",
       "    <tr>\n",
       "      <th>8</th>\n",
       "      <td>Fight Club</td>\n",
       "      <td>8.8</td>\n",
       "      <td>1999</td>\n",
       "    </tr>\n",
       "    <tr>\n",
       "      <th>9</th>\n",
       "      <td>Inception</td>\n",
       "      <td>8.8</td>\n",
       "      <td>2010</td>\n",
       "    </tr>\n",
       "    <tr>\n",
       "      <th>10</th>\n",
       "      <td>The Lord of the Rings: The Fellowship of the Ring</td>\n",
       "      <td>8.8</td>\n",
       "      <td>2001</td>\n",
       "    </tr>\n",
       "    <tr>\n",
       "      <th>11</th>\n",
       "      <td>Forrest Gump</td>\n",
       "      <td>8.8</td>\n",
       "      <td>1994</td>\n",
       "    </tr>\n",
       "    <tr>\n",
       "      <th>12</th>\n",
       "      <td>The Lord of the Rings: The Two Towers</td>\n",
       "      <td>8.8</td>\n",
       "      <td>2002</td>\n",
       "    </tr>\n",
       "    <tr>\n",
       "      <th>13</th>\n",
       "      <td>Il buono, il brutto, il cattivo</td>\n",
       "      <td>8.8</td>\n",
       "      <td>1966</td>\n",
       "    </tr>\n",
       "    <tr>\n",
       "      <th>14</th>\n",
       "      <td>Jai Bhim</td>\n",
       "      <td>8.8</td>\n",
       "      <td>2021</td>\n",
       "    </tr>\n",
       "    <tr>\n",
       "      <th>15</th>\n",
       "      <td>GoodFellas</td>\n",
       "      <td>8.7</td>\n",
       "      <td>1990</td>\n",
       "    </tr>\n",
       "    <tr>\n",
       "      <th>16</th>\n",
       "      <td>The Matrix</td>\n",
       "      <td>8.7</td>\n",
       "      <td>1999</td>\n",
       "    </tr>\n",
       "    <tr>\n",
       "      <th>17</th>\n",
       "      <td>One Flew Over the Cuckoo's Nest</td>\n",
       "      <td>8.7</td>\n",
       "      <td>1975</td>\n",
       "    </tr>\n",
       "    <tr>\n",
       "      <th>18</th>\n",
       "      <td>The Empire Strikes Back</td>\n",
       "      <td>8.7</td>\n",
       "      <td>1980</td>\n",
       "    </tr>\n",
       "    <tr>\n",
       "      <th>19</th>\n",
       "      <td>Interstellar</td>\n",
       "      <td>8.6</td>\n",
       "      <td>2014</td>\n",
       "    </tr>\n",
       "    <tr>\n",
       "      <th>20</th>\n",
       "      <td>The Silence of the Lambs</td>\n",
       "      <td>8.6</td>\n",
       "      <td>1991</td>\n",
       "    </tr>\n",
       "    <tr>\n",
       "      <th>21</th>\n",
       "      <td>Se7en</td>\n",
       "      <td>8.6</td>\n",
       "      <td>1995</td>\n",
       "    </tr>\n",
       "    <tr>\n",
       "      <th>22</th>\n",
       "      <td>Star Wars</td>\n",
       "      <td>8.6</td>\n",
       "      <td>1977</td>\n",
       "    </tr>\n",
       "    <tr>\n",
       "      <th>23</th>\n",
       "      <td>Saving Private Ryan</td>\n",
       "      <td>8.6</td>\n",
       "      <td>1998</td>\n",
       "    </tr>\n",
       "    <tr>\n",
       "      <th>24</th>\n",
       "      <td>The Green Mile</td>\n",
       "      <td>8.6</td>\n",
       "      <td>1999</td>\n",
       "    </tr>\n",
       "    <tr>\n",
       "      <th>25</th>\n",
       "      <td>Terminator 2: Judgment Day</td>\n",
       "      <td>8.6</td>\n",
       "      <td>1991</td>\n",
       "    </tr>\n",
       "    <tr>\n",
       "      <th>26</th>\n",
       "      <td>Sen to Chihiro no kamikakushi</td>\n",
       "      <td>8.6</td>\n",
       "      <td>2001</td>\n",
       "    </tr>\n",
       "    <tr>\n",
       "      <th>27</th>\n",
       "      <td>Cidade de Deus</td>\n",
       "      <td>8.6</td>\n",
       "      <td>2002</td>\n",
       "    </tr>\n",
       "    <tr>\n",
       "      <th>28</th>\n",
       "      <td>La vita è bella</td>\n",
       "      <td>8.6</td>\n",
       "      <td>1997</td>\n",
       "    </tr>\n",
       "    <tr>\n",
       "      <th>29</th>\n",
       "      <td>Shichinin no samurai</td>\n",
       "      <td>8.6</td>\n",
       "      <td>1954</td>\n",
       "    </tr>\n",
       "    <tr>\n",
       "      <th>30</th>\n",
       "      <td>It's a Wonderful Life</td>\n",
       "      <td>8.6</td>\n",
       "      <td>1946</td>\n",
       "    </tr>\n",
       "    <tr>\n",
       "      <th>31</th>\n",
       "      <td>Seppuku</td>\n",
       "      <td>8.6</td>\n",
       "      <td>1962</td>\n",
       "    </tr>\n",
       "    <tr>\n",
       "      <th>32</th>\n",
       "      <td>Gisaengchung</td>\n",
       "      <td>8.5</td>\n",
       "      <td>2019</td>\n",
       "    </tr>\n",
       "    <tr>\n",
       "      <th>33</th>\n",
       "      <td>The Departed</td>\n",
       "      <td>8.5</td>\n",
       "      <td>2006</td>\n",
       "    </tr>\n",
       "    <tr>\n",
       "      <th>34</th>\n",
       "      <td>Gladiator</td>\n",
       "      <td>8.5</td>\n",
       "      <td>2000</td>\n",
       "    </tr>\n",
       "    <tr>\n",
       "      <th>35</th>\n",
       "      <td>Whiplash</td>\n",
       "      <td>8.5</td>\n",
       "      <td>2014</td>\n",
       "    </tr>\n",
       "    <tr>\n",
       "      <th>36</th>\n",
       "      <td>The Prestige</td>\n",
       "      <td>8.5</td>\n",
       "      <td>2006</td>\n",
       "    </tr>\n",
       "    <tr>\n",
       "      <th>37</th>\n",
       "      <td>Léon</td>\n",
       "      <td>8.5</td>\n",
       "      <td>1994</td>\n",
       "    </tr>\n",
       "    <tr>\n",
       "      <th>38</th>\n",
       "      <td>Alien</td>\n",
       "      <td>8.5</td>\n",
       "      <td>1979</td>\n",
       "    </tr>\n",
       "    <tr>\n",
       "      <th>39</th>\n",
       "      <td>Rear Window</td>\n",
       "      <td>8.5</td>\n",
       "      <td>1954</td>\n",
       "    </tr>\n",
       "    <tr>\n",
       "      <th>40</th>\n",
       "      <td>Back to the Future</td>\n",
       "      <td>8.5</td>\n",
       "      <td>1985</td>\n",
       "    </tr>\n",
       "    <tr>\n",
       "      <th>41</th>\n",
       "      <td>Apocalypse Now</td>\n",
       "      <td>8.5</td>\n",
       "      <td>1979</td>\n",
       "    </tr>\n",
       "    <tr>\n",
       "      <th>42</th>\n",
       "      <td>The Lion King</td>\n",
       "      <td>8.5</td>\n",
       "      <td>1994</td>\n",
       "    </tr>\n",
       "    <tr>\n",
       "      <th>43</th>\n",
       "      <td>Psycho</td>\n",
       "      <td>8.5</td>\n",
       "      <td>1960</td>\n",
       "    </tr>\n",
       "    <tr>\n",
       "      <th>44</th>\n",
       "      <td>The Usual Suspects</td>\n",
       "      <td>8.5</td>\n",
       "      <td>1995</td>\n",
       "    </tr>\n",
       "    <tr>\n",
       "      <th>45</th>\n",
       "      <td>The Pianist</td>\n",
       "      <td>8.5</td>\n",
       "      <td>2002</td>\n",
       "    </tr>\n",
       "    <tr>\n",
       "      <th>46</th>\n",
       "      <td>American History X</td>\n",
       "      <td>8.5</td>\n",
       "      <td>1998</td>\n",
       "    </tr>\n",
       "    <tr>\n",
       "      <th>47</th>\n",
       "      <td>The Intouchables</td>\n",
       "      <td>8.5</td>\n",
       "      <td>2011</td>\n",
       "    </tr>\n",
       "    <tr>\n",
       "      <th>48</th>\n",
       "      <td>Casablanca</td>\n",
       "      <td>8.5</td>\n",
       "      <td>1942</td>\n",
       "    </tr>\n",
       "    <tr>\n",
       "      <th>49</th>\n",
       "      <td>Once Upon a Time in the West</td>\n",
       "      <td>8.5</td>\n",
       "      <td>1968</td>\n",
       "    </tr>\n",
       "  </tbody>\n",
       "</table>\n",
       "</div>"
      ],
      "text/plain": [
       "                                                 name rating year of release\n",
       "0                            The Shawshank Redemption    9.3            1994\n",
       "1                                       The Godfather    9.2            1972\n",
       "2                                     The Dark Knight    9.0            2008\n",
       "3                                    Schindler's List    9.0            1993\n",
       "4                               The Godfather Part II    9.0            1974\n",
       "5                                        12 Angry Men    9.0            1957\n",
       "6       The Lord of the Rings: The Return of the King    9.0            2003\n",
       "7                                        Pulp Fiction    8.9            1994\n",
       "8                                          Fight Club    8.8            1999\n",
       "9                                           Inception    8.8            2010\n",
       "10  The Lord of the Rings: The Fellowship of the Ring    8.8            2001\n",
       "11                                       Forrest Gump    8.8            1994\n",
       "12              The Lord of the Rings: The Two Towers    8.8            2002\n",
       "13                    Il buono, il brutto, il cattivo    8.8            1966\n",
       "14                                           Jai Bhim    8.8            2021\n",
       "15                                         GoodFellas    8.7            1990\n",
       "16                                         The Matrix    8.7            1999\n",
       "17                    One Flew Over the Cuckoo's Nest    8.7            1975\n",
       "18                            The Empire Strikes Back    8.7            1980\n",
       "19                                       Interstellar    8.6            2014\n",
       "20                           The Silence of the Lambs    8.6            1991\n",
       "21                                              Se7en    8.6            1995\n",
       "22                                          Star Wars    8.6            1977\n",
       "23                                Saving Private Ryan    8.6            1998\n",
       "24                                     The Green Mile    8.6            1999\n",
       "25                         Terminator 2: Judgment Day    8.6            1991\n",
       "26                      Sen to Chihiro no kamikakushi    8.6            2001\n",
       "27                                     Cidade de Deus    8.6            2002\n",
       "28                                    La vita è bella    8.6            1997\n",
       "29                               Shichinin no samurai    8.6            1954\n",
       "30                              It's a Wonderful Life    8.6            1946\n",
       "31                                            Seppuku    8.6            1962\n",
       "32                                       Gisaengchung    8.5            2019\n",
       "33                                       The Departed    8.5            2006\n",
       "34                                          Gladiator    8.5            2000\n",
       "35                                           Whiplash    8.5            2014\n",
       "36                                       The Prestige    8.5            2006\n",
       "37                                               Léon    8.5            1994\n",
       "38                                              Alien    8.5            1979\n",
       "39                                        Rear Window    8.5            1954\n",
       "40                                 Back to the Future    8.5            1985\n",
       "41                                     Apocalypse Now    8.5            1979\n",
       "42                                      The Lion King    8.5            1994\n",
       "43                                             Psycho    8.5            1960\n",
       "44                                 The Usual Suspects    8.5            1995\n",
       "45                                        The Pianist    8.5            2002\n",
       "46                                 American History X    8.5            1998\n",
       "47                                   The Intouchables    8.5            2011\n",
       "48                                         Casablanca    8.5            1942\n",
       "49                       Once Upon a Time in the West    8.5            1968"
      ]
     },
     "execution_count": 16,
     "metadata": {},
     "output_type": "execute_result"
    }
   ],
   "source": [
    "# making DataFrame\n",
    "\n",
    "movies_list = pd.DataFrame({'name':movies,'rating':movie_ratings,'year of release':year})\n",
    "\n",
    "print(\"\\033[1m\"+\"IMDB's Top Rated 50 Movies\"+\"\\033[0m\")\n",
    "movies_list"
   ]
  },
  {
   "cell_type": "code",
   "execution_count": null,
   "id": "8d423dc1",
   "metadata": {},
   "outputs": [],
   "source": []
  },
  {
   "cell_type": "markdown",
   "id": "5c72aeee",
   "metadata": {},
   "source": [
    "#### 3) Write a python program to display IMDB’s Top rated 50 Indian movies’ data (i.e. name, rating, year of release) and make data frame."
   ]
  },
  {
   "cell_type": "code",
   "execution_count": 17,
   "id": "f4d285d6",
   "metadata": {},
   "outputs": [],
   "source": [
    "# Import requried libraries\n",
    "\n",
    "import requests\n",
    "from bs4 import BeautifulSoup\n",
    "import pandas as pd"
   ]
  },
  {
   "cell_type": "code",
   "execution_count": 18,
   "id": "1e577a94",
   "metadata": {},
   "outputs": [],
   "source": [
    "# send GET request\n",
    "\n",
    "page_3 = requests.get('https://www.imdb.com/india/top-rated-indian-movies/')"
   ]
  },
  {
   "cell_type": "code",
   "execution_count": 19,
   "id": "d3576f66",
   "metadata": {},
   "outputs": [
    {
     "data": {
      "text/plain": [
       "<Response [200]>"
      ]
     },
     "execution_count": 19,
     "metadata": {},
     "output_type": "execute_result"
    }
   ],
   "source": [
    "# checking response code\n",
    "page_3"
   ]
  },
  {
   "cell_type": "code",
   "execution_count": 20,
   "id": "d08cea40",
   "metadata": {},
   "outputs": [],
   "source": [
    "# page content\n",
    "S3 = BeautifulSoup(page_3.content)"
   ]
  },
  {
   "cell_type": "code",
   "execution_count": 21,
   "id": "5896f89b",
   "metadata": {},
   "outputs": [
    {
     "data": {
      "text/plain": [
       "['Ramayana: The Legend of Prince Rama',\n",
       " 'Rocketry: The Nambi Effect',\n",
       " 'Nayakan',\n",
       " 'Gol Maal',\n",
       " '777 Charlie',\n",
       " 'Anbe Sivam',\n",
       " 'Pariyerum Perumal',\n",
       " 'Jai Bhim',\n",
       " 'Apur Sansar',\n",
       " '3 Idiots',\n",
       " 'Manichitrathazhu',\n",
       " '#Home',\n",
       " 'Soorarai Pottru',\n",
       " 'Black Friday',\n",
       " 'Kumbalangi Nights',\n",
       " 'C/o Kancharapalem',\n",
       " 'Taare Zameen Par',\n",
       " 'Kireedam',\n",
       " 'Dangal',\n",
       " 'Kaithi',\n",
       " 'Jersey',\n",
       " '96',\n",
       " 'Maya Bazaar',\n",
       " 'Natsamrat',\n",
       " 'Drishyam 2',\n",
       " 'Asuran',\n",
       " 'Sita Ramam',\n",
       " 'Thevar Magan',\n",
       " 'Visaaranai',\n",
       " 'Sarpatta Parambarai',\n",
       " 'Thalapathi',\n",
       " 'Nadodikkattu',\n",
       " 'Pather Panchali',\n",
       " 'Drishyam',\n",
       " 'Thani Oruvan',\n",
       " 'Jaane Bhi Do Yaaro',\n",
       " 'Vada Chennai',\n",
       " 'Aparajito',\n",
       " 'Sardar Udham',\n",
       " 'Khosla Ka Ghosla!',\n",
       " 'Anniyan',\n",
       " 'Ratsasan',\n",
       " 'Chupke Chupke',\n",
       " 'Gangs of Wasseypur',\n",
       " 'Drishyam',\n",
       " 'Peranbu',\n",
       " 'Mahanati',\n",
       " 'Bangalore Days',\n",
       " 'Satya',\n",
       " 'Premam']"
      ]
     },
     "execution_count": 21,
     "metadata": {},
     "output_type": "execute_result"
    }
   ],
   "source": [
    "movies_IND = []     # empty list\n",
    "\n",
    "for i in S3.find_all('td', class_=\"titleColumn\"):\n",
    "    movies_IND.append(i.text.split('\\n')[2].split('      ')[1])\n",
    "movies_50 = movies_IND[:50]\n",
    "movies_50"
   ]
  },
  {
   "cell_type": "code",
   "execution_count": 22,
   "id": "17bdf4a1",
   "metadata": {},
   "outputs": [
    {
     "data": {
      "text/plain": [
       "['1993',\n",
       " '2022',\n",
       " '1987',\n",
       " '1979',\n",
       " '2022',\n",
       " '2003',\n",
       " '2018',\n",
       " '2021',\n",
       " '1959',\n",
       " '2009',\n",
       " '1993',\n",
       " '2021',\n",
       " '2020',\n",
       " '2004',\n",
       " '2019',\n",
       " '2018',\n",
       " '2007',\n",
       " '1989',\n",
       " '2016',\n",
       " '2019',\n",
       " '2019',\n",
       " '2018',\n",
       " '1957',\n",
       " '2016',\n",
       " '2021',\n",
       " '2019',\n",
       " '2022',\n",
       " '1992',\n",
       " '2015',\n",
       " '2021',\n",
       " '1991',\n",
       " '1987',\n",
       " '1955',\n",
       " '2013',\n",
       " '2015',\n",
       " '1983',\n",
       " '2018',\n",
       " '1956',\n",
       " '2021',\n",
       " '2006',\n",
       " '2005',\n",
       " '2018',\n",
       " '1975',\n",
       " '2012',\n",
       " '2015',\n",
       " '2018',\n",
       " '2018',\n",
       " '2014',\n",
       " '1998',\n",
       " '2015']"
      ]
     },
     "execution_count": 22,
     "metadata": {},
     "output_type": "execute_result"
    }
   ],
   "source": [
    "yrs = []     # empty list\n",
    "\n",
    "for i in S3.find_all('td', class_=\"titleColumn\"):\n",
    "    yrs.append(i.text.split('(')[1].split(')')[0])\n",
    "yrs_50 = yrs[:50]    \n",
    "yrs_50"
   ]
  },
  {
   "cell_type": "code",
   "execution_count": 23,
   "id": "0a7c8425",
   "metadata": {},
   "outputs": [
    {
     "data": {
      "text/plain": [
       "['8.6',\n",
       " '8.4',\n",
       " '8.4',\n",
       " '8.4',\n",
       " '8.4',\n",
       " '8.4',\n",
       " '8.4',\n",
       " '8.4',\n",
       " '8.4',\n",
       " '8.4',\n",
       " '8.3',\n",
       " '8.3',\n",
       " '8.3',\n",
       " '8.3',\n",
       " '8.3',\n",
       " '8.3',\n",
       " '8.3',\n",
       " '8.3',\n",
       " '8.3',\n",
       " '8.3',\n",
       " '8.3',\n",
       " '8.3',\n",
       " '8.2',\n",
       " '8.2',\n",
       " '8.2',\n",
       " '8.2',\n",
       " '8.2',\n",
       " '8.2',\n",
       " '8.2',\n",
       " '8.2',\n",
       " '8.2',\n",
       " '8.2',\n",
       " '8.2',\n",
       " '8.2',\n",
       " '8.2',\n",
       " '8.2',\n",
       " '8.2',\n",
       " '8.2',\n",
       " '8.2',\n",
       " '8.2',\n",
       " '8.2',\n",
       " '8.1',\n",
       " '8.1',\n",
       " '8.1',\n",
       " '8.1',\n",
       " '8.1',\n",
       " '8.1',\n",
       " '8.1',\n",
       " '8.1',\n",
       " '8.1']"
      ]
     },
     "execution_count": 23,
     "metadata": {},
     "output_type": "execute_result"
    }
   ],
   "source": [
    "rating_IND = []     # empty list\n",
    "\n",
    "for i in S3.find_all('td', class_=\"ratingColumn imdbRating\"):\n",
    "    rating_IND.append(i.text.split('\\n')[1])\n",
    "rating_50 = rating_IND[:50]   \n",
    "rating_50"
   ]
  },
  {
   "cell_type": "code",
   "execution_count": 24,
   "id": "51572603",
   "metadata": {},
   "outputs": [
    {
     "name": "stdout",
     "output_type": "stream",
     "text": [
      "50 50 50\n"
     ]
    }
   ],
   "source": [
    "print(len(movies_50),len(yrs_50),len(rating_50))"
   ]
  },
  {
   "cell_type": "code",
   "execution_count": 25,
   "id": "4ece3a82",
   "metadata": {},
   "outputs": [
    {
     "name": "stdout",
     "output_type": "stream",
     "text": [
      "\u001b[1mIMDB's Top Rated 50 Indian Movies\u001b[0m\n"
     ]
    },
    {
     "data": {
      "text/html": [
       "<div>\n",
       "<style scoped>\n",
       "    .dataframe tbody tr th:only-of-type {\n",
       "        vertical-align: middle;\n",
       "    }\n",
       "\n",
       "    .dataframe tbody tr th {\n",
       "        vertical-align: top;\n",
       "    }\n",
       "\n",
       "    .dataframe thead th {\n",
       "        text-align: right;\n",
       "    }\n",
       "</style>\n",
       "<table border=\"1\" class=\"dataframe\">\n",
       "  <thead>\n",
       "    <tr style=\"text-align: right;\">\n",
       "      <th></th>\n",
       "      <th>name</th>\n",
       "      <th>rating</th>\n",
       "      <th>year of release</th>\n",
       "    </tr>\n",
       "  </thead>\n",
       "  <tbody>\n",
       "    <tr>\n",
       "      <th>0</th>\n",
       "      <td>Ramayana: The Legend of Prince Rama</td>\n",
       "      <td>8.6</td>\n",
       "      <td>1993</td>\n",
       "    </tr>\n",
       "    <tr>\n",
       "      <th>1</th>\n",
       "      <td>Rocketry: The Nambi Effect</td>\n",
       "      <td>8.4</td>\n",
       "      <td>2022</td>\n",
       "    </tr>\n",
       "    <tr>\n",
       "      <th>2</th>\n",
       "      <td>Nayakan</td>\n",
       "      <td>8.4</td>\n",
       "      <td>1987</td>\n",
       "    </tr>\n",
       "    <tr>\n",
       "      <th>3</th>\n",
       "      <td>Gol Maal</td>\n",
       "      <td>8.4</td>\n",
       "      <td>1979</td>\n",
       "    </tr>\n",
       "    <tr>\n",
       "      <th>4</th>\n",
       "      <td>777 Charlie</td>\n",
       "      <td>8.4</td>\n",
       "      <td>2022</td>\n",
       "    </tr>\n",
       "    <tr>\n",
       "      <th>5</th>\n",
       "      <td>Anbe Sivam</td>\n",
       "      <td>8.4</td>\n",
       "      <td>2003</td>\n",
       "    </tr>\n",
       "    <tr>\n",
       "      <th>6</th>\n",
       "      <td>Pariyerum Perumal</td>\n",
       "      <td>8.4</td>\n",
       "      <td>2018</td>\n",
       "    </tr>\n",
       "    <tr>\n",
       "      <th>7</th>\n",
       "      <td>Jai Bhim</td>\n",
       "      <td>8.4</td>\n",
       "      <td>2021</td>\n",
       "    </tr>\n",
       "    <tr>\n",
       "      <th>8</th>\n",
       "      <td>Apur Sansar</td>\n",
       "      <td>8.4</td>\n",
       "      <td>1959</td>\n",
       "    </tr>\n",
       "    <tr>\n",
       "      <th>9</th>\n",
       "      <td>3 Idiots</td>\n",
       "      <td>8.4</td>\n",
       "      <td>2009</td>\n",
       "    </tr>\n",
       "    <tr>\n",
       "      <th>10</th>\n",
       "      <td>Manichitrathazhu</td>\n",
       "      <td>8.3</td>\n",
       "      <td>1993</td>\n",
       "    </tr>\n",
       "    <tr>\n",
       "      <th>11</th>\n",
       "      <td>#Home</td>\n",
       "      <td>8.3</td>\n",
       "      <td>2021</td>\n",
       "    </tr>\n",
       "    <tr>\n",
       "      <th>12</th>\n",
       "      <td>Soorarai Pottru</td>\n",
       "      <td>8.3</td>\n",
       "      <td>2020</td>\n",
       "    </tr>\n",
       "    <tr>\n",
       "      <th>13</th>\n",
       "      <td>Black Friday</td>\n",
       "      <td>8.3</td>\n",
       "      <td>2004</td>\n",
       "    </tr>\n",
       "    <tr>\n",
       "      <th>14</th>\n",
       "      <td>Kumbalangi Nights</td>\n",
       "      <td>8.3</td>\n",
       "      <td>2019</td>\n",
       "    </tr>\n",
       "    <tr>\n",
       "      <th>15</th>\n",
       "      <td>C/o Kancharapalem</td>\n",
       "      <td>8.3</td>\n",
       "      <td>2018</td>\n",
       "    </tr>\n",
       "    <tr>\n",
       "      <th>16</th>\n",
       "      <td>Taare Zameen Par</td>\n",
       "      <td>8.3</td>\n",
       "      <td>2007</td>\n",
       "    </tr>\n",
       "    <tr>\n",
       "      <th>17</th>\n",
       "      <td>Kireedam</td>\n",
       "      <td>8.3</td>\n",
       "      <td>1989</td>\n",
       "    </tr>\n",
       "    <tr>\n",
       "      <th>18</th>\n",
       "      <td>Dangal</td>\n",
       "      <td>8.3</td>\n",
       "      <td>2016</td>\n",
       "    </tr>\n",
       "    <tr>\n",
       "      <th>19</th>\n",
       "      <td>Kaithi</td>\n",
       "      <td>8.3</td>\n",
       "      <td>2019</td>\n",
       "    </tr>\n",
       "    <tr>\n",
       "      <th>20</th>\n",
       "      <td>Jersey</td>\n",
       "      <td>8.3</td>\n",
       "      <td>2019</td>\n",
       "    </tr>\n",
       "    <tr>\n",
       "      <th>21</th>\n",
       "      <td>96</td>\n",
       "      <td>8.3</td>\n",
       "      <td>2018</td>\n",
       "    </tr>\n",
       "    <tr>\n",
       "      <th>22</th>\n",
       "      <td>Maya Bazaar</td>\n",
       "      <td>8.2</td>\n",
       "      <td>1957</td>\n",
       "    </tr>\n",
       "    <tr>\n",
       "      <th>23</th>\n",
       "      <td>Natsamrat</td>\n",
       "      <td>8.2</td>\n",
       "      <td>2016</td>\n",
       "    </tr>\n",
       "    <tr>\n",
       "      <th>24</th>\n",
       "      <td>Drishyam 2</td>\n",
       "      <td>8.2</td>\n",
       "      <td>2021</td>\n",
       "    </tr>\n",
       "    <tr>\n",
       "      <th>25</th>\n",
       "      <td>Asuran</td>\n",
       "      <td>8.2</td>\n",
       "      <td>2019</td>\n",
       "    </tr>\n",
       "    <tr>\n",
       "      <th>26</th>\n",
       "      <td>Sita Ramam</td>\n",
       "      <td>8.2</td>\n",
       "      <td>2022</td>\n",
       "    </tr>\n",
       "    <tr>\n",
       "      <th>27</th>\n",
       "      <td>Thevar Magan</td>\n",
       "      <td>8.2</td>\n",
       "      <td>1992</td>\n",
       "    </tr>\n",
       "    <tr>\n",
       "      <th>28</th>\n",
       "      <td>Visaaranai</td>\n",
       "      <td>8.2</td>\n",
       "      <td>2015</td>\n",
       "    </tr>\n",
       "    <tr>\n",
       "      <th>29</th>\n",
       "      <td>Sarpatta Parambarai</td>\n",
       "      <td>8.2</td>\n",
       "      <td>2021</td>\n",
       "    </tr>\n",
       "    <tr>\n",
       "      <th>30</th>\n",
       "      <td>Thalapathi</td>\n",
       "      <td>8.2</td>\n",
       "      <td>1991</td>\n",
       "    </tr>\n",
       "    <tr>\n",
       "      <th>31</th>\n",
       "      <td>Nadodikkattu</td>\n",
       "      <td>8.2</td>\n",
       "      <td>1987</td>\n",
       "    </tr>\n",
       "    <tr>\n",
       "      <th>32</th>\n",
       "      <td>Pather Panchali</td>\n",
       "      <td>8.2</td>\n",
       "      <td>1955</td>\n",
       "    </tr>\n",
       "    <tr>\n",
       "      <th>33</th>\n",
       "      <td>Drishyam</td>\n",
       "      <td>8.2</td>\n",
       "      <td>2013</td>\n",
       "    </tr>\n",
       "    <tr>\n",
       "      <th>34</th>\n",
       "      <td>Thani Oruvan</td>\n",
       "      <td>8.2</td>\n",
       "      <td>2015</td>\n",
       "    </tr>\n",
       "    <tr>\n",
       "      <th>35</th>\n",
       "      <td>Jaane Bhi Do Yaaro</td>\n",
       "      <td>8.2</td>\n",
       "      <td>1983</td>\n",
       "    </tr>\n",
       "    <tr>\n",
       "      <th>36</th>\n",
       "      <td>Vada Chennai</td>\n",
       "      <td>8.2</td>\n",
       "      <td>2018</td>\n",
       "    </tr>\n",
       "    <tr>\n",
       "      <th>37</th>\n",
       "      <td>Aparajito</td>\n",
       "      <td>8.2</td>\n",
       "      <td>1956</td>\n",
       "    </tr>\n",
       "    <tr>\n",
       "      <th>38</th>\n",
       "      <td>Sardar Udham</td>\n",
       "      <td>8.2</td>\n",
       "      <td>2021</td>\n",
       "    </tr>\n",
       "    <tr>\n",
       "      <th>39</th>\n",
       "      <td>Khosla Ka Ghosla!</td>\n",
       "      <td>8.2</td>\n",
       "      <td>2006</td>\n",
       "    </tr>\n",
       "    <tr>\n",
       "      <th>40</th>\n",
       "      <td>Anniyan</td>\n",
       "      <td>8.2</td>\n",
       "      <td>2005</td>\n",
       "    </tr>\n",
       "    <tr>\n",
       "      <th>41</th>\n",
       "      <td>Ratsasan</td>\n",
       "      <td>8.1</td>\n",
       "      <td>2018</td>\n",
       "    </tr>\n",
       "    <tr>\n",
       "      <th>42</th>\n",
       "      <td>Chupke Chupke</td>\n",
       "      <td>8.1</td>\n",
       "      <td>1975</td>\n",
       "    </tr>\n",
       "    <tr>\n",
       "      <th>43</th>\n",
       "      <td>Gangs of Wasseypur</td>\n",
       "      <td>8.1</td>\n",
       "      <td>2012</td>\n",
       "    </tr>\n",
       "    <tr>\n",
       "      <th>44</th>\n",
       "      <td>Drishyam</td>\n",
       "      <td>8.1</td>\n",
       "      <td>2015</td>\n",
       "    </tr>\n",
       "    <tr>\n",
       "      <th>45</th>\n",
       "      <td>Peranbu</td>\n",
       "      <td>8.1</td>\n",
       "      <td>2018</td>\n",
       "    </tr>\n",
       "    <tr>\n",
       "      <th>46</th>\n",
       "      <td>Mahanati</td>\n",
       "      <td>8.1</td>\n",
       "      <td>2018</td>\n",
       "    </tr>\n",
       "    <tr>\n",
       "      <th>47</th>\n",
       "      <td>Bangalore Days</td>\n",
       "      <td>8.1</td>\n",
       "      <td>2014</td>\n",
       "    </tr>\n",
       "    <tr>\n",
       "      <th>48</th>\n",
       "      <td>Satya</td>\n",
       "      <td>8.1</td>\n",
       "      <td>1998</td>\n",
       "    </tr>\n",
       "    <tr>\n",
       "      <th>49</th>\n",
       "      <td>Premam</td>\n",
       "      <td>8.1</td>\n",
       "      <td>2015</td>\n",
       "    </tr>\n",
       "  </tbody>\n",
       "</table>\n",
       "</div>"
      ],
      "text/plain": [
       "                                   name rating year of release\n",
       "0   Ramayana: The Legend of Prince Rama    8.6            1993\n",
       "1            Rocketry: The Nambi Effect    8.4            2022\n",
       "2                               Nayakan    8.4            1987\n",
       "3                              Gol Maal    8.4            1979\n",
       "4                           777 Charlie    8.4            2022\n",
       "5                            Anbe Sivam    8.4            2003\n",
       "6                     Pariyerum Perumal    8.4            2018\n",
       "7                              Jai Bhim    8.4            2021\n",
       "8                           Apur Sansar    8.4            1959\n",
       "9                              3 Idiots    8.4            2009\n",
       "10                     Manichitrathazhu    8.3            1993\n",
       "11                                #Home    8.3            2021\n",
       "12                      Soorarai Pottru    8.3            2020\n",
       "13                         Black Friday    8.3            2004\n",
       "14                    Kumbalangi Nights    8.3            2019\n",
       "15                    C/o Kancharapalem    8.3            2018\n",
       "16                     Taare Zameen Par    8.3            2007\n",
       "17                             Kireedam    8.3            1989\n",
       "18                               Dangal    8.3            2016\n",
       "19                               Kaithi    8.3            2019\n",
       "20                               Jersey    8.3            2019\n",
       "21                                   96    8.3            2018\n",
       "22                          Maya Bazaar    8.2            1957\n",
       "23                            Natsamrat    8.2            2016\n",
       "24                           Drishyam 2    8.2            2021\n",
       "25                               Asuran    8.2            2019\n",
       "26                           Sita Ramam    8.2            2022\n",
       "27                         Thevar Magan    8.2            1992\n",
       "28                           Visaaranai    8.2            2015\n",
       "29                  Sarpatta Parambarai    8.2            2021\n",
       "30                           Thalapathi    8.2            1991\n",
       "31                         Nadodikkattu    8.2            1987\n",
       "32                      Pather Panchali    8.2            1955\n",
       "33                             Drishyam    8.2            2013\n",
       "34                         Thani Oruvan    8.2            2015\n",
       "35                   Jaane Bhi Do Yaaro    8.2            1983\n",
       "36                         Vada Chennai    8.2            2018\n",
       "37                            Aparajito    8.2            1956\n",
       "38                         Sardar Udham    8.2            2021\n",
       "39                    Khosla Ka Ghosla!    8.2            2006\n",
       "40                              Anniyan    8.2            2005\n",
       "41                             Ratsasan    8.1            2018\n",
       "42                        Chupke Chupke    8.1            1975\n",
       "43                   Gangs of Wasseypur    8.1            2012\n",
       "44                             Drishyam    8.1            2015\n",
       "45                              Peranbu    8.1            2018\n",
       "46                             Mahanati    8.1            2018\n",
       "47                       Bangalore Days    8.1            2014\n",
       "48                                Satya    8.1            1998\n",
       "49                               Premam    8.1            2015"
      ]
     },
     "execution_count": 25,
     "metadata": {},
     "output_type": "execute_result"
    }
   ],
   "source": [
    "# making DataFrame\n",
    "Indian_movies = pd.DataFrame({'name':movies_50 , 'rating':rating_50 , 'year of release':yrs_50})\n",
    "\n",
    "print(\"\\033[1m\"+\"IMDB's Top Rated 50 Indian Movies\"+\"\\033[0m\")\n",
    "Indian_movies"
   ]
  },
  {
   "cell_type": "code",
   "execution_count": null,
   "id": "2d2e4fc0",
   "metadata": {},
   "outputs": [],
   "source": []
  },
  {
   "cell_type": "markdown",
   "id": "af061caf",
   "metadata": {},
   "source": [
    "#### 4) Write a python program to display list of respected former presidents of India(i.e. Name , Term ofoffice) from https://presidentofindia.nic.in/former-presidents.htm and make data frame."
   ]
  },
  {
   "cell_type": "code",
   "execution_count": 26,
   "id": "7ace2579",
   "metadata": {},
   "outputs": [],
   "source": [
    "# Import requried libraries\n",
    "\n",
    "import requests\n",
    "from bs4 import BeautifulSoup\n",
    "import pandas as pd"
   ]
  },
  {
   "cell_type": "code",
   "execution_count": 27,
   "id": "4ff319d4",
   "metadata": {},
   "outputs": [],
   "source": [
    "# send GET request\n",
    "\n",
    "page_4 = requests.get('https://presidentofindia.nic.in/former-presidents.htm')"
   ]
  },
  {
   "cell_type": "code",
   "execution_count": 28,
   "id": "5713a924",
   "metadata": {},
   "outputs": [
    {
     "data": {
      "text/plain": [
       "<Response [200]>"
      ]
     },
     "execution_count": 28,
     "metadata": {},
     "output_type": "execute_result"
    }
   ],
   "source": [
    "# checking response code\n",
    "page_4"
   ]
  },
  {
   "cell_type": "code",
   "execution_count": 29,
   "id": "31ce5a9c",
   "metadata": {},
   "outputs": [],
   "source": [
    "# page content\n",
    "S4 = BeautifulSoup(page_4.content)"
   ]
  },
  {
   "cell_type": "code",
   "execution_count": 30,
   "id": "9261fe20",
   "metadata": {},
   "outputs": [
    {
     "name": "stdout",
     "output_type": "stream",
     "text": [
      "president name:\n",
      " ['Shri Ram Nath Kovind', 'Shri Pranab Mukherjee', 'Smt Pratibha Devisingh Patil', 'DR. A.P.J. Abdul Kalam', 'Shri K. R. Narayanan', 'Dr Shankar Dayal Sharma', 'Shri R Venkataraman', 'Giani Zail Singh', 'Shri Neelam Sanjiva Reddy', 'Dr. Fakhruddin Ali Ahmed', 'Shri Varahagiri Venkata Giri', 'Dr. Zakir Husain', 'Dr. Sarvepalli Radhakrishnan', 'Dr. Rajendra Prasad'] \n",
      "\n",
      "terms of office:\n",
      " ['25 July, 2017 to 25 July, 2022 ', '25 July, 2012 to 25 July, 2017 ', '25 July, 2007 to 25 July, 2012 ', '25 July, 2002 to 25 July, 2007 ', '25 July, 1997 to 25 July, 2002 ', '25 July, 1992 to 25 July, 1997 ', '25 July, 1987 to 25 July, 1992 ', '25 July, 1982 to 25 July, 1987 ', '25 July, 1977 to 25 July, 1982 ', '24 August, 1974 to 11 February, 1977', '3 May, 1969 to 20 July, 1969 and 24 August, 1969 to 24 August, 1974', '13 May, 1967 to 3 May, 1969', '13 May, 1962 to 13 May, 1967', '26 January, 1950 to 13 May, 1962']\n"
     ]
    }
   ],
   "source": [
    "pre_name = []       # empty list\n",
    "term = []          # empty list\n",
    "\n",
    "for i in S4.find_all('div', class_=\"presidentListing\"):\n",
    "    pre_name.append(i.text.split('\\n')[1].split(' (')[0])\n",
    "    term.append(i.text.split(': ')[1].split('\\n')[0])\n",
    "    \n",
    "    \n",
    "print('president name:\\n',pre_name,'\\n\\nterms of office:\\n',term)\n"
   ]
  },
  {
   "cell_type": "code",
   "execution_count": 31,
   "id": "a9b9a532",
   "metadata": {},
   "outputs": [
    {
     "name": "stdout",
     "output_type": "stream",
     "text": [
      "14 14\n"
     ]
    }
   ],
   "source": [
    "print(len(pre_name),len(term))"
   ]
  },
  {
   "cell_type": "code",
   "execution_count": 32,
   "id": "476be98c",
   "metadata": {},
   "outputs": [
    {
     "name": "stdout",
     "output_type": "stream",
     "text": [
      "\u001b[1mFormer Presidents of India\u001b[0m\n"
     ]
    },
    {
     "data": {
      "text/html": [
       "<div>\n",
       "<style scoped>\n",
       "    .dataframe tbody tr th:only-of-type {\n",
       "        vertical-align: middle;\n",
       "    }\n",
       "\n",
       "    .dataframe tbody tr th {\n",
       "        vertical-align: top;\n",
       "    }\n",
       "\n",
       "    .dataframe thead th {\n",
       "        text-align: right;\n",
       "    }\n",
       "</style>\n",
       "<table border=\"1\" class=\"dataframe\">\n",
       "  <thead>\n",
       "    <tr style=\"text-align: right;\">\n",
       "      <th></th>\n",
       "      <th>Name</th>\n",
       "      <th>Terms of office</th>\n",
       "    </tr>\n",
       "  </thead>\n",
       "  <tbody>\n",
       "    <tr>\n",
       "      <th>0</th>\n",
       "      <td>Shri Ram Nath Kovind</td>\n",
       "      <td>25 July, 2017 to 25 July, 2022</td>\n",
       "    </tr>\n",
       "    <tr>\n",
       "      <th>1</th>\n",
       "      <td>Shri Pranab Mukherjee</td>\n",
       "      <td>25 July, 2012 to 25 July, 2017</td>\n",
       "    </tr>\n",
       "    <tr>\n",
       "      <th>2</th>\n",
       "      <td>Smt Pratibha Devisingh Patil</td>\n",
       "      <td>25 July, 2007 to 25 July, 2012</td>\n",
       "    </tr>\n",
       "    <tr>\n",
       "      <th>3</th>\n",
       "      <td>DR. A.P.J. Abdul Kalam</td>\n",
       "      <td>25 July, 2002 to 25 July, 2007</td>\n",
       "    </tr>\n",
       "    <tr>\n",
       "      <th>4</th>\n",
       "      <td>Shri K. R. Narayanan</td>\n",
       "      <td>25 July, 1997 to 25 July, 2002</td>\n",
       "    </tr>\n",
       "    <tr>\n",
       "      <th>5</th>\n",
       "      <td>Dr Shankar Dayal Sharma</td>\n",
       "      <td>25 July, 1992 to 25 July, 1997</td>\n",
       "    </tr>\n",
       "    <tr>\n",
       "      <th>6</th>\n",
       "      <td>Shri R Venkataraman</td>\n",
       "      <td>25 July, 1987 to 25 July, 1992</td>\n",
       "    </tr>\n",
       "    <tr>\n",
       "      <th>7</th>\n",
       "      <td>Giani Zail Singh</td>\n",
       "      <td>25 July, 1982 to 25 July, 1987</td>\n",
       "    </tr>\n",
       "    <tr>\n",
       "      <th>8</th>\n",
       "      <td>Shri Neelam Sanjiva Reddy</td>\n",
       "      <td>25 July, 1977 to 25 July, 1982</td>\n",
       "    </tr>\n",
       "    <tr>\n",
       "      <th>9</th>\n",
       "      <td>Dr. Fakhruddin Ali Ahmed</td>\n",
       "      <td>24 August, 1974 to 11 February, 1977</td>\n",
       "    </tr>\n",
       "    <tr>\n",
       "      <th>10</th>\n",
       "      <td>Shri Varahagiri Venkata Giri</td>\n",
       "      <td>3 May, 1969 to 20 July, 1969 and 24 August, 19...</td>\n",
       "    </tr>\n",
       "    <tr>\n",
       "      <th>11</th>\n",
       "      <td>Dr. Zakir Husain</td>\n",
       "      <td>13 May, 1967 to 3 May, 1969</td>\n",
       "    </tr>\n",
       "    <tr>\n",
       "      <th>12</th>\n",
       "      <td>Dr. Sarvepalli Radhakrishnan</td>\n",
       "      <td>13 May, 1962 to 13 May, 1967</td>\n",
       "    </tr>\n",
       "    <tr>\n",
       "      <th>13</th>\n",
       "      <td>Dr. Rajendra Prasad</td>\n",
       "      <td>26 January, 1950 to 13 May, 1962</td>\n",
       "    </tr>\n",
       "  </tbody>\n",
       "</table>\n",
       "</div>"
      ],
      "text/plain": [
       "                            Name  \\\n",
       "0           Shri Ram Nath Kovind   \n",
       "1          Shri Pranab Mukherjee   \n",
       "2   Smt Pratibha Devisingh Patil   \n",
       "3         DR. A.P.J. Abdul Kalam   \n",
       "4           Shri K. R. Narayanan   \n",
       "5        Dr Shankar Dayal Sharma   \n",
       "6            Shri R Venkataraman   \n",
       "7               Giani Zail Singh   \n",
       "8      Shri Neelam Sanjiva Reddy   \n",
       "9       Dr. Fakhruddin Ali Ahmed   \n",
       "10  Shri Varahagiri Venkata Giri   \n",
       "11              Dr. Zakir Husain   \n",
       "12  Dr. Sarvepalli Radhakrishnan   \n",
       "13           Dr. Rajendra Prasad   \n",
       "\n",
       "                                      Terms of office  \n",
       "0                     25 July, 2017 to 25 July, 2022   \n",
       "1                     25 July, 2012 to 25 July, 2017   \n",
       "2                     25 July, 2007 to 25 July, 2012   \n",
       "3                     25 July, 2002 to 25 July, 2007   \n",
       "4                     25 July, 1997 to 25 July, 2002   \n",
       "5                     25 July, 1992 to 25 July, 1997   \n",
       "6                     25 July, 1987 to 25 July, 1992   \n",
       "7                     25 July, 1982 to 25 July, 1987   \n",
       "8                     25 July, 1977 to 25 July, 1982   \n",
       "9                24 August, 1974 to 11 February, 1977  \n",
       "10  3 May, 1969 to 20 July, 1969 and 24 August, 19...  \n",
       "11                        13 May, 1967 to 3 May, 1969  \n",
       "12                       13 May, 1962 to 13 May, 1967  \n",
       "13                   26 January, 1950 to 13 May, 1962  "
      ]
     },
     "execution_count": 32,
     "metadata": {},
     "output_type": "execute_result"
    }
   ],
   "source": [
    "# making DataFrame\n",
    "former_presidents = pd.DataFrame({'Name':pre_name,'Terms of office':term})\n",
    "\n",
    "print(\"\\033[1m\"+\"Former Presidents of India\"+\"\\033[0m\")\n",
    "\n",
    "former_presidents"
   ]
  },
  {
   "cell_type": "code",
   "execution_count": null,
   "id": "c08e72fb",
   "metadata": {},
   "outputs": [],
   "source": []
  },
  {
   "cell_type": "markdown",
   "id": "8cd667ae",
   "metadata": {},
   "source": [
    "#### 5)  Write a python program to scrape cricket rankings from icc-cricket.com. You have to scrape and make data frame.\n",
    "#### a) Top 10 ODI teams in men’s cricket along with the records for matches, points and rating.\n",
    "#### b) Top 10 ODI Batsmen along with the records of their team and rating.\n",
    "#### c) Top 10 ODI bowlers along with the records of their team and rating."
   ]
  },
  {
   "cell_type": "code",
   "execution_count": 33,
   "id": "94067152",
   "metadata": {},
   "outputs": [],
   "source": [
    "# Import requried libraries\n",
    "\n",
    "import requests\n",
    "from bs4 import BeautifulSoup\n",
    "import pandas as pd"
   ]
  },
  {
   "cell_type": "markdown",
   "id": "c0a02aac",
   "metadata": {},
   "source": [
    "##### 5(a) Top 10 ODI teams in men's cricket"
   ]
  },
  {
   "cell_type": "code",
   "execution_count": 34,
   "id": "3c70f891",
   "metadata": {},
   "outputs": [],
   "source": [
    "# send GET request\n",
    "\n",
    "page_51 = requests.get('https://www.icc-cricket.com/rankings/mens/team-rankings/odi')"
   ]
  },
  {
   "cell_type": "code",
   "execution_count": 35,
   "id": "23acbbd9",
   "metadata": {},
   "outputs": [
    {
     "data": {
      "text/plain": [
       "<Response [200]>"
      ]
     },
     "execution_count": 35,
     "metadata": {},
     "output_type": "execute_result"
    }
   ],
   "source": [
    "# checking response code\n",
    "page_51"
   ]
  },
  {
   "cell_type": "code",
   "execution_count": 36,
   "id": "0828c06a",
   "metadata": {},
   "outputs": [],
   "source": [
    "# page content\n",
    "S51 = BeautifulSoup(page_51.content)"
   ]
  },
  {
   "cell_type": "code",
   "execution_count": 37,
   "id": "ad15597a",
   "metadata": {},
   "outputs": [
    {
     "data": {
      "text/plain": [
       "'35'"
      ]
     },
     "execution_count": 37,
     "metadata": {},
     "output_type": "execute_result"
    }
   ],
   "source": [
    "# rank first team matches\n",
    "first_Mm = S51.find('td', class_=\"rankings-block__banner--matches\")\n",
    "first_Mm = first_Mm.text\n",
    "first_Mm"
   ]
  },
  {
   "cell_type": "code",
   "execution_count": 38,
   "id": "4f61742c",
   "metadata": {},
   "outputs": [
    {
     "data": {
      "text/plain": [
       "'3,965'"
      ]
     },
     "execution_count": 38,
     "metadata": {},
     "output_type": "execute_result"
    }
   ],
   "source": [
    "# rank first team points\n",
    "first_Mpts = S51.find('td', class_=\"rankings-block__banner--points\")\n",
    "first_Mpts = first_Mpts.text\n",
    "first_Mpts"
   ]
  },
  {
   "cell_type": "code",
   "execution_count": 39,
   "id": "98b69f80",
   "metadata": {},
   "outputs": [
    {
     "data": {
      "text/plain": [
       "'113'"
      ]
     },
     "execution_count": 39,
     "metadata": {},
     "output_type": "execute_result"
    }
   ],
   "source": [
    "# rank first team rating\n",
    "first_Mr = S51.find('td', class_=\"rankings-block__banner--rating u-text-right\")\n",
    "first_Mr=first_Mr.text.split('\\n                            ')[1]\n",
    "first_Mr"
   ]
  },
  {
   "cell_type": "code",
   "execution_count": 40,
   "id": "2c6d43b4",
   "metadata": {},
   "outputs": [],
   "source": [
    "# empty lists\n",
    "team=[]\n",
    "matches=[]\n",
    "points=[]\n",
    "rating=[]"
   ]
  },
  {
   "cell_type": "code",
   "execution_count": 41,
   "id": "29353726",
   "metadata": {},
   "outputs": [
    {
     "data": {
      "text/plain": [
       "['Australia',\n",
       " 'India',\n",
       " 'New Zealand',\n",
       " 'England',\n",
       " 'Pakistan',\n",
       " 'South Africa',\n",
       " 'Bangladesh',\n",
       " 'Sri Lanka',\n",
       " 'West Indies',\n",
       " 'Afghanistan']"
      ]
     },
     "execution_count": 41,
     "metadata": {},
     "output_type": "execute_result"
    }
   ],
   "source": [
    "# 10 team name\n",
    "for i in S51.find_all('span', class_=\"u-hide-phablet\"):\n",
    "    team.append(i.text)\n",
    "    \n",
    "M_10team = team[:10]\n",
    "M_10team"
   ]
  },
  {
   "cell_type": "code",
   "execution_count": 42,
   "id": "799fe3a5",
   "metadata": {},
   "outputs": [],
   "source": [
    "# adding data in lists\n",
    "\n",
    "matches.append(first_Mm)\n",
    "points.append(first_Mpts)\n",
    "rating.append(first_Mr)"
   ]
  },
  {
   "cell_type": "code",
   "execution_count": 43,
   "id": "160fab70",
   "metadata": {},
   "outputs": [],
   "source": [
    "# matches and points\n",
    "for i in S51.find_all('tr', class_=\"table-body\"):\n",
    "    matches.append(i.text.split('\\n')[7])\n",
    "    points.append(i.text.split('\\n')[8])\n",
    "    \n",
    "M_10matches=matches[:10]\n",
    "M_10pts = points[:10]"
   ]
  },
  {
   "cell_type": "code",
   "execution_count": 44,
   "id": "dd546a95",
   "metadata": {},
   "outputs": [
    {
     "data": {
      "text/plain": [
       "['35', '47', '30', '36', '25', '29', '38', '35', '43', '20']"
      ]
     },
     "execution_count": 44,
     "metadata": {},
     "output_type": "execute_result"
    }
   ],
   "source": [
    "M_10matches"
   ]
  },
  {
   "cell_type": "code",
   "execution_count": 45,
   "id": "eeec9792",
   "metadata": {},
   "outputs": [
    {
     "data": {
      "text/plain": [
       "['3,965',\n",
       " '5,294',\n",
       " '3,367',\n",
       " '3,988',\n",
       " '2,649',\n",
       " '2,919',\n",
       " '3,625',\n",
       " '3,037',\n",
       " '3,105',\n",
       " '1,419']"
      ]
     },
     "execution_count": 45,
     "metadata": {},
     "output_type": "execute_result"
    }
   ],
   "source": [
    "M_10pts"
   ]
  },
  {
   "cell_type": "code",
   "execution_count": 46,
   "id": "9cfe328e",
   "metadata": {},
   "outputs": [
    {
     "data": {
      "text/plain": [
       "['113', '113', '112', '111', '106', '101', '95', '87', '72', '71']"
      ]
     },
     "execution_count": 46,
     "metadata": {},
     "output_type": "execute_result"
    }
   ],
   "source": [
    "# rating\n",
    "for i in S51.find_all('td',class_=\"table-body__cell u-text-right rating\"):\n",
    "    rating.append(i.text)\n",
    "    \n",
    "M_10rating = rating[:10]\n",
    "M_10rating"
   ]
  },
  {
   "cell_type": "code",
   "execution_count": 47,
   "id": "ac4c6cfc",
   "metadata": {},
   "outputs": [
    {
     "name": "stdout",
     "output_type": "stream",
     "text": [
      "10 10 10 10\n"
     ]
    }
   ],
   "source": [
    "print(len(M_10team),len(M_10matches),len(M_10pts),len(M_10rating))"
   ]
  },
  {
   "cell_type": "code",
   "execution_count": 48,
   "id": "fce640bc",
   "metadata": {},
   "outputs": [],
   "source": [
    "position = [1,2,3,4,5,6,7,8,9,10]"
   ]
  },
  {
   "cell_type": "code",
   "execution_count": 49,
   "id": "f4fac7b8",
   "metadata": {},
   "outputs": [
    {
     "name": "stdout",
     "output_type": "stream",
     "text": [
      "\u001b[1mTop 10 Men's ODI Team\u001b[0m\n"
     ]
    },
    {
     "data": {
      "text/html": [
       "<div>\n",
       "<style scoped>\n",
       "    .dataframe tbody tr th:only-of-type {\n",
       "        vertical-align: middle;\n",
       "    }\n",
       "\n",
       "    .dataframe tbody tr th {\n",
       "        vertical-align: top;\n",
       "    }\n",
       "\n",
       "    .dataframe thead th {\n",
       "        text-align: right;\n",
       "    }\n",
       "</style>\n",
       "<table border=\"1\" class=\"dataframe\">\n",
       "  <thead>\n",
       "    <tr style=\"text-align: right;\">\n",
       "      <th></th>\n",
       "      <th>Position</th>\n",
       "      <th>Team</th>\n",
       "      <th>Matches</th>\n",
       "      <th>Points</th>\n",
       "      <th>Rating</th>\n",
       "    </tr>\n",
       "  </thead>\n",
       "  <tbody>\n",
       "    <tr>\n",
       "      <th>0</th>\n",
       "      <td>1</td>\n",
       "      <td>Australia</td>\n",
       "      <td>35</td>\n",
       "      <td>3,965</td>\n",
       "      <td>113</td>\n",
       "    </tr>\n",
       "    <tr>\n",
       "      <th>1</th>\n",
       "      <td>2</td>\n",
       "      <td>India</td>\n",
       "      <td>47</td>\n",
       "      <td>5,294</td>\n",
       "      <td>113</td>\n",
       "    </tr>\n",
       "    <tr>\n",
       "      <th>2</th>\n",
       "      <td>3</td>\n",
       "      <td>New Zealand</td>\n",
       "      <td>30</td>\n",
       "      <td>3,367</td>\n",
       "      <td>112</td>\n",
       "    </tr>\n",
       "    <tr>\n",
       "      <th>3</th>\n",
       "      <td>4</td>\n",
       "      <td>England</td>\n",
       "      <td>36</td>\n",
       "      <td>3,988</td>\n",
       "      <td>111</td>\n",
       "    </tr>\n",
       "    <tr>\n",
       "      <th>4</th>\n",
       "      <td>5</td>\n",
       "      <td>Pakistan</td>\n",
       "      <td>25</td>\n",
       "      <td>2,649</td>\n",
       "      <td>106</td>\n",
       "    </tr>\n",
       "    <tr>\n",
       "      <th>5</th>\n",
       "      <td>6</td>\n",
       "      <td>South Africa</td>\n",
       "      <td>29</td>\n",
       "      <td>2,919</td>\n",
       "      <td>101</td>\n",
       "    </tr>\n",
       "    <tr>\n",
       "      <th>6</th>\n",
       "      <td>7</td>\n",
       "      <td>Bangladesh</td>\n",
       "      <td>38</td>\n",
       "      <td>3,625</td>\n",
       "      <td>95</td>\n",
       "    </tr>\n",
       "    <tr>\n",
       "      <th>7</th>\n",
       "      <td>8</td>\n",
       "      <td>Sri Lanka</td>\n",
       "      <td>35</td>\n",
       "      <td>3,037</td>\n",
       "      <td>87</td>\n",
       "    </tr>\n",
       "    <tr>\n",
       "      <th>8</th>\n",
       "      <td>9</td>\n",
       "      <td>West Indies</td>\n",
       "      <td>43</td>\n",
       "      <td>3,105</td>\n",
       "      <td>72</td>\n",
       "    </tr>\n",
       "    <tr>\n",
       "      <th>9</th>\n",
       "      <td>10</td>\n",
       "      <td>Afghanistan</td>\n",
       "      <td>20</td>\n",
       "      <td>1,419</td>\n",
       "      <td>71</td>\n",
       "    </tr>\n",
       "  </tbody>\n",
       "</table>\n",
       "</div>"
      ],
      "text/plain": [
       "   Position          Team Matches Points Rating\n",
       "0         1     Australia      35  3,965    113\n",
       "1         2         India      47  5,294    113\n",
       "2         3   New Zealand      30  3,367    112\n",
       "3         4       England      36  3,988    111\n",
       "4         5      Pakistan      25  2,649    106\n",
       "5         6  South Africa      29  2,919    101\n",
       "6         7    Bangladesh      38  3,625     95\n",
       "7         8     Sri Lanka      35  3,037     87\n",
       "8         9   West Indies      43  3,105     72\n",
       "9        10   Afghanistan      20  1,419     71"
      ]
     },
     "execution_count": 49,
     "metadata": {},
     "output_type": "execute_result"
    }
   ],
   "source": [
    "# making DataFrame\n",
    "\n",
    "Top_10team_men = pd.DataFrame({'Position':position,'Team':M_10team,'Matches':M_10matches,'Points':M_10pts,'Rating':M_10rating})\n",
    "\n",
    "print(\"\\033[1m\"+\"Top 10 Men's ODI Team\"+\"\\033[0m\")\n",
    "\n",
    "Top_10team_men"
   ]
  },
  {
   "cell_type": "code",
   "execution_count": 50,
   "id": "0af44b30",
   "metadata": {},
   "outputs": [],
   "source": [
    "# Data for 5(b) and 5(c) are on the same page\n",
    "# send GET request\n",
    "page_52 = requests.get('https://www.icc-cricket.com/rankings/mens/player-rankings/odi')"
   ]
  },
  {
   "cell_type": "code",
   "execution_count": 51,
   "id": "90344c70",
   "metadata": {},
   "outputs": [
    {
     "data": {
      "text/plain": [
       "<Response [200]>"
      ]
     },
     "execution_count": 51,
     "metadata": {},
     "output_type": "execute_result"
    }
   ],
   "source": [
    "# checking response code\n",
    "page_52"
   ]
  },
  {
   "cell_type": "code",
   "execution_count": 52,
   "id": "3a453022",
   "metadata": {},
   "outputs": [],
   "source": [
    "# page content\n",
    "S52 = BeautifulSoup(page_52.content)"
   ]
  },
  {
   "cell_type": "code",
   "execution_count": 53,
   "id": "083f56ee",
   "metadata": {
    "scrolled": true
   },
   "outputs": [
    {
     "data": {
      "text/plain": [
       "['Babar Azam', 'Josh Hazlewood']"
      ]
     },
     "execution_count": 53,
     "metadata": {},
     "output_type": "execute_result"
    }
   ],
   "source": [
    "# rank first players (batsman and bowler)\n",
    "banner_player_men = []     # empty list\n",
    "\n",
    "for i in S52.find_all('div', class_=\"rankings-block__banner--name\"):\n",
    "    banner_player_men.append(i.text)\n",
    "    \n",
    "banner_player_men[:2]"
   ]
  },
  {
   "cell_type": "code",
   "execution_count": 54,
   "id": "24d392c0",
   "metadata": {
    "scrolled": false
   },
   "outputs": [
    {
     "data": {
      "text/plain": [
       "['PAK', 'AUS']"
      ]
     },
     "execution_count": 54,
     "metadata": {},
     "output_type": "execute_result"
    }
   ],
   "source": [
    "# rank first player's team name\n",
    "banner_team_men = []     # empty list\n",
    "\n",
    "for i in S52.find_all('div',class_=\"rankings-block__banner--nationality\"):\n",
    "    banner_team_men.append(i.text.split('\\n')[2])\n",
    "    \n",
    "banner_team_men[:2]"
   ]
  },
  {
   "cell_type": "code",
   "execution_count": 55,
   "id": "24a0f094",
   "metadata": {},
   "outputs": [
    {
     "data": {
      "text/plain": [
       "['887', '705']"
      ]
     },
     "execution_count": 55,
     "metadata": {},
     "output_type": "execute_result"
    }
   ],
   "source": [
    "# rank first player rating\n",
    "banner_rating_men = []    # empty list\n",
    "\n",
    "for i in S52.find_all('div', class_=\"rankings-block__banner--rating\"):\n",
    "    banner_rating_men.append(i.text)\n",
    "    \n",
    "banner_rating_men[:2]"
   ]
  },
  {
   "cell_type": "code",
   "execution_count": 56,
   "id": "e6a22362",
   "metadata": {
    "scrolled": true
   },
   "outputs": [
    {
     "data": {
      "text/plain": [
       "['Rassie van der Dussen',\n",
       " 'Imam-ul-Haq',\n",
       " 'Quinton de Kock',\n",
       " 'Shubman Gill',\n",
       " 'David Warner',\n",
       " 'Virat Kohli',\n",
       " 'Rohit Sharma',\n",
       " 'Steve Smith',\n",
       " 'Fakhar Zaman',\n",
       " 'Trent Boult',\n",
       " 'Mohammed Siraj',\n",
       " 'Mitchell Starc',\n",
       " 'Rashid Khan',\n",
       " 'Adam Zampa',\n",
       " 'Shaheen Afridi',\n",
       " 'Mujeeb Ur Rahman',\n",
       " 'Shakib Al Hasan',\n",
       " 'Matt Henry']"
      ]
     },
     "execution_count": 56,
     "metadata": {},
     "output_type": "execute_result"
    }
   ],
   "source": [
    "cell_player_men = []    # empty list\n",
    "\n",
    "for i in S52.find_all('td', class_=\"table-body__cell name\"):\n",
    "    cell_player_men.append(i.text.split('\\n')[1])\n",
    "    \n",
    "cell_player_men[:18]"
   ]
  },
  {
   "cell_type": "code",
   "execution_count": 57,
   "id": "272c296a",
   "metadata": {},
   "outputs": [
    {
     "data": {
      "text/plain": [
       "['SA',\n",
       " 'PAK',\n",
       " 'SA',\n",
       " 'IND',\n",
       " 'AUS',\n",
       " 'IND',\n",
       " 'IND',\n",
       " 'AUS',\n",
       " 'PAK',\n",
       " 'NZ',\n",
       " 'IND',\n",
       " 'AUS',\n",
       " 'AFG',\n",
       " 'AUS',\n",
       " 'PAK',\n",
       " 'AFG',\n",
       " 'BAN',\n",
       " 'NZ']"
      ]
     },
     "execution_count": 57,
     "metadata": {},
     "output_type": "execute_result"
    }
   ],
   "source": [
    "cell_team_men = []     #empty list\n",
    "\n",
    "for i in S52.find_all('span', class_=\"table-body__logo-text\"):\n",
    "    cell_team_men.append(i.text)\n",
    "    \n",
    "cell_team_men[:18]"
   ]
  },
  {
   "cell_type": "code",
   "execution_count": 58,
   "id": "d1277809",
   "metadata": {},
   "outputs": [
    {
     "data": {
      "text/plain": [
       "['777',\n",
       " '740',\n",
       " '740',\n",
       " '738',\n",
       " '726',\n",
       " '719',\n",
       " '707',\n",
       " '702',\n",
       " '699',\n",
       " '701',\n",
       " '691',\n",
       " '686',\n",
       " '659',\n",
       " '652',\n",
       " '641',\n",
       " '637',\n",
       " '636',\n",
       " '635']"
      ]
     },
     "execution_count": 58,
     "metadata": {},
     "output_type": "execute_result"
    }
   ],
   "source": [
    "cell_rating_men = []     #empty list\n",
    "\n",
    "for i in S52.find_all('td', class_=\"table-body__cell u-text-right rating\"):\n",
    "    cell_rating_men.append(i.text)\n",
    "    \n",
    "cell_rating_men[:18]"
   ]
  },
  {
   "cell_type": "code",
   "execution_count": 59,
   "id": "59906dc1",
   "metadata": {},
   "outputs": [],
   "source": [
    "# creating empty lists\n",
    "P_batting_men = []\n",
    "T_batting_men = []\n",
    "R_batting_men = []\n",
    "P_bowling_men = []\n",
    "T_bowling_men = []\n",
    "R_bowling_men = []"
   ]
  },
  {
   "cell_type": "markdown",
   "id": "43fea63d",
   "metadata": {},
   "source": [
    "##### 5(b) top 10 ODI batsmen"
   ]
  },
  {
   "cell_type": "code",
   "execution_count": 60,
   "id": "e8507996",
   "metadata": {},
   "outputs": [
    {
     "data": {
      "text/plain": [
       "['Babar Azam',\n",
       " 'Rassie van der Dussen',\n",
       " 'Imam-ul-Haq',\n",
       " 'Quinton de Kock',\n",
       " 'Shubman Gill',\n",
       " 'David Warner',\n",
       " 'Virat Kohli',\n",
       " 'Rohit Sharma',\n",
       " 'Steve Smith',\n",
       " 'Fakhar Zaman']"
      ]
     },
     "execution_count": 60,
     "metadata": {},
     "output_type": "execute_result"
    }
   ],
   "source": [
    "# players name\n",
    "P_batting_men.append(banner_player_men[0])\n",
    "\n",
    "for i in cell_player_men[:9]:\n",
    "    P_batting_men.append(i)\n",
    "    \n",
    "P_batting_men"
   ]
  },
  {
   "cell_type": "code",
   "execution_count": 61,
   "id": "e730bf22",
   "metadata": {},
   "outputs": [
    {
     "data": {
      "text/plain": [
       "['PAK', 'SA', 'PAK', 'SA', 'IND', 'AUS', 'IND', 'IND', 'AUS', 'PAK']"
      ]
     },
     "execution_count": 61,
     "metadata": {},
     "output_type": "execute_result"
    }
   ],
   "source": [
    "# team name\n",
    "T_batting_men.append(banner_team_men[0])\n",
    "\n",
    "for i in cell_team_men[:9]:\n",
    "    T_batting_men.append(i)\n",
    "    \n",
    "T_batting_men"
   ]
  },
  {
   "cell_type": "code",
   "execution_count": 62,
   "id": "fbe15f47",
   "metadata": {},
   "outputs": [
    {
     "data": {
      "text/plain": [
       "['887', '777', '740', '740', '738', '726', '719', '707', '702', '699']"
      ]
     },
     "execution_count": 62,
     "metadata": {},
     "output_type": "execute_result"
    }
   ],
   "source": [
    "# rating\n",
    "R_batting_men.append(banner_rating_men[0])\n",
    "\n",
    "for i in cell_rating_men[:9]:\n",
    "    R_batting_men.append(i)\n",
    "    \n",
    "R_batting_men"
   ]
  },
  {
   "cell_type": "code",
   "execution_count": 63,
   "id": "ec8c06ec",
   "metadata": {},
   "outputs": [
    {
     "name": "stdout",
     "output_type": "stream",
     "text": [
      "10 10 10\n"
     ]
    }
   ],
   "source": [
    "print(len(P_batting_men),len(T_batting_men),len(R_batting_men))"
   ]
  },
  {
   "cell_type": "code",
   "execution_count": 64,
   "id": "e915f981",
   "metadata": {},
   "outputs": [
    {
     "name": "stdout",
     "output_type": "stream",
     "text": [
      "\u001b[1mTop 10 Men's ODI Batting Rankings\u001b[0m\n"
     ]
    },
    {
     "data": {
      "text/html": [
       "<div>\n",
       "<style scoped>\n",
       "    .dataframe tbody tr th:only-of-type {\n",
       "        vertical-align: middle;\n",
       "    }\n",
       "\n",
       "    .dataframe tbody tr th {\n",
       "        vertical-align: top;\n",
       "    }\n",
       "\n",
       "    .dataframe thead th {\n",
       "        text-align: right;\n",
       "    }\n",
       "</style>\n",
       "<table border=\"1\" class=\"dataframe\">\n",
       "  <thead>\n",
       "    <tr style=\"text-align: right;\">\n",
       "      <th></th>\n",
       "      <th>Position</th>\n",
       "      <th>Player</th>\n",
       "      <th>Team</th>\n",
       "      <th>Rating</th>\n",
       "    </tr>\n",
       "  </thead>\n",
       "  <tbody>\n",
       "    <tr>\n",
       "      <th>0</th>\n",
       "      <td>1</td>\n",
       "      <td>Babar Azam</td>\n",
       "      <td>PAK</td>\n",
       "      <td>887</td>\n",
       "    </tr>\n",
       "    <tr>\n",
       "      <th>1</th>\n",
       "      <td>2</td>\n",
       "      <td>Rassie van der Dussen</td>\n",
       "      <td>SA</td>\n",
       "      <td>777</td>\n",
       "    </tr>\n",
       "    <tr>\n",
       "      <th>2</th>\n",
       "      <td>3</td>\n",
       "      <td>Imam-ul-Haq</td>\n",
       "      <td>PAK</td>\n",
       "      <td>740</td>\n",
       "    </tr>\n",
       "    <tr>\n",
       "      <th>3</th>\n",
       "      <td>4</td>\n",
       "      <td>Quinton de Kock</td>\n",
       "      <td>SA</td>\n",
       "      <td>740</td>\n",
       "    </tr>\n",
       "    <tr>\n",
       "      <th>4</th>\n",
       "      <td>5</td>\n",
       "      <td>Shubman Gill</td>\n",
       "      <td>IND</td>\n",
       "      <td>738</td>\n",
       "    </tr>\n",
       "    <tr>\n",
       "      <th>5</th>\n",
       "      <td>6</td>\n",
       "      <td>David Warner</td>\n",
       "      <td>AUS</td>\n",
       "      <td>726</td>\n",
       "    </tr>\n",
       "    <tr>\n",
       "      <th>6</th>\n",
       "      <td>7</td>\n",
       "      <td>Virat Kohli</td>\n",
       "      <td>IND</td>\n",
       "      <td>719</td>\n",
       "    </tr>\n",
       "    <tr>\n",
       "      <th>7</th>\n",
       "      <td>8</td>\n",
       "      <td>Rohit Sharma</td>\n",
       "      <td>IND</td>\n",
       "      <td>707</td>\n",
       "    </tr>\n",
       "    <tr>\n",
       "      <th>8</th>\n",
       "      <td>9</td>\n",
       "      <td>Steve Smith</td>\n",
       "      <td>AUS</td>\n",
       "      <td>702</td>\n",
       "    </tr>\n",
       "    <tr>\n",
       "      <th>9</th>\n",
       "      <td>10</td>\n",
       "      <td>Fakhar Zaman</td>\n",
       "      <td>PAK</td>\n",
       "      <td>699</td>\n",
       "    </tr>\n",
       "  </tbody>\n",
       "</table>\n",
       "</div>"
      ],
      "text/plain": [
       "   Position                 Player Team Rating\n",
       "0         1             Babar Azam  PAK    887\n",
       "1         2  Rassie van der Dussen   SA    777\n",
       "2         3            Imam-ul-Haq  PAK    740\n",
       "3         4        Quinton de Kock   SA    740\n",
       "4         5           Shubman Gill  IND    738\n",
       "5         6           David Warner  AUS    726\n",
       "6         7            Virat Kohli  IND    719\n",
       "7         8           Rohit Sharma  IND    707\n",
       "8         9            Steve Smith  AUS    702\n",
       "9        10           Fakhar Zaman  PAK    699"
      ]
     },
     "execution_count": 64,
     "metadata": {},
     "output_type": "execute_result"
    }
   ],
   "source": [
    "# making DataFrame\n",
    "ODI_batting_ranking_men =pd.DataFrame({'Position':position,'Player':P_batting_men,'Team':T_batting_men,'Rating':R_batting_men})\n",
    "print(\"\\033[1m\"+\"Top 10 Men's ODI Batting Rankings\"+\"\\033[0m\")\n",
    "\n",
    "ODI_batting_ranking_men"
   ]
  },
  {
   "cell_type": "markdown",
   "id": "22565fed",
   "metadata": {},
   "source": [
    "##### 5(c) top 10 ODI bowlers"
   ]
  },
  {
   "cell_type": "code",
   "execution_count": 65,
   "id": "4d40dbe2",
   "metadata": {},
   "outputs": [
    {
     "data": {
      "text/plain": [
       "['Josh Hazlewood',\n",
       " 'Trent Boult',\n",
       " 'Mohammed Siraj',\n",
       " 'Mitchell Starc',\n",
       " 'Rashid Khan',\n",
       " 'Adam Zampa',\n",
       " 'Shaheen Afridi',\n",
       " 'Mujeeb Ur Rahman',\n",
       " 'Shakib Al Hasan',\n",
       " 'Matt Henry']"
      ]
     },
     "execution_count": 65,
     "metadata": {},
     "output_type": "execute_result"
    }
   ],
   "source": [
    "# players name\n",
    "P_bowling_men.append(banner_player_men[1])\n",
    "\n",
    "for i in cell_player_men[9:18]:\n",
    "    P_bowling_men.append(i)\n",
    "    \n",
    "P_bowling_men    "
   ]
  },
  {
   "cell_type": "code",
   "execution_count": 66,
   "id": "9ecb3a25",
   "metadata": {},
   "outputs": [
    {
     "data": {
      "text/plain": [
       "['AUS', 'NZ', 'IND', 'AUS', 'AFG', 'AUS', 'PAK', 'AFG', 'BAN', 'NZ']"
      ]
     },
     "execution_count": 66,
     "metadata": {},
     "output_type": "execute_result"
    }
   ],
   "source": [
    "# team name\n",
    "T_bowling_men.append(banner_team_men[1])\n",
    "\n",
    "for i in cell_team_men[9:18]:\n",
    "    T_bowling_men.append(i)\n",
    "    \n",
    "T_bowling_men    "
   ]
  },
  {
   "cell_type": "code",
   "execution_count": 67,
   "id": "4be510f9",
   "metadata": {},
   "outputs": [
    {
     "data": {
      "text/plain": [
       "['705', '701', '691', '686', '659', '652', '641', '637', '636', '635']"
      ]
     },
     "execution_count": 67,
     "metadata": {},
     "output_type": "execute_result"
    }
   ],
   "source": [
    "# rating\n",
    "R_bowling_men.append(banner_rating_men[1])\n",
    "\n",
    "for i in cell_rating_men[9:18]:\n",
    "    R_bowling_men.append(i)\n",
    "    \n",
    "R_bowling_men    "
   ]
  },
  {
   "cell_type": "code",
   "execution_count": 68,
   "id": "bae81dd4",
   "metadata": {},
   "outputs": [
    {
     "name": "stdout",
     "output_type": "stream",
     "text": [
      "10 10 10\n"
     ]
    }
   ],
   "source": [
    "print(len(P_bowling_men),len(T_bowling_men),len(R_bowling_men))"
   ]
  },
  {
   "cell_type": "code",
   "execution_count": 69,
   "id": "d8ebc981",
   "metadata": {},
   "outputs": [
    {
     "name": "stdout",
     "output_type": "stream",
     "text": [
      "\u001b[1mTop 10 ODI Men's Bowling Rankings\u001b[0m\n"
     ]
    },
    {
     "data": {
      "text/html": [
       "<div>\n",
       "<style scoped>\n",
       "    .dataframe tbody tr th:only-of-type {\n",
       "        vertical-align: middle;\n",
       "    }\n",
       "\n",
       "    .dataframe tbody tr th {\n",
       "        vertical-align: top;\n",
       "    }\n",
       "\n",
       "    .dataframe thead th {\n",
       "        text-align: right;\n",
       "    }\n",
       "</style>\n",
       "<table border=\"1\" class=\"dataframe\">\n",
       "  <thead>\n",
       "    <tr style=\"text-align: right;\">\n",
       "      <th></th>\n",
       "      <th>Position</th>\n",
       "      <th>Player</th>\n",
       "      <th>Team</th>\n",
       "      <th>Rating</th>\n",
       "    </tr>\n",
       "  </thead>\n",
       "  <tbody>\n",
       "    <tr>\n",
       "      <th>0</th>\n",
       "      <td>1</td>\n",
       "      <td>Josh Hazlewood</td>\n",
       "      <td>AUS</td>\n",
       "      <td>705</td>\n",
       "    </tr>\n",
       "    <tr>\n",
       "      <th>1</th>\n",
       "      <td>2</td>\n",
       "      <td>Trent Boult</td>\n",
       "      <td>NZ</td>\n",
       "      <td>701</td>\n",
       "    </tr>\n",
       "    <tr>\n",
       "      <th>2</th>\n",
       "      <td>3</td>\n",
       "      <td>Mohammed Siraj</td>\n",
       "      <td>IND</td>\n",
       "      <td>691</td>\n",
       "    </tr>\n",
       "    <tr>\n",
       "      <th>3</th>\n",
       "      <td>4</td>\n",
       "      <td>Mitchell Starc</td>\n",
       "      <td>AUS</td>\n",
       "      <td>686</td>\n",
       "    </tr>\n",
       "    <tr>\n",
       "      <th>4</th>\n",
       "      <td>5</td>\n",
       "      <td>Rashid Khan</td>\n",
       "      <td>AFG</td>\n",
       "      <td>659</td>\n",
       "    </tr>\n",
       "    <tr>\n",
       "      <th>5</th>\n",
       "      <td>6</td>\n",
       "      <td>Adam Zampa</td>\n",
       "      <td>AUS</td>\n",
       "      <td>652</td>\n",
       "    </tr>\n",
       "    <tr>\n",
       "      <th>6</th>\n",
       "      <td>7</td>\n",
       "      <td>Shaheen Afridi</td>\n",
       "      <td>PAK</td>\n",
       "      <td>641</td>\n",
       "    </tr>\n",
       "    <tr>\n",
       "      <th>7</th>\n",
       "      <td>8</td>\n",
       "      <td>Mujeeb Ur Rahman</td>\n",
       "      <td>AFG</td>\n",
       "      <td>637</td>\n",
       "    </tr>\n",
       "    <tr>\n",
       "      <th>8</th>\n",
       "      <td>9</td>\n",
       "      <td>Shakib Al Hasan</td>\n",
       "      <td>BAN</td>\n",
       "      <td>636</td>\n",
       "    </tr>\n",
       "    <tr>\n",
       "      <th>9</th>\n",
       "      <td>10</td>\n",
       "      <td>Matt Henry</td>\n",
       "      <td>NZ</td>\n",
       "      <td>635</td>\n",
       "    </tr>\n",
       "  </tbody>\n",
       "</table>\n",
       "</div>"
      ],
      "text/plain": [
       "   Position            Player Team Rating\n",
       "0         1    Josh Hazlewood  AUS    705\n",
       "1         2       Trent Boult   NZ    701\n",
       "2         3    Mohammed Siraj  IND    691\n",
       "3         4    Mitchell Starc  AUS    686\n",
       "4         5       Rashid Khan  AFG    659\n",
       "5         6        Adam Zampa  AUS    652\n",
       "6         7    Shaheen Afridi  PAK    641\n",
       "7         8  Mujeeb Ur Rahman  AFG    637\n",
       "8         9   Shakib Al Hasan  BAN    636\n",
       "9        10        Matt Henry   NZ    635"
      ]
     },
     "execution_count": 69,
     "metadata": {},
     "output_type": "execute_result"
    }
   ],
   "source": [
    "# making dataframe\n",
    "ODI_bowling_ranking_men = pd.DataFrame({'Position':position,'Player':P_bowling_men,'Team':T_bowling_men,'Rating':R_bowling_men})\n",
    "print(\"\\033[1m\"+\"Top 10 ODI Men's Bowling Rankings\"+\"\\033[0m\")\n",
    "\n",
    "ODI_bowling_ranking_men"
   ]
  },
  {
   "cell_type": "code",
   "execution_count": null,
   "id": "53e2b5d9",
   "metadata": {},
   "outputs": [],
   "source": []
  },
  {
   "cell_type": "markdown",
   "id": "de0c4c99",
   "metadata": {},
   "source": [
    "#### 6) Write a python program to scrape cricket rankings from icc-cricket.com. You have to scrape and make data frame.\n",
    "####  a) Top 10 ODI teams in women’s cricket along with the records for matches, points and rating.\n",
    "####  b) Top 10 women’s ODI Batting players along with the records of their team and rating.\n",
    "####  c) Top 10 women’s ODI all-rounder along with the records of their team and rating."
   ]
  },
  {
   "cell_type": "code",
   "execution_count": 70,
   "id": "0d3974a6",
   "metadata": {},
   "outputs": [],
   "source": [
    "# Import requried libraries\n",
    "\n",
    "import requests\n",
    "from bs4 import BeautifulSoup\n",
    "import pandas as pd"
   ]
  },
  {
   "cell_type": "markdown",
   "id": "fe15b618",
   "metadata": {},
   "source": [
    "##### 6(a) Top 10 ODI teams in women's cricket"
   ]
  },
  {
   "cell_type": "code",
   "execution_count": 71,
   "id": "dd9a3f44",
   "metadata": {},
   "outputs": [],
   "source": [
    "# send GET request\n",
    "\n",
    "page_61 = requests.get('https://www.icc-cricket.com/rankings/womens/team-rankings/odi')"
   ]
  },
  {
   "cell_type": "code",
   "execution_count": 72,
   "id": "234be590",
   "metadata": {},
   "outputs": [
    {
     "data": {
      "text/plain": [
       "<Response [200]>"
      ]
     },
     "execution_count": 72,
     "metadata": {},
     "output_type": "execute_result"
    }
   ],
   "source": [
    "# checking response code\n",
    "page_61"
   ]
  },
  {
   "cell_type": "code",
   "execution_count": 73,
   "id": "be9e5ea4",
   "metadata": {},
   "outputs": [],
   "source": [
    "# page content\n",
    "S61 = BeautifulSoup(page_61.content)"
   ]
  },
  {
   "cell_type": "code",
   "execution_count": 74,
   "id": "d80ca745",
   "metadata": {},
   "outputs": [
    {
     "data": {
      "text/plain": [
       "'21'"
      ]
     },
     "execution_count": 74,
     "metadata": {},
     "output_type": "execute_result"
    }
   ],
   "source": [
    "# rank first team matches\n",
    "first_Wm = S61.find('td', class_=\"rankings-block__banner--matches\")\n",
    "first_Wm = first_Wm.text\n",
    "first_Wm"
   ]
  },
  {
   "cell_type": "code",
   "execution_count": 75,
   "id": "b9fec9c7",
   "metadata": {},
   "outputs": [
    {
     "data": {
      "text/plain": [
       "'3,603'"
      ]
     },
     "execution_count": 75,
     "metadata": {},
     "output_type": "execute_result"
    }
   ],
   "source": [
    "# rank first team points\n",
    "first_Wpts = S61.find('td', class_=\"rankings-block__banner--points\")\n",
    "first_Wpts = first_Wpts.text\n",
    "first_Wpts"
   ]
  },
  {
   "cell_type": "code",
   "execution_count": 76,
   "id": "83d81769",
   "metadata": {},
   "outputs": [
    {
     "data": {
      "text/plain": [
       "'172'"
      ]
     },
     "execution_count": 76,
     "metadata": {},
     "output_type": "execute_result"
    }
   ],
   "source": [
    "# rank first team rating \n",
    "first_Wr = S61.find('td', class_=\"rankings-block__banner--rating u-text-right\")\n",
    "first_Wr=first_Wr.text.split('\\n                            ')[1]\n",
    "first_Wr"
   ]
  },
  {
   "cell_type": "code",
   "execution_count": 77,
   "id": "70096c04",
   "metadata": {},
   "outputs": [],
   "source": [
    "# empty lists\n",
    "team_W=[]\n",
    "matches_W=[]\n",
    "points_W=[]\n",
    "rating_W=[]"
   ]
  },
  {
   "cell_type": "code",
   "execution_count": 78,
   "id": "fd17ecd4",
   "metadata": {},
   "outputs": [
    {
     "data": {
      "text/plain": [
       "['Australia',\n",
       " 'England',\n",
       " 'South Africa',\n",
       " 'India',\n",
       " 'New Zealand',\n",
       " 'West Indies',\n",
       " 'Bangladesh',\n",
       " 'Thailand',\n",
       " 'Pakistan',\n",
       " 'Sri Lanka']"
      ]
     },
     "execution_count": 78,
     "metadata": {},
     "output_type": "execute_result"
    }
   ],
   "source": [
    "# top 10 team name\n",
    "for i in S61.find_all('span', class_=\"u-hide-phablet\"):\n",
    "    team_W.append(i.text)\n",
    "    \n",
    "W_10team = team_W[:10]\n",
    "W_10team"
   ]
  },
  {
   "cell_type": "code",
   "execution_count": 79,
   "id": "ce0b3255",
   "metadata": {},
   "outputs": [],
   "source": [
    "# adding data in lists\n",
    "\n",
    "matches_W.append(first_Wm)\n",
    "points_W.append(first_Wpts)\n",
    "rating_W.append(first_Wr)"
   ]
  },
  {
   "cell_type": "code",
   "execution_count": 80,
   "id": "12f72be4",
   "metadata": {},
   "outputs": [],
   "source": [
    "# matches and points\n",
    "for i in S61.find_all('tr', class_=\"table-body\"):\n",
    "    matches_W.append(i.text.split('\\n')[7])\n",
    "    points_W.append(i.text.split('\\n')[8])\n",
    "    \n",
    "W_10matches=matches_W[:10]\n",
    "W_10pts = points_W[:10]"
   ]
  },
  {
   "cell_type": "code",
   "execution_count": 81,
   "id": "b0017e88",
   "metadata": {},
   "outputs": [
    {
     "data": {
      "text/plain": [
       "['21', '28', '26', '27', '25', '27', '13', '8', '27', '8']"
      ]
     },
     "execution_count": 81,
     "metadata": {},
     "output_type": "execute_result"
    }
   ],
   "source": [
    "W_10matches"
   ]
  },
  {
   "cell_type": "code",
   "execution_count": 82,
   "id": "37264e63",
   "metadata": {},
   "outputs": [
    {
     "data": {
      "text/plain": [
       "['3,603',\n",
       " '3,342',\n",
       " '3,098',\n",
       " '2,820',\n",
       " '2,553',\n",
       " '2,535',\n",
       " '983',\n",
       " '572',\n",
       " '1,678',\n",
       " '353']"
      ]
     },
     "execution_count": 82,
     "metadata": {},
     "output_type": "execute_result"
    }
   ],
   "source": [
    "W_10pts"
   ]
  },
  {
   "cell_type": "code",
   "execution_count": 83,
   "id": "c676416f",
   "metadata": {},
   "outputs": [
    {
     "data": {
      "text/plain": [
       "['172', '119', '119', '104', '102', '94', '76', '72', '62', '44']"
      ]
     },
     "execution_count": 83,
     "metadata": {},
     "output_type": "execute_result"
    }
   ],
   "source": [
    "# rating\n",
    "for i in S61.find_all('td',class_=\"table-body__cell u-text-right rating\"):\n",
    "    rating_W.append(i.text)\n",
    "    \n",
    "W_10rating = rating_W[:10]\n",
    "W_10rating"
   ]
  },
  {
   "cell_type": "code",
   "execution_count": 84,
   "id": "fee883a8",
   "metadata": {},
   "outputs": [
    {
     "name": "stdout",
     "output_type": "stream",
     "text": [
      "10 10 10 10\n"
     ]
    }
   ],
   "source": [
    "print(len(W_10team),len(W_10matches),len(W_10pts),len(W_10rating))"
   ]
  },
  {
   "cell_type": "code",
   "execution_count": 85,
   "id": "501843a7",
   "metadata": {},
   "outputs": [],
   "source": [
    "position = [1,2,3,4,5,6,7,8,9,10]"
   ]
  },
  {
   "cell_type": "code",
   "execution_count": 86,
   "id": "d68ab914",
   "metadata": {},
   "outputs": [
    {
     "name": "stdout",
     "output_type": "stream",
     "text": [
      "\u001b[1mTop 10 Women's ODI Team\u001b[0m\n"
     ]
    },
    {
     "data": {
      "text/html": [
       "<div>\n",
       "<style scoped>\n",
       "    .dataframe tbody tr th:only-of-type {\n",
       "        vertical-align: middle;\n",
       "    }\n",
       "\n",
       "    .dataframe tbody tr th {\n",
       "        vertical-align: top;\n",
       "    }\n",
       "\n",
       "    .dataframe thead th {\n",
       "        text-align: right;\n",
       "    }\n",
       "</style>\n",
       "<table border=\"1\" class=\"dataframe\">\n",
       "  <thead>\n",
       "    <tr style=\"text-align: right;\">\n",
       "      <th></th>\n",
       "      <th>Position</th>\n",
       "      <th>Team</th>\n",
       "      <th>Matches</th>\n",
       "      <th>Points</th>\n",
       "      <th>Rating</th>\n",
       "    </tr>\n",
       "  </thead>\n",
       "  <tbody>\n",
       "    <tr>\n",
       "      <th>0</th>\n",
       "      <td>1</td>\n",
       "      <td>Australia</td>\n",
       "      <td>21</td>\n",
       "      <td>3,603</td>\n",
       "      <td>172</td>\n",
       "    </tr>\n",
       "    <tr>\n",
       "      <th>1</th>\n",
       "      <td>2</td>\n",
       "      <td>England</td>\n",
       "      <td>28</td>\n",
       "      <td>3,342</td>\n",
       "      <td>119</td>\n",
       "    </tr>\n",
       "    <tr>\n",
       "      <th>2</th>\n",
       "      <td>3</td>\n",
       "      <td>South Africa</td>\n",
       "      <td>26</td>\n",
       "      <td>3,098</td>\n",
       "      <td>119</td>\n",
       "    </tr>\n",
       "    <tr>\n",
       "      <th>3</th>\n",
       "      <td>4</td>\n",
       "      <td>India</td>\n",
       "      <td>27</td>\n",
       "      <td>2,820</td>\n",
       "      <td>104</td>\n",
       "    </tr>\n",
       "    <tr>\n",
       "      <th>4</th>\n",
       "      <td>5</td>\n",
       "      <td>New Zealand</td>\n",
       "      <td>25</td>\n",
       "      <td>2,553</td>\n",
       "      <td>102</td>\n",
       "    </tr>\n",
       "    <tr>\n",
       "      <th>5</th>\n",
       "      <td>6</td>\n",
       "      <td>West Indies</td>\n",
       "      <td>27</td>\n",
       "      <td>2,535</td>\n",
       "      <td>94</td>\n",
       "    </tr>\n",
       "    <tr>\n",
       "      <th>6</th>\n",
       "      <td>7</td>\n",
       "      <td>Bangladesh</td>\n",
       "      <td>13</td>\n",
       "      <td>983</td>\n",
       "      <td>76</td>\n",
       "    </tr>\n",
       "    <tr>\n",
       "      <th>7</th>\n",
       "      <td>8</td>\n",
       "      <td>Thailand</td>\n",
       "      <td>8</td>\n",
       "      <td>572</td>\n",
       "      <td>72</td>\n",
       "    </tr>\n",
       "    <tr>\n",
       "      <th>8</th>\n",
       "      <td>9</td>\n",
       "      <td>Pakistan</td>\n",
       "      <td>27</td>\n",
       "      <td>1,678</td>\n",
       "      <td>62</td>\n",
       "    </tr>\n",
       "    <tr>\n",
       "      <th>9</th>\n",
       "      <td>10</td>\n",
       "      <td>Sri Lanka</td>\n",
       "      <td>8</td>\n",
       "      <td>353</td>\n",
       "      <td>44</td>\n",
       "    </tr>\n",
       "  </tbody>\n",
       "</table>\n",
       "</div>"
      ],
      "text/plain": [
       "   Position          Team Matches Points Rating\n",
       "0         1     Australia      21  3,603    172\n",
       "1         2       England      28  3,342    119\n",
       "2         3  South Africa      26  3,098    119\n",
       "3         4         India      27  2,820    104\n",
       "4         5   New Zealand      25  2,553    102\n",
       "5         6   West Indies      27  2,535     94\n",
       "6         7    Bangladesh      13    983     76\n",
       "7         8      Thailand       8    572     72\n",
       "8         9      Pakistan      27  1,678     62\n",
       "9        10     Sri Lanka       8    353     44"
      ]
     },
     "execution_count": 86,
     "metadata": {},
     "output_type": "execute_result"
    }
   ],
   "source": [
    "# making DataFrame\n",
    "\n",
    "Top_10team_women = pd.DataFrame({'Position':position,'Team':W_10team,'Matches':W_10matches,'Points':W_10pts,'Rating':W_10rating})\n",
    "\n",
    "print(\"\\033[1m\"+\"Top 10 Women's ODI Team\"+\"\\033[0m\")\n",
    "\n",
    "Top_10team_women"
   ]
  },
  {
   "cell_type": "code",
   "execution_count": 87,
   "id": "bbb21259",
   "metadata": {},
   "outputs": [],
   "source": [
    "# Data for 6(b) and 6(c) are on the same page\n",
    "# send GET request\n",
    "page_62 = requests.get('https://www.icc-cricket.com/rankings/womens/player-rankings/odi')"
   ]
  },
  {
   "cell_type": "code",
   "execution_count": 88,
   "id": "c7d8e574",
   "metadata": {},
   "outputs": [
    {
     "data": {
      "text/plain": [
       "<Response [200]>"
      ]
     },
     "execution_count": 88,
     "metadata": {},
     "output_type": "execute_result"
    }
   ],
   "source": [
    "# checking response code\n",
    "page_62"
   ]
  },
  {
   "cell_type": "code",
   "execution_count": 89,
   "id": "9ca6b48f",
   "metadata": {},
   "outputs": [],
   "source": [
    "# page content\n",
    "S62 = BeautifulSoup(page_62.content)"
   ]
  },
  {
   "cell_type": "code",
   "execution_count": 90,
   "id": "ca666124",
   "metadata": {
    "scrolled": true
   },
   "outputs": [
    {
     "data": {
      "text/plain": [
       "['Alyssa Healy', 'Hayley Matthews']"
      ]
     },
     "execution_count": 90,
     "metadata": {},
     "output_type": "execute_result"
    }
   ],
   "source": [
    "# rank first players (batsman and all-roubder)\n",
    "banner_player_women = []     # empty list\n",
    "\n",
    "for i in S62.find_all('div', class_=\"rankings-block__banner--name\"):\n",
    "    banner_player_women.append(i.text)\n",
    "    \n",
    "banner_player_women[:3:2]"
   ]
  },
  {
   "cell_type": "code",
   "execution_count": 91,
   "id": "312a288c",
   "metadata": {},
   "outputs": [
    {
     "data": {
      "text/plain": [
       "['AUS', 'WI']"
      ]
     },
     "execution_count": 91,
     "metadata": {},
     "output_type": "execute_result"
    }
   ],
   "source": [
    "# rank first player's team name\n",
    "banner_team_women = []     # empty list\n",
    "\n",
    "for i in S62.find_all('div',class_=\"rankings-block__banner--nationality\"):\n",
    "    banner_team_women.append(i.text.split('\\n')[2])\n",
    "    \n",
    "banner_team_women[:3:2]"
   ]
  },
  {
   "cell_type": "code",
   "execution_count": 92,
   "id": "155dea6a",
   "metadata": {},
   "outputs": [
    {
     "data": {
      "text/plain": [
       "['762', '373']"
      ]
     },
     "execution_count": 92,
     "metadata": {},
     "output_type": "execute_result"
    }
   ],
   "source": [
    "# rank first players rating\n",
    "banner_rating_women = []    # empty list\n",
    "\n",
    "for i in S62.find_all('div', class_=\"rankings-block__banner--rating\"):\n",
    "    banner_rating_women.append(i.text)\n",
    "    \n",
    "banner_rating_women[:3:2]"
   ]
  },
  {
   "cell_type": "code",
   "execution_count": 93,
   "id": "505bb875",
   "metadata": {},
   "outputs": [
    {
     "name": "stdout",
     "output_type": "stream",
     "text": [
      "Batting:\n",
      " ['Beth Mooney', 'Laura Wolvaardt', 'Natalie Sciver', 'Meg Lanning', 'Harmanpreet Kaur', 'Smriti Mandhana', 'Rachael Haynes', 'Chamari Athapaththu', 'Amy Satterthwaite'] \n",
      "\n",
      "All-Rounder:\n",
      " ['Natalie Sciver', 'Ellyse Perry', 'Marizanne Kapp', 'Amelia Kerr', 'Deepti Sharma', 'Ashleigh Gardner', 'Jess Jonassen', 'Nida Dar', 'Jhulan Goswami']\n"
     ]
    }
   ],
   "source": [
    "# players name\n",
    "cell_player_women = []    # empty list\n",
    "\n",
    "for i in S62.find_all('td', class_=\"table-body__cell name\"):\n",
    "    cell_player_women.append(i.text.split('\\n')[1])\n",
    "    \n",
    "print('Batting:\\n',cell_player_women[:9],'\\n\\nAll-Rounder:\\n',cell_player_women[18:27])"
   ]
  },
  {
   "cell_type": "code",
   "execution_count": 94,
   "id": "77984b43",
   "metadata": {},
   "outputs": [
    {
     "name": "stdout",
     "output_type": "stream",
     "text": [
      "Batting:\n",
      " ['AUS', 'SA', 'ENG', 'AUS', 'IND', 'IND', 'AUS', 'SL', 'NZ'] \n",
      "\n",
      "All-Rounder:\n",
      " ['ENG', 'AUS', 'SA', 'NZ', 'IND', 'AUS', 'AUS', 'PAK', 'IND']\n"
     ]
    }
   ],
   "source": [
    "# team name\n",
    "cell_team_women = []     #empty list\n",
    "\n",
    "for i in S62.find_all('span', class_=\"table-body__logo-text\"):\n",
    "    cell_team_women.append(i.text)\n",
    "    \n",
    "print('Batting:\\n',cell_team_women[:9],'\\n\\nAll-Rounder:\\n',cell_team_women[18:27])"
   ]
  },
  {
   "cell_type": "code",
   "execution_count": 95,
   "id": "11fc23b5",
   "metadata": {},
   "outputs": [
    {
     "name": "stdout",
     "output_type": "stream",
     "text": [
      "['754', '732', '731', '717', '716', '714', '680', '655', '641'] \n",
      " ['371', '366', '349', '336', '322', '292', '250', '232', '214']\n"
     ]
    }
   ],
   "source": [
    "# rating\n",
    "cell_rating_women = []     #empty list\n",
    "\n",
    "for i in S62.find_all('td', class_=\"table-body__cell u-text-right rating\"):\n",
    "    cell_rating_women.append(i.text)\n",
    "    \n",
    "print(cell_rating_women[:9],'\\n',cell_rating_women[18:27])"
   ]
  },
  {
   "cell_type": "code",
   "execution_count": 96,
   "id": "017dad30",
   "metadata": {},
   "outputs": [],
   "source": [
    "# creating empty lists\n",
    "P_batting_women = []\n",
    "T_batting_women = []\n",
    "R_batting_women = []\n",
    "P_AR_women = []\n",
    "T_AR_women = []\n",
    "R_AR_women = []"
   ]
  },
  {
   "cell_type": "markdown",
   "id": "84516b93",
   "metadata": {},
   "source": [
    "##### 6(b) top 10 women's ODI batting ranking"
   ]
  },
  {
   "cell_type": "code",
   "execution_count": 97,
   "id": "d1ab2d0b",
   "metadata": {},
   "outputs": [
    {
     "data": {
      "text/plain": [
       "['Alyssa Healy',\n",
       " 'Beth Mooney',\n",
       " 'Laura Wolvaardt',\n",
       " 'Natalie Sciver',\n",
       " 'Meg Lanning',\n",
       " 'Harmanpreet Kaur',\n",
       " 'Smriti Mandhana',\n",
       " 'Rachael Haynes',\n",
       " 'Chamari Athapaththu',\n",
       " 'Amy Satterthwaite']"
      ]
     },
     "execution_count": 97,
     "metadata": {},
     "output_type": "execute_result"
    }
   ],
   "source": [
    "# players\n",
    "P_batting_women.append(banner_player_women[0])\n",
    "\n",
    "for i in cell_player_women[:9]:\n",
    "    P_batting_women.append(i)\n",
    "    \n",
    "P_batting_women"
   ]
  },
  {
   "cell_type": "code",
   "execution_count": 98,
   "id": "e72b68a5",
   "metadata": {},
   "outputs": [
    {
     "data": {
      "text/plain": [
       "['AUS', 'AUS', 'SA', 'ENG', 'AUS', 'IND', 'IND', 'AUS', 'SL', 'NZ']"
      ]
     },
     "execution_count": 98,
     "metadata": {},
     "output_type": "execute_result"
    }
   ],
   "source": [
    "# team\n",
    "T_batting_women.append(banner_team_women[0])\n",
    "\n",
    "for i in cell_team_women[:9]:\n",
    "    T_batting_women.append(i)\n",
    "    \n",
    "T_batting_women"
   ]
  },
  {
   "cell_type": "code",
   "execution_count": 99,
   "id": "baf24170",
   "metadata": {},
   "outputs": [
    {
     "data": {
      "text/plain": [
       "['762', '754', '732', '731', '717', '716', '714', '680', '655', '641']"
      ]
     },
     "execution_count": 99,
     "metadata": {},
     "output_type": "execute_result"
    }
   ],
   "source": [
    "# rating\n",
    "R_batting_women.append(banner_rating_women[0])\n",
    "\n",
    "for i in cell_rating_women[:9]:\n",
    "    R_batting_women.append(i)\n",
    "    \n",
    "R_batting_women"
   ]
  },
  {
   "cell_type": "code",
   "execution_count": 100,
   "id": "ee046ee2",
   "metadata": {},
   "outputs": [
    {
     "name": "stdout",
     "output_type": "stream",
     "text": [
      "10 10 10\n"
     ]
    }
   ],
   "source": [
    "print(len(P_batting_women),len(T_batting_women),len(R_batting_women))"
   ]
  },
  {
   "cell_type": "code",
   "execution_count": 101,
   "id": "318dc4b9",
   "metadata": {},
   "outputs": [
    {
     "name": "stdout",
     "output_type": "stream",
     "text": [
      "\u001b[1mTop 10 Women's ODI Batting Rankings\u001b[0m\n"
     ]
    },
    {
     "data": {
      "text/html": [
       "<div>\n",
       "<style scoped>\n",
       "    .dataframe tbody tr th:only-of-type {\n",
       "        vertical-align: middle;\n",
       "    }\n",
       "\n",
       "    .dataframe tbody tr th {\n",
       "        vertical-align: top;\n",
       "    }\n",
       "\n",
       "    .dataframe thead th {\n",
       "        text-align: right;\n",
       "    }\n",
       "</style>\n",
       "<table border=\"1\" class=\"dataframe\">\n",
       "  <thead>\n",
       "    <tr style=\"text-align: right;\">\n",
       "      <th></th>\n",
       "      <th>Position</th>\n",
       "      <th>Player</th>\n",
       "      <th>Team</th>\n",
       "      <th>Rating</th>\n",
       "    </tr>\n",
       "  </thead>\n",
       "  <tbody>\n",
       "    <tr>\n",
       "      <th>0</th>\n",
       "      <td>1</td>\n",
       "      <td>Alyssa Healy</td>\n",
       "      <td>AUS</td>\n",
       "      <td>762</td>\n",
       "    </tr>\n",
       "    <tr>\n",
       "      <th>1</th>\n",
       "      <td>2</td>\n",
       "      <td>Beth Mooney</td>\n",
       "      <td>AUS</td>\n",
       "      <td>754</td>\n",
       "    </tr>\n",
       "    <tr>\n",
       "      <th>2</th>\n",
       "      <td>3</td>\n",
       "      <td>Laura Wolvaardt</td>\n",
       "      <td>SA</td>\n",
       "      <td>732</td>\n",
       "    </tr>\n",
       "    <tr>\n",
       "      <th>3</th>\n",
       "      <td>4</td>\n",
       "      <td>Natalie Sciver</td>\n",
       "      <td>ENG</td>\n",
       "      <td>731</td>\n",
       "    </tr>\n",
       "    <tr>\n",
       "      <th>4</th>\n",
       "      <td>5</td>\n",
       "      <td>Meg Lanning</td>\n",
       "      <td>AUS</td>\n",
       "      <td>717</td>\n",
       "    </tr>\n",
       "    <tr>\n",
       "      <th>5</th>\n",
       "      <td>6</td>\n",
       "      <td>Harmanpreet Kaur</td>\n",
       "      <td>IND</td>\n",
       "      <td>716</td>\n",
       "    </tr>\n",
       "    <tr>\n",
       "      <th>6</th>\n",
       "      <td>7</td>\n",
       "      <td>Smriti Mandhana</td>\n",
       "      <td>IND</td>\n",
       "      <td>714</td>\n",
       "    </tr>\n",
       "    <tr>\n",
       "      <th>7</th>\n",
       "      <td>8</td>\n",
       "      <td>Rachael Haynes</td>\n",
       "      <td>AUS</td>\n",
       "      <td>680</td>\n",
       "    </tr>\n",
       "    <tr>\n",
       "      <th>8</th>\n",
       "      <td>9</td>\n",
       "      <td>Chamari Athapaththu</td>\n",
       "      <td>SL</td>\n",
       "      <td>655</td>\n",
       "    </tr>\n",
       "    <tr>\n",
       "      <th>9</th>\n",
       "      <td>10</td>\n",
       "      <td>Amy Satterthwaite</td>\n",
       "      <td>NZ</td>\n",
       "      <td>641</td>\n",
       "    </tr>\n",
       "  </tbody>\n",
       "</table>\n",
       "</div>"
      ],
      "text/plain": [
       "   Position               Player Team Rating\n",
       "0         1         Alyssa Healy  AUS    762\n",
       "1         2          Beth Mooney  AUS    754\n",
       "2         3      Laura Wolvaardt   SA    732\n",
       "3         4       Natalie Sciver  ENG    731\n",
       "4         5          Meg Lanning  AUS    717\n",
       "5         6     Harmanpreet Kaur  IND    716\n",
       "6         7      Smriti Mandhana  IND    714\n",
       "7         8       Rachael Haynes  AUS    680\n",
       "8         9  Chamari Athapaththu   SL    655\n",
       "9        10    Amy Satterthwaite   NZ    641"
      ]
     },
     "execution_count": 101,
     "metadata": {},
     "output_type": "execute_result"
    }
   ],
   "source": [
    "# making DataFrame\n",
    "ODI_batting_ranking_women =pd.DataFrame({'Position':position,'Player':P_batting_women,'Team':T_batting_women,'Rating':R_batting_women})\n",
    "print(\"\\033[1m\"+\"Top 10 Women's ODI Batting Rankings\"+\"\\033[0m\")\n",
    "\n",
    "ODI_batting_ranking_women"
   ]
  },
  {
   "cell_type": "markdown",
   "id": "5fe8884c",
   "metadata": {},
   "source": [
    "##### 6(c) top 10 ODI All-Rounder"
   ]
  },
  {
   "cell_type": "code",
   "execution_count": 102,
   "id": "59c5f189",
   "metadata": {},
   "outputs": [
    {
     "data": {
      "text/plain": [
       "['Hayley Matthews',\n",
       " 'Natalie Sciver',\n",
       " 'Ellyse Perry',\n",
       " 'Marizanne Kapp',\n",
       " 'Amelia Kerr',\n",
       " 'Deepti Sharma',\n",
       " 'Ashleigh Gardner',\n",
       " 'Jess Jonassen',\n",
       " 'Nida Dar',\n",
       " 'Jhulan Goswami']"
      ]
     },
     "execution_count": 102,
     "metadata": {},
     "output_type": "execute_result"
    }
   ],
   "source": [
    "# players\n",
    "P_AR_women.append(banner_player_women[2])\n",
    "\n",
    "for i in cell_player_women[18:27]:\n",
    "    P_AR_women.append(i)\n",
    "    \n",
    "P_AR_women    "
   ]
  },
  {
   "cell_type": "code",
   "execution_count": 103,
   "id": "9d87cce0",
   "metadata": {},
   "outputs": [
    {
     "data": {
      "text/plain": [
       "['WI', 'ENG', 'AUS', 'SA', 'NZ', 'IND', 'AUS', 'AUS', 'PAK', 'IND']"
      ]
     },
     "execution_count": 103,
     "metadata": {},
     "output_type": "execute_result"
    }
   ],
   "source": [
    "# team\n",
    "T_AR_women.append(banner_team_women[2])\n",
    "\n",
    "for i in cell_team_women[18:27]:\n",
    "    T_AR_women.append(i)\n",
    "    \n",
    "T_AR_women    "
   ]
  },
  {
   "cell_type": "code",
   "execution_count": 104,
   "id": "466bd7c3",
   "metadata": {},
   "outputs": [
    {
     "data": {
      "text/plain": [
       "['373', '371', '366', '349', '336', '322', '292', '250', '232', '214']"
      ]
     },
     "execution_count": 104,
     "metadata": {},
     "output_type": "execute_result"
    }
   ],
   "source": [
    "# rating\n",
    "R_AR_women.append(banner_rating_women[2])\n",
    "\n",
    "for i in cell_rating_women[18:27]:\n",
    "    R_AR_women.append(i)\n",
    "    \n",
    "R_AR_women   "
   ]
  },
  {
   "cell_type": "code",
   "execution_count": 105,
   "id": "7dc6a06e",
   "metadata": {},
   "outputs": [
    {
     "name": "stdout",
     "output_type": "stream",
     "text": [
      "10 10 10\n"
     ]
    }
   ],
   "source": [
    "print(len(P_AR_women),len(T_AR_women),len(R_AR_women))"
   ]
  },
  {
   "cell_type": "code",
   "execution_count": 106,
   "id": "dd3fbfb9",
   "metadata": {},
   "outputs": [
    {
     "name": "stdout",
     "output_type": "stream",
     "text": [
      "\u001b[1mTop 10 ODI Women's Bowling Rankings\u001b[0m\n"
     ]
    },
    {
     "data": {
      "text/html": [
       "<div>\n",
       "<style scoped>\n",
       "    .dataframe tbody tr th:only-of-type {\n",
       "        vertical-align: middle;\n",
       "    }\n",
       "\n",
       "    .dataframe tbody tr th {\n",
       "        vertical-align: top;\n",
       "    }\n",
       "\n",
       "    .dataframe thead th {\n",
       "        text-align: right;\n",
       "    }\n",
       "</style>\n",
       "<table border=\"1\" class=\"dataframe\">\n",
       "  <thead>\n",
       "    <tr style=\"text-align: right;\">\n",
       "      <th></th>\n",
       "      <th>Position</th>\n",
       "      <th>Player</th>\n",
       "      <th>Team</th>\n",
       "      <th>Rating</th>\n",
       "    </tr>\n",
       "  </thead>\n",
       "  <tbody>\n",
       "    <tr>\n",
       "      <th>0</th>\n",
       "      <td>1</td>\n",
       "      <td>Hayley Matthews</td>\n",
       "      <td>WI</td>\n",
       "      <td>373</td>\n",
       "    </tr>\n",
       "    <tr>\n",
       "      <th>1</th>\n",
       "      <td>2</td>\n",
       "      <td>Natalie Sciver</td>\n",
       "      <td>ENG</td>\n",
       "      <td>371</td>\n",
       "    </tr>\n",
       "    <tr>\n",
       "      <th>2</th>\n",
       "      <td>3</td>\n",
       "      <td>Ellyse Perry</td>\n",
       "      <td>AUS</td>\n",
       "      <td>366</td>\n",
       "    </tr>\n",
       "    <tr>\n",
       "      <th>3</th>\n",
       "      <td>4</td>\n",
       "      <td>Marizanne Kapp</td>\n",
       "      <td>SA</td>\n",
       "      <td>349</td>\n",
       "    </tr>\n",
       "    <tr>\n",
       "      <th>4</th>\n",
       "      <td>5</td>\n",
       "      <td>Amelia Kerr</td>\n",
       "      <td>NZ</td>\n",
       "      <td>336</td>\n",
       "    </tr>\n",
       "    <tr>\n",
       "      <th>5</th>\n",
       "      <td>6</td>\n",
       "      <td>Deepti Sharma</td>\n",
       "      <td>IND</td>\n",
       "      <td>322</td>\n",
       "    </tr>\n",
       "    <tr>\n",
       "      <th>6</th>\n",
       "      <td>7</td>\n",
       "      <td>Ashleigh Gardner</td>\n",
       "      <td>AUS</td>\n",
       "      <td>292</td>\n",
       "    </tr>\n",
       "    <tr>\n",
       "      <th>7</th>\n",
       "      <td>8</td>\n",
       "      <td>Jess Jonassen</td>\n",
       "      <td>AUS</td>\n",
       "      <td>250</td>\n",
       "    </tr>\n",
       "    <tr>\n",
       "      <th>8</th>\n",
       "      <td>9</td>\n",
       "      <td>Nida Dar</td>\n",
       "      <td>PAK</td>\n",
       "      <td>232</td>\n",
       "    </tr>\n",
       "    <tr>\n",
       "      <th>9</th>\n",
       "      <td>10</td>\n",
       "      <td>Jhulan Goswami</td>\n",
       "      <td>IND</td>\n",
       "      <td>214</td>\n",
       "    </tr>\n",
       "  </tbody>\n",
       "</table>\n",
       "</div>"
      ],
      "text/plain": [
       "   Position            Player Team Rating\n",
       "0         1   Hayley Matthews   WI    373\n",
       "1         2    Natalie Sciver  ENG    371\n",
       "2         3      Ellyse Perry  AUS    366\n",
       "3         4    Marizanne Kapp   SA    349\n",
       "4         5       Amelia Kerr   NZ    336\n",
       "5         6     Deepti Sharma  IND    322\n",
       "6         7  Ashleigh Gardner  AUS    292\n",
       "7         8     Jess Jonassen  AUS    250\n",
       "8         9          Nida Dar  PAK    232\n",
       "9        10    Jhulan Goswami  IND    214"
      ]
     },
     "execution_count": 106,
     "metadata": {},
     "output_type": "execute_result"
    }
   ],
   "source": [
    "# making dataframe\n",
    "ODI_All_Rounder_ranking_women = pd.DataFrame({'Position':position,'Player':P_AR_women,'Team':T_AR_women,'Rating':R_AR_women})\n",
    "\n",
    "print(\"\\033[1m\"+\"Top 10 ODI Women's Bowling Rankings\"+\"\\033[0m\")\n",
    "\n",
    "ODI_All_Rounder_ranking_women"
   ]
  },
  {
   "cell_type": "code",
   "execution_count": null,
   "id": "ee912b10",
   "metadata": {},
   "outputs": [],
   "source": []
  },
  {
   "cell_type": "markdown",
   "id": "77791507",
   "metadata": {},
   "source": [
    "#### 7) Write a python program to scrape mentioned news details from https://www.cnbc.com/world/?region=world and make data frame. \n",
    "#### i) Headline\n",
    "#### ii) Time\n",
    "#### iii) News Link"
   ]
  },
  {
   "cell_type": "code",
   "execution_count": 107,
   "id": "153f279a",
   "metadata": {},
   "outputs": [],
   "source": [
    "# Import requried libraries\n",
    "\n",
    "import requests\n",
    "from bs4 import BeautifulSoup\n",
    "import pandas as pd"
   ]
  },
  {
   "cell_type": "code",
   "execution_count": 108,
   "id": "dd9d2fa5",
   "metadata": {},
   "outputs": [],
   "source": [
    "# send GET request\n",
    "\n",
    "page_7 = requests.get('https://www.cnbc.com/world/?region=world')"
   ]
  },
  {
   "cell_type": "code",
   "execution_count": 109,
   "id": "43b1a8f0",
   "metadata": {},
   "outputs": [
    {
     "data": {
      "text/plain": [
       "<Response [200]>"
      ]
     },
     "execution_count": 109,
     "metadata": {},
     "output_type": "execute_result"
    }
   ],
   "source": [
    "# checking response\n",
    "page_7"
   ]
  },
  {
   "cell_type": "code",
   "execution_count": 110,
   "id": "19071a52",
   "metadata": {},
   "outputs": [],
   "source": [
    "# page content\n",
    "S7 = BeautifulSoup(page_7.content)"
   ]
  },
  {
   "cell_type": "code",
   "execution_count": 111,
   "id": "f3b5dc4b",
   "metadata": {},
   "outputs": [
    {
     "data": {
      "text/plain": [
       "['Morgan Stanley says this beauty stock is gaining momentum, can jump nearly 20%',\n",
       " 'Xpeng expands assisted driving tech coverage to Shanghai, something Tesla doesn’t offer in China',\n",
       " 'Morgan Stanley says this e-commerce stock is a top pick, can surge nearly 40%',\n",
       " \"'Nationalizing bond markets' left central banks unprepared for inflation, top economist says\",\n",
       " 'Euro zone price rises cool significantly in March, but core inflation hits record high',\n",
       " 'Huawei reports biggest profit decline ever as U.S. sanctions, pandemic controls hit',\n",
       " 'Treasury yields rise as investors await key inflation data',\n",
       " 'Britain to join CPTPP in biggest trade deal since Brexit',\n",
       " \"Turkey formally approves Finland's NATO membership; Ukraine marks one year since Bucha massacre\",\n",
       " \"World Bank raises outlook for East Asia, says region's banking sector is sound\",\n",
       " \"China's steel demand is set to slow. That could dent iron ore prices by nearly 30%\",\n",
       " 'CNBC Daily Open: Investors are pricing in the best of both worlds',\n",
       " 'Comparing salaries and spotting gender pay gaps may be easier under new EU rules',\n",
       " 'European stocks cautiously higher as euro zone inflation falls; U.S. data to come',\n",
       " \"Goldman Sachs' top stock picks in Europe include three with over 100% upside\",\n",
       " 'This award-winning chef has a philosophy that can be applied to any career',\n",
       " 'China’s banking troubles are not the same as Silicon Valley Bank, economist says',\n",
       " 'Netflix and more: Analyst picks four stocks to ride out the volatility',\n",
       " \"Will Peloton's rally last? Here's where Wall Street sees the stock going\",\n",
       " 'Asia-Pacific markets climb after tech stocks led gains on Wall Street',\n",
       " 'CNBC Daily Open: Markets are pricing in the best of both worlds',\n",
       " \"A recession may be coming, but Cramer says he's not seeing the early signs yet\",\n",
       " \"Bank of America's Andy Sieg is joining Citi as head of global wealth\",\n",
       " 'Trump indicted live updates: Ex-president expected to appear before judge Tuesday',\n",
       " 'S&P 500 futures tick higher as traders get set to wrap up the first quarter',\n",
       " 'Former President Donald Trump indicted by New York grand jury',\n",
       " \"Turkey formally approves Finland's NATO membership, in setback for Russia\",\n",
       " \"Pro Picks: Watch all of Thursday's big stock calls on CNBC\",\n",
       " 'Virgin Orbit fails to secure funding, will cease operations and conduct layoffs',\n",
       " 'Nikola announces a $100 million stock offering ']"
      ]
     },
     "execution_count": 111,
     "metadata": {},
     "output_type": "execute_result"
    }
   ],
   "source": [
    "# headline\n",
    "h = []\n",
    "for i in S7.find_all('a', class_=\"LatestNews-headline\"):\n",
    "    h.append(i.text)\n",
    "h    "
   ]
  },
  {
   "cell_type": "code",
   "execution_count": 112,
   "id": "3046b199",
   "metadata": {},
   "outputs": [
    {
     "data": {
      "text/plain": [
       "['https://www.cnbc.com/2023/03/31/morgan-stanley-says-this-beauty-stock-is-gaining-momentum-can-jump-nearly-20percent-.html',\n",
       " 'https://www.cnbc.com/2023/03/31/xpeng-expands-assisted-driving-tech-coverage-to-shanghai-something-tesla-doesnt-offer-in-china.html',\n",
       " 'https://www.cnbc.com/2023/03/31/morgan-stanley-says-meli-is-a-top-pick-that-could-surge-nearly-40percent.html',\n",
       " 'https://www.cnbc.com/2023/03/31/nationalizing-bond-markets-left-central-banks-unprepared-for-inflation-hsbc.html',\n",
       " 'https://www.cnbc.com/2023/03/31/inflation-euro-zone-dropped-march-but-the-ecb-rate-hike-path-is-unclear.html',\n",
       " 'https://www.cnbc.com/2023/03/31/huawei-earnings-2022-biggest-profit-decline-since-2011-revenue-flat.html',\n",
       " 'https://www.cnbc.com/2023/03/31/us-treasury-yields-investors-look-to-pce-inflation-data.html',\n",
       " 'https://www.cnbc.com/2023/03/31/britain-to-join-cptpp-in-biggest-trade-deal-since-brexit.html',\n",
       " 'https://www.cnbc.com/2023/03/31/russia-ukraine-live-updates.html',\n",
       " 'https://www.cnbc.com/2023/03/31/world-bank-asia.html',\n",
       " 'https://www.cnbc.com/2023/03/31/chinas-steel-demand-to-slow-could-dent-iron-ore-prices-by-nearly-30percent.html',\n",
       " 'https://www.cnbc.com/2023/03/31/stock-markets-investors-are-pricing-in-the-best-of-both-worlds.html',\n",
       " 'https://www.cnbc.com/2023/03/31/comparing-salaries-could-be-easier-under-these-new-eu-rules.html',\n",
       " 'https://www.cnbc.com/2023/03/31/european-markets-open-to-close-earnings-data-and-news.html',\n",
       " 'https://www.cnbc.com/2023/03/31/europe-stock-picks-from-goldman-sachs-which-gives-3-shares-100percent-upside.html',\n",
       " 'https://www.cnbc.com/2023/03/31/leffervescences-shinobu-namae-shares-his-culinary-philosophy.html',\n",
       " 'https://www.cnbc.com/2023/03/31/chinas-banking-troubles-not-the-same-as-silicon-valley-bank-economist.html',\n",
       " 'https://www.cnbc.com/2023/03/31/nflx-shares-and-more-analyst-picks-four-stocks-for-market-volatility.html',\n",
       " 'https://www.cnbc.com/2023/03/31/what-next-for-peloton-pton-shares-heres-wall-streets-views-on-the-fitness-stock.html',\n",
       " 'https://www.cnbc.com/2023/03/31/asia-markets.html',\n",
       " 'https://www.cnbc.com/2023/03/31/stock-markets-markets-are-pricing-in-the-best-of-both-worlds.html',\n",
       " 'https://www.cnbc.com/2023/03/30/cramer-a-recession-may-be-coming-but-for-now-the-signs-are-invisible.html',\n",
       " 'https://www.cnbc.com/2023/03/30/bank-of-americas-andy-sieg-is-joining-citi-as-head-of-global-wealth.html',\n",
       " 'https://www.cnbc.com/2023/03/30/donald-trump-indictment-live-news-and-updates.html',\n",
       " 'https://www.cnbc.com/2023/03/30/stock-market-today-live-updates.html',\n",
       " 'https://www.cnbc.com/2023/03/30/donald-trump-indicted-in-hush-money-payment-case.html',\n",
       " 'https://www.cnbc.com/2023/03/31/turkey-formally-approves-finlands-nato-membership.html',\n",
       " 'https://www.cnbc.com/2023/03/30/pro-picks-watch-all-of-thursdays-big-stock-calls-on-cnbc.html',\n",
       " 'https://www.cnbc.com/2023/03/30/virgin-orbit-funding-ceasing-operations-layoffs.html',\n",
       " 'https://www.cnbc.com/2023/03/30/nikola-announces-a-100-million-stock-offering-.html']"
      ]
     },
     "execution_count": 112,
     "metadata": {},
     "output_type": "execute_result"
    }
   ],
   "source": [
    "link= []\n",
    "for i in S7.find_all('a', class_=\"LatestNews-headline\"):\n",
    "    link.append(i.get('href'))\n",
    "link    "
   ]
  },
  {
   "cell_type": "code",
   "execution_count": 113,
   "id": "503ef9d3",
   "metadata": {},
   "outputs": [
    {
     "data": {
      "text/plain": [
       "['8 Min Ago',\n",
       " '25 Min Ago',\n",
       " '47 Min Ago',\n",
       " '1 Hour Ago',\n",
       " '2 Hours Ago',\n",
       " '2 Hours Ago',\n",
       " '3 Hours Ago',\n",
       " '3 Hours Ago',\n",
       " '3 Hours Ago',\n",
       " '4 Hours Ago',\n",
       " '4 Hours Ago',\n",
       " '5 Hours Ago',\n",
       " '5 Hours Ago',\n",
       " '5 Hours Ago',\n",
       " '7 Hours Ago',\n",
       " '9 Hours Ago',\n",
       " '10 Hours Ago',\n",
       " '10 Hours Ago',\n",
       " '10 Hours Ago',\n",
       " '11 Hours Ago',\n",
       " '11 Hours Ago',\n",
       " '11 Hours Ago',\n",
       " '12 Hours Ago',\n",
       " '13 Hours Ago',\n",
       " '13 Hours Ago',\n",
       " '13 Hours Ago',\n",
       " '14 Hours Ago',\n",
       " '14 Hours Ago',\n",
       " '14 Hours Ago',\n",
       " '14 Hours Ago']"
      ]
     },
     "execution_count": 113,
     "metadata": {},
     "output_type": "execute_result"
    }
   ],
   "source": [
    "time = []\n",
    "for i in S7.find_all('time', class_='LatestNews-timestamp'):\n",
    "    time.append(i.text)\n",
    "time"
   ]
  },
  {
   "cell_type": "code",
   "execution_count": 114,
   "id": "ab38f93d",
   "metadata": {},
   "outputs": [
    {
     "name": "stdout",
     "output_type": "stream",
     "text": [
      "30 30 30\n"
     ]
    }
   ],
   "source": [
    "print(len(h),len(link),len(time))"
   ]
  },
  {
   "cell_type": "code",
   "execution_count": 115,
   "id": "765daead",
   "metadata": {},
   "outputs": [
    {
     "data": {
      "text/html": [
       "<div>\n",
       "<style scoped>\n",
       "    .dataframe tbody tr th:only-of-type {\n",
       "        vertical-align: middle;\n",
       "    }\n",
       "\n",
       "    .dataframe tbody tr th {\n",
       "        vertical-align: top;\n",
       "    }\n",
       "\n",
       "    .dataframe thead th {\n",
       "        text-align: right;\n",
       "    }\n",
       "</style>\n",
       "<table border=\"1\" class=\"dataframe\">\n",
       "  <thead>\n",
       "    <tr style=\"text-align: right;\">\n",
       "      <th></th>\n",
       "      <th>Headline</th>\n",
       "      <th>Time</th>\n",
       "      <th>News Link</th>\n",
       "    </tr>\n",
       "  </thead>\n",
       "  <tbody>\n",
       "    <tr>\n",
       "      <th>0</th>\n",
       "      <td>Morgan Stanley says this beauty stock is gaini...</td>\n",
       "      <td>8 Min Ago</td>\n",
       "      <td>https://www.cnbc.com/2023/03/31/morgan-stanley...</td>\n",
       "    </tr>\n",
       "    <tr>\n",
       "      <th>1</th>\n",
       "      <td>Xpeng expands assisted driving tech coverage t...</td>\n",
       "      <td>25 Min Ago</td>\n",
       "      <td>https://www.cnbc.com/2023/03/31/xpeng-expands-...</td>\n",
       "    </tr>\n",
       "    <tr>\n",
       "      <th>2</th>\n",
       "      <td>Morgan Stanley says this e-commerce stock is a...</td>\n",
       "      <td>47 Min Ago</td>\n",
       "      <td>https://www.cnbc.com/2023/03/31/morgan-stanley...</td>\n",
       "    </tr>\n",
       "    <tr>\n",
       "      <th>3</th>\n",
       "      <td>'Nationalizing bond markets' left central bank...</td>\n",
       "      <td>1 Hour Ago</td>\n",
       "      <td>https://www.cnbc.com/2023/03/31/nationalizing-...</td>\n",
       "    </tr>\n",
       "    <tr>\n",
       "      <th>4</th>\n",
       "      <td>Euro zone price rises cool significantly in Ma...</td>\n",
       "      <td>2 Hours Ago</td>\n",
       "      <td>https://www.cnbc.com/2023/03/31/inflation-euro...</td>\n",
       "    </tr>\n",
       "    <tr>\n",
       "      <th>5</th>\n",
       "      <td>Huawei reports biggest profit decline ever as ...</td>\n",
       "      <td>2 Hours Ago</td>\n",
       "      <td>https://www.cnbc.com/2023/03/31/huawei-earning...</td>\n",
       "    </tr>\n",
       "    <tr>\n",
       "      <th>6</th>\n",
       "      <td>Treasury yields rise as investors await key in...</td>\n",
       "      <td>3 Hours Ago</td>\n",
       "      <td>https://www.cnbc.com/2023/03/31/us-treasury-yi...</td>\n",
       "    </tr>\n",
       "    <tr>\n",
       "      <th>7</th>\n",
       "      <td>Britain to join CPTPP in biggest trade deal si...</td>\n",
       "      <td>3 Hours Ago</td>\n",
       "      <td>https://www.cnbc.com/2023/03/31/britain-to-joi...</td>\n",
       "    </tr>\n",
       "    <tr>\n",
       "      <th>8</th>\n",
       "      <td>Turkey formally approves Finland's NATO member...</td>\n",
       "      <td>3 Hours Ago</td>\n",
       "      <td>https://www.cnbc.com/2023/03/31/russia-ukraine...</td>\n",
       "    </tr>\n",
       "    <tr>\n",
       "      <th>9</th>\n",
       "      <td>World Bank raises outlook for East Asia, says ...</td>\n",
       "      <td>4 Hours Ago</td>\n",
       "      <td>https://www.cnbc.com/2023/03/31/world-bank-asi...</td>\n",
       "    </tr>\n",
       "    <tr>\n",
       "      <th>10</th>\n",
       "      <td>China's steel demand is set to slow. That coul...</td>\n",
       "      <td>4 Hours Ago</td>\n",
       "      <td>https://www.cnbc.com/2023/03/31/chinas-steel-d...</td>\n",
       "    </tr>\n",
       "    <tr>\n",
       "      <th>11</th>\n",
       "      <td>CNBC Daily Open: Investors are pricing in the ...</td>\n",
       "      <td>5 Hours Ago</td>\n",
       "      <td>https://www.cnbc.com/2023/03/31/stock-markets-...</td>\n",
       "    </tr>\n",
       "    <tr>\n",
       "      <th>12</th>\n",
       "      <td>Comparing salaries and spotting gender pay gap...</td>\n",
       "      <td>5 Hours Ago</td>\n",
       "      <td>https://www.cnbc.com/2023/03/31/comparing-sala...</td>\n",
       "    </tr>\n",
       "    <tr>\n",
       "      <th>13</th>\n",
       "      <td>European stocks cautiously higher as euro zone...</td>\n",
       "      <td>5 Hours Ago</td>\n",
       "      <td>https://www.cnbc.com/2023/03/31/european-marke...</td>\n",
       "    </tr>\n",
       "    <tr>\n",
       "      <th>14</th>\n",
       "      <td>Goldman Sachs' top stock picks in Europe inclu...</td>\n",
       "      <td>7 Hours Ago</td>\n",
       "      <td>https://www.cnbc.com/2023/03/31/europe-stock-p...</td>\n",
       "    </tr>\n",
       "    <tr>\n",
       "      <th>15</th>\n",
       "      <td>This award-winning chef has a philosophy that ...</td>\n",
       "      <td>9 Hours Ago</td>\n",
       "      <td>https://www.cnbc.com/2023/03/31/leffervescence...</td>\n",
       "    </tr>\n",
       "    <tr>\n",
       "      <th>16</th>\n",
       "      <td>China’s banking troubles are not the same as S...</td>\n",
       "      <td>10 Hours Ago</td>\n",
       "      <td>https://www.cnbc.com/2023/03/31/chinas-banking...</td>\n",
       "    </tr>\n",
       "    <tr>\n",
       "      <th>17</th>\n",
       "      <td>Netflix and more: Analyst picks four stocks to...</td>\n",
       "      <td>10 Hours Ago</td>\n",
       "      <td>https://www.cnbc.com/2023/03/31/nflx-shares-an...</td>\n",
       "    </tr>\n",
       "    <tr>\n",
       "      <th>18</th>\n",
       "      <td>Will Peloton's rally last? Here's where Wall S...</td>\n",
       "      <td>10 Hours Ago</td>\n",
       "      <td>https://www.cnbc.com/2023/03/31/what-next-for-...</td>\n",
       "    </tr>\n",
       "    <tr>\n",
       "      <th>19</th>\n",
       "      <td>Asia-Pacific markets climb after tech stocks l...</td>\n",
       "      <td>11 Hours Ago</td>\n",
       "      <td>https://www.cnbc.com/2023/03/31/asia-markets.html</td>\n",
       "    </tr>\n",
       "    <tr>\n",
       "      <th>20</th>\n",
       "      <td>CNBC Daily Open: Markets are pricing in the be...</td>\n",
       "      <td>11 Hours Ago</td>\n",
       "      <td>https://www.cnbc.com/2023/03/31/stock-markets-...</td>\n",
       "    </tr>\n",
       "    <tr>\n",
       "      <th>21</th>\n",
       "      <td>A recession may be coming, but Cramer says he'...</td>\n",
       "      <td>11 Hours Ago</td>\n",
       "      <td>https://www.cnbc.com/2023/03/30/cramer-a-reces...</td>\n",
       "    </tr>\n",
       "    <tr>\n",
       "      <th>22</th>\n",
       "      <td>Bank of America's Andy Sieg is joining Citi as...</td>\n",
       "      <td>12 Hours Ago</td>\n",
       "      <td>https://www.cnbc.com/2023/03/30/bank-of-americ...</td>\n",
       "    </tr>\n",
       "    <tr>\n",
       "      <th>23</th>\n",
       "      <td>Trump indicted live updates: Ex-president expe...</td>\n",
       "      <td>13 Hours Ago</td>\n",
       "      <td>https://www.cnbc.com/2023/03/30/donald-trump-i...</td>\n",
       "    </tr>\n",
       "    <tr>\n",
       "      <th>24</th>\n",
       "      <td>S&amp;P 500 futures tick higher as traders get set...</td>\n",
       "      <td>13 Hours Ago</td>\n",
       "      <td>https://www.cnbc.com/2023/03/30/stock-market-t...</td>\n",
       "    </tr>\n",
       "    <tr>\n",
       "      <th>25</th>\n",
       "      <td>Former President Donald Trump indicted by New ...</td>\n",
       "      <td>13 Hours Ago</td>\n",
       "      <td>https://www.cnbc.com/2023/03/30/donald-trump-i...</td>\n",
       "    </tr>\n",
       "    <tr>\n",
       "      <th>26</th>\n",
       "      <td>Turkey formally approves Finland's NATO member...</td>\n",
       "      <td>14 Hours Ago</td>\n",
       "      <td>https://www.cnbc.com/2023/03/31/turkey-formall...</td>\n",
       "    </tr>\n",
       "    <tr>\n",
       "      <th>27</th>\n",
       "      <td>Pro Picks: Watch all of Thursday's big stock c...</td>\n",
       "      <td>14 Hours Ago</td>\n",
       "      <td>https://www.cnbc.com/2023/03/30/pro-picks-watc...</td>\n",
       "    </tr>\n",
       "    <tr>\n",
       "      <th>28</th>\n",
       "      <td>Virgin Orbit fails to secure funding, will cea...</td>\n",
       "      <td>14 Hours Ago</td>\n",
       "      <td>https://www.cnbc.com/2023/03/30/virgin-orbit-f...</td>\n",
       "    </tr>\n",
       "    <tr>\n",
       "      <th>29</th>\n",
       "      <td>Nikola announces a $100 million stock offering</td>\n",
       "      <td>14 Hours Ago</td>\n",
       "      <td>https://www.cnbc.com/2023/03/30/nikola-announc...</td>\n",
       "    </tr>\n",
       "  </tbody>\n",
       "</table>\n",
       "</div>"
      ],
      "text/plain": [
       "                                             Headline          Time  \\\n",
       "0   Morgan Stanley says this beauty stock is gaini...     8 Min Ago   \n",
       "1   Xpeng expands assisted driving tech coverage t...    25 Min Ago   \n",
       "2   Morgan Stanley says this e-commerce stock is a...    47 Min Ago   \n",
       "3   'Nationalizing bond markets' left central bank...    1 Hour Ago   \n",
       "4   Euro zone price rises cool significantly in Ma...   2 Hours Ago   \n",
       "5   Huawei reports biggest profit decline ever as ...   2 Hours Ago   \n",
       "6   Treasury yields rise as investors await key in...   3 Hours Ago   \n",
       "7   Britain to join CPTPP in biggest trade deal si...   3 Hours Ago   \n",
       "8   Turkey formally approves Finland's NATO member...   3 Hours Ago   \n",
       "9   World Bank raises outlook for East Asia, says ...   4 Hours Ago   \n",
       "10  China's steel demand is set to slow. That coul...   4 Hours Ago   \n",
       "11  CNBC Daily Open: Investors are pricing in the ...   5 Hours Ago   \n",
       "12  Comparing salaries and spotting gender pay gap...   5 Hours Ago   \n",
       "13  European stocks cautiously higher as euro zone...   5 Hours Ago   \n",
       "14  Goldman Sachs' top stock picks in Europe inclu...   7 Hours Ago   \n",
       "15  This award-winning chef has a philosophy that ...   9 Hours Ago   \n",
       "16  China’s banking troubles are not the same as S...  10 Hours Ago   \n",
       "17  Netflix and more: Analyst picks four stocks to...  10 Hours Ago   \n",
       "18  Will Peloton's rally last? Here's where Wall S...  10 Hours Ago   \n",
       "19  Asia-Pacific markets climb after tech stocks l...  11 Hours Ago   \n",
       "20  CNBC Daily Open: Markets are pricing in the be...  11 Hours Ago   \n",
       "21  A recession may be coming, but Cramer says he'...  11 Hours Ago   \n",
       "22  Bank of America's Andy Sieg is joining Citi as...  12 Hours Ago   \n",
       "23  Trump indicted live updates: Ex-president expe...  13 Hours Ago   \n",
       "24  S&P 500 futures tick higher as traders get set...  13 Hours Ago   \n",
       "25  Former President Donald Trump indicted by New ...  13 Hours Ago   \n",
       "26  Turkey formally approves Finland's NATO member...  14 Hours Ago   \n",
       "27  Pro Picks: Watch all of Thursday's big stock c...  14 Hours Ago   \n",
       "28  Virgin Orbit fails to secure funding, will cea...  14 Hours Ago   \n",
       "29    Nikola announces a $100 million stock offering   14 Hours Ago   \n",
       "\n",
       "                                            News Link  \n",
       "0   https://www.cnbc.com/2023/03/31/morgan-stanley...  \n",
       "1   https://www.cnbc.com/2023/03/31/xpeng-expands-...  \n",
       "2   https://www.cnbc.com/2023/03/31/morgan-stanley...  \n",
       "3   https://www.cnbc.com/2023/03/31/nationalizing-...  \n",
       "4   https://www.cnbc.com/2023/03/31/inflation-euro...  \n",
       "5   https://www.cnbc.com/2023/03/31/huawei-earning...  \n",
       "6   https://www.cnbc.com/2023/03/31/us-treasury-yi...  \n",
       "7   https://www.cnbc.com/2023/03/31/britain-to-joi...  \n",
       "8   https://www.cnbc.com/2023/03/31/russia-ukraine...  \n",
       "9   https://www.cnbc.com/2023/03/31/world-bank-asi...  \n",
       "10  https://www.cnbc.com/2023/03/31/chinas-steel-d...  \n",
       "11  https://www.cnbc.com/2023/03/31/stock-markets-...  \n",
       "12  https://www.cnbc.com/2023/03/31/comparing-sala...  \n",
       "13  https://www.cnbc.com/2023/03/31/european-marke...  \n",
       "14  https://www.cnbc.com/2023/03/31/europe-stock-p...  \n",
       "15  https://www.cnbc.com/2023/03/31/leffervescence...  \n",
       "16  https://www.cnbc.com/2023/03/31/chinas-banking...  \n",
       "17  https://www.cnbc.com/2023/03/31/nflx-shares-an...  \n",
       "18  https://www.cnbc.com/2023/03/31/what-next-for-...  \n",
       "19  https://www.cnbc.com/2023/03/31/asia-markets.html  \n",
       "20  https://www.cnbc.com/2023/03/31/stock-markets-...  \n",
       "21  https://www.cnbc.com/2023/03/30/cramer-a-reces...  \n",
       "22  https://www.cnbc.com/2023/03/30/bank-of-americ...  \n",
       "23  https://www.cnbc.com/2023/03/30/donald-trump-i...  \n",
       "24  https://www.cnbc.com/2023/03/30/stock-market-t...  \n",
       "25  https://www.cnbc.com/2023/03/30/donald-trump-i...  \n",
       "26  https://www.cnbc.com/2023/03/31/turkey-formall...  \n",
       "27  https://www.cnbc.com/2023/03/30/pro-picks-watc...  \n",
       "28  https://www.cnbc.com/2023/03/30/virgin-orbit-f...  \n",
       "29  https://www.cnbc.com/2023/03/30/nikola-announc...  "
      ]
     },
     "execution_count": 115,
     "metadata": {},
     "output_type": "execute_result"
    }
   ],
   "source": [
    "# making DataFrame\n",
    "\n",
    "News = pd.DataFrame({'Headline':h,'Time':time,'News Link':link})\n",
    "\n",
    "News"
   ]
  },
  {
   "cell_type": "code",
   "execution_count": null,
   "id": "7667c601",
   "metadata": {},
   "outputs": [],
   "source": []
  },
  {
   "cell_type": "markdown",
   "id": "359a5a55",
   "metadata": {},
   "source": [
    "#### 8) Write a python program to scrape the details of most downloaded articles from AI in last 90 days. https://www.journals.elsevier.com/artificial-intelligence/most-downloaded-articles Scrape below mentioned details and make data frame. \n",
    "#### i) Paper Title\n",
    "#### ii) Authors\n",
    "#### iii) Published Date\n",
    "#### iv) Paper URL"
   ]
  },
  {
   "cell_type": "code",
   "execution_count": 116,
   "id": "f1a37114",
   "metadata": {},
   "outputs": [],
   "source": [
    "# Import requried libraries\n",
    "\n",
    "import requests\n",
    "from bs4 import BeautifulSoup\n",
    "import pandas as pd"
   ]
  },
  {
   "cell_type": "code",
   "execution_count": 117,
   "id": "0abbc295",
   "metadata": {},
   "outputs": [],
   "source": [
    "# send GET request\n",
    "\n",
    "page_8 = requests.get('https://www.journals.elsevier.com/artificial-intelligence/most-downloaded-articles')"
   ]
  },
  {
   "cell_type": "code",
   "execution_count": 118,
   "id": "9aea04d2",
   "metadata": {},
   "outputs": [
    {
     "data": {
      "text/plain": [
       "<Response [200]>"
      ]
     },
     "execution_count": 118,
     "metadata": {},
     "output_type": "execute_result"
    }
   ],
   "source": [
    "# checking response code\n",
    "page_8"
   ]
  },
  {
   "cell_type": "code",
   "execution_count": 119,
   "id": "26dad1c4",
   "metadata": {},
   "outputs": [],
   "source": [
    "# page content\n",
    "S8 = BeautifulSoup(page_8.content)"
   ]
  },
  {
   "cell_type": "code",
   "execution_count": 120,
   "id": "a1bf2374",
   "metadata": {},
   "outputs": [
    {
     "data": {
      "text/plain": [
       "['Reward is enough',\n",
       " 'Making sense of raw input',\n",
       " 'Law and logic: A review from an argumentation perspective',\n",
       " 'Creativity and artificial intelligence',\n",
       " 'Artificial cognition for social human–robot interaction: An implementation',\n",
       " 'Explanation in artificial intelligence: Insights from the social sciences',\n",
       " 'Making sense of sensory input',\n",
       " 'Conflict-based search for optimal multi-agent pathfinding',\n",
       " 'Between MDPs and semi-MDPs: A framework for temporal abstraction in reinforcement learning',\n",
       " 'The Hanabi challenge: A new frontier for AI research',\n",
       " 'Evaluating XAI: A comparison of rule-based and example-based explanations',\n",
       " 'Argumentation in artificial intelligence',\n",
       " 'Algorithms for computing strategies in two-player simultaneous move games',\n",
       " 'Multiple object tracking: A literature review',\n",
       " 'Selection of relevant features and examples in machine learning',\n",
       " 'A survey of inverse reinforcement learning: Challenges, methods and progress',\n",
       " 'Explaining individual predictions when features are dependent: More accurate approximations to Shapley values',\n",
       " 'A review of possible effects of cognitive biases on interpretation of rule-based machine learning models',\n",
       " 'Integrating social power into the decision-making of cognitive agents',\n",
       " \"“That's (not) the output I expected!” On the role of end user expectations in creating explanations of AI systems\",\n",
       " 'Explaining black-box classifiers using post-hoc explanations-by-example: The effect of explanations and error-rates in XAI user studies',\n",
       " 'Algorithm runtime prediction: Methods & evaluation',\n",
       " 'Wrappers for feature subset selection',\n",
       " 'Commonsense visual sensemaking for autonomous driving – On generalised neurosymbolic online abduction integrating vision and semantics',\n",
       " 'Quantum computation, quantum theory and AI']"
      ]
     },
     "execution_count": 120,
     "metadata": {},
     "output_type": "execute_result"
    }
   ],
   "source": [
    "paper_title = []      # empty list\n",
    "\n",
    "for i in S8.find_all('h2', class_=\"sc-1qrq3sd-1 gRGSUS sc-1nmom32-0 sc-1nmom32-1 btcbYu goSKRg\"):\n",
    "    paper_title.append(i.text)\n",
    "    \n",
    "paper_title    "
   ]
  },
  {
   "cell_type": "code",
   "execution_count": 121,
   "id": "395fe1f3",
   "metadata": {},
   "outputs": [
    {
     "data": {
      "text/plain": [
       "['Silver, David, Singh, Satinder, Precup, Doina, Sutton, Richard S. ',\n",
       " 'Evans, Richard, Bošnjak, Matko and 5 more',\n",
       " 'Prakken, Henry, Sartor, Giovanni ',\n",
       " 'Boden, Margaret A. ',\n",
       " 'Lemaignan, Séverin, Warnier, Mathieu and 3 more',\n",
       " 'Miller, Tim ',\n",
       " 'Evans, Richard, Hernández-Orallo, José and 3 more',\n",
       " 'Sharon, Guni, Stern, Roni, Felner, Ariel, Sturtevant, Nathan R. ',\n",
       " 'Sutton, Richard S., Precup, Doina, Singh, Satinder ',\n",
       " 'Bard, Nolan, Foerster, Jakob N. and 13 more',\n",
       " 'van der Waa, Jasper, Nieuwburg, Elisabeth, Cremers, Anita, Neerincx, Mark ',\n",
       " 'Bench-Capon, T.J.M., Dunne, Paul E. ',\n",
       " 'Bošanský, Branislav, Lisý, Viliam and 3 more',\n",
       " 'Luo, Wenhan, Xing, Junliang and 4 more',\n",
       " 'Blum, Avrim L., Langley, Pat ',\n",
       " 'Arora, Saurabh, Doshi, Prashant ',\n",
       " 'Aas, Kjersti, Jullum, Martin, Løland, Anders ',\n",
       " 'Kliegr, Tomáš, Bahník, Štěpán, Fürnkranz, Johannes ',\n",
       " 'Pereira, Gonçalo, Prada, Rui, Santos, Pedro A. ',\n",
       " 'Riveiro, Maria, Thill, Serge ',\n",
       " 'Kenny, Eoin M., Ford, Courtney, Quinn, Molly, Keane, Mark T. ',\n",
       " 'Hutter, Frank, Xu, Lin, Hoos, Holger H., Leyton-Brown, Kevin ',\n",
       " 'Kohavi, Ron, John, George H. ',\n",
       " 'Suchan, Jakob, Bhatt, Mehul, Varadarajan, Srikrishna ',\n",
       " 'Ying, Mingsheng ']"
      ]
     },
     "execution_count": 121,
     "metadata": {},
     "output_type": "execute_result"
    }
   ],
   "source": [
    "authors = []      # empty list\n",
    "\n",
    "for i in S8.find_all('span', class_=\"sc-1w3fpd7-0 dnCnAO\"):\n",
    "    authors.append(i.text)\n",
    "    \n",
    "authors"
   ]
  },
  {
   "cell_type": "code",
   "execution_count": 122,
   "id": "ca891c56",
   "metadata": {},
   "outputs": [
    {
     "data": {
      "text/plain": [
       "['October 2021',\n",
       " 'October 2021',\n",
       " 'October 2015',\n",
       " 'August 1998',\n",
       " 'June 2017',\n",
       " 'February 2019',\n",
       " 'April 2021',\n",
       " 'February 2015',\n",
       " 'August 1999',\n",
       " 'March 2020',\n",
       " 'February 2021',\n",
       " 'October 2007',\n",
       " 'August 2016',\n",
       " 'April 2021',\n",
       " 'December 1997',\n",
       " 'August 2021',\n",
       " 'September 2021',\n",
       " 'June 2021',\n",
       " 'December 2016',\n",
       " 'September 2021',\n",
       " 'May 2021',\n",
       " 'January 2014',\n",
       " 'December 1997',\n",
       " 'October 2021',\n",
       " 'February 2010']"
      ]
     },
     "execution_count": 122,
     "metadata": {},
     "output_type": "execute_result"
    }
   ],
   "source": [
    "published_date= []    # empty list\n",
    "\n",
    "for i in S8.find_all('span', class_=\"sc-1thf9ly-2 dvggWt\"):\n",
    "    published_date.append(i.text)\n",
    "    \n",
    "published_date"
   ]
  },
  {
   "cell_type": "code",
   "execution_count": 123,
   "id": "69869467",
   "metadata": {
    "scrolled": true
   },
   "outputs": [
    {
     "data": {
      "text/plain": [
       "['https://www.sciencedirect.com/science/article/pii/S0004370221000862',\n",
       " 'https://www.sciencedirect.com/science/article/pii/S0004370221000722',\n",
       " 'https://www.sciencedirect.com/science/article/pii/S0004370215000910',\n",
       " 'https://www.sciencedirect.com/science/article/pii/S0004370298000551',\n",
       " 'https://www.sciencedirect.com/science/article/pii/S0004370216300790',\n",
       " 'https://www.sciencedirect.com/science/article/pii/S0004370218305988',\n",
       " 'https://www.sciencedirect.com/science/article/pii/S0004370220301855',\n",
       " 'https://www.sciencedirect.com/science/article/pii/S0004370214001386',\n",
       " 'https://www.sciencedirect.com/science/article/pii/S0004370299000521',\n",
       " 'https://www.sciencedirect.com/science/article/pii/S0004370219300116',\n",
       " 'https://www.sciencedirect.com/science/article/pii/S0004370220301533',\n",
       " 'https://www.sciencedirect.com/science/article/pii/S0004370207000793',\n",
       " 'https://www.sciencedirect.com/science/article/pii/S0004370216300285',\n",
       " 'https://www.sciencedirect.com/science/article/pii/S0004370220301958',\n",
       " 'https://www.sciencedirect.com/science/article/pii/S0004370297000635',\n",
       " 'https://www.sciencedirect.com/science/article/pii/S0004370221000515',\n",
       " 'https://www.sciencedirect.com/science/article/pii/S0004370221000539',\n",
       " 'https://www.sciencedirect.com/science/article/pii/S0004370221000096',\n",
       " 'https://www.sciencedirect.com/science/article/pii/S0004370216300868',\n",
       " 'https://www.sciencedirect.com/science/article/pii/S0004370221000588',\n",
       " 'https://www.sciencedirect.com/science/article/pii/S0004370221000102',\n",
       " 'https://www.sciencedirect.com/science/article/pii/S0004370213001082',\n",
       " 'https://www.sciencedirect.com/science/article/pii/S000437029700043X',\n",
       " 'https://www.sciencedirect.com/science/article/pii/S0004370221000734',\n",
       " 'https://www.sciencedirect.com/science/article/pii/S0004370209001398']"
      ]
     },
     "execution_count": 123,
     "metadata": {},
     "output_type": "execute_result"
    }
   ],
   "source": [
    "paper_url = []       # empty list\n",
    "\n",
    "for i in S8.find_all('a', class_=\"sc-5smygv-0 fIXTHm\"):\n",
    "    paper_url.append(i.get('href'))\n",
    "    \n",
    "paper_url"
   ]
  },
  {
   "cell_type": "code",
   "execution_count": 124,
   "id": "2d0ab5e3",
   "metadata": {},
   "outputs": [
    {
     "name": "stdout",
     "output_type": "stream",
     "text": [
      "25 25 25 25\n"
     ]
    }
   ],
   "source": [
    "print(len(paper_title),len(authors),len(published_date),len(paper_url))"
   ]
  },
  {
   "cell_type": "code",
   "execution_count": 125,
   "id": "9ca7cc56",
   "metadata": {},
   "outputs": [
    {
     "name": "stdout",
     "output_type": "stream",
     "text": [
      "\u001b[1mThe most downloaded articles from Artificial Intelligence in the last 90 days\u001b[0m\n"
     ]
    },
    {
     "data": {
      "text/html": [
       "<div>\n",
       "<style scoped>\n",
       "    .dataframe tbody tr th:only-of-type {\n",
       "        vertical-align: middle;\n",
       "    }\n",
       "\n",
       "    .dataframe tbody tr th {\n",
       "        vertical-align: top;\n",
       "    }\n",
       "\n",
       "    .dataframe thead th {\n",
       "        text-align: right;\n",
       "    }\n",
       "</style>\n",
       "<table border=\"1\" class=\"dataframe\">\n",
       "  <thead>\n",
       "    <tr style=\"text-align: right;\">\n",
       "      <th></th>\n",
       "      <th>Paper Title</th>\n",
       "      <th>Authors</th>\n",
       "      <th>Published Date</th>\n",
       "      <th>Paper URL</th>\n",
       "    </tr>\n",
       "  </thead>\n",
       "  <tbody>\n",
       "    <tr>\n",
       "      <th>0</th>\n",
       "      <td>Reward is enough</td>\n",
       "      <td>Silver, David, Singh, Satinder, Precup, Doina,...</td>\n",
       "      <td>October 2021</td>\n",
       "      <td>https://www.sciencedirect.com/science/article/...</td>\n",
       "    </tr>\n",
       "    <tr>\n",
       "      <th>1</th>\n",
       "      <td>Making sense of raw input</td>\n",
       "      <td>Evans, Richard, Bošnjak, Matko and 5 more</td>\n",
       "      <td>October 2021</td>\n",
       "      <td>https://www.sciencedirect.com/science/article/...</td>\n",
       "    </tr>\n",
       "    <tr>\n",
       "      <th>2</th>\n",
       "      <td>Law and logic: A review from an argumentation ...</td>\n",
       "      <td>Prakken, Henry, Sartor, Giovanni</td>\n",
       "      <td>October 2015</td>\n",
       "      <td>https://www.sciencedirect.com/science/article/...</td>\n",
       "    </tr>\n",
       "    <tr>\n",
       "      <th>3</th>\n",
       "      <td>Creativity and artificial intelligence</td>\n",
       "      <td>Boden, Margaret A.</td>\n",
       "      <td>August 1998</td>\n",
       "      <td>https://www.sciencedirect.com/science/article/...</td>\n",
       "    </tr>\n",
       "    <tr>\n",
       "      <th>4</th>\n",
       "      <td>Artificial cognition for social human–robot in...</td>\n",
       "      <td>Lemaignan, Séverin, Warnier, Mathieu and 3 more</td>\n",
       "      <td>June 2017</td>\n",
       "      <td>https://www.sciencedirect.com/science/article/...</td>\n",
       "    </tr>\n",
       "    <tr>\n",
       "      <th>5</th>\n",
       "      <td>Explanation in artificial intelligence: Insigh...</td>\n",
       "      <td>Miller, Tim</td>\n",
       "      <td>February 2019</td>\n",
       "      <td>https://www.sciencedirect.com/science/article/...</td>\n",
       "    </tr>\n",
       "    <tr>\n",
       "      <th>6</th>\n",
       "      <td>Making sense of sensory input</td>\n",
       "      <td>Evans, Richard, Hernández-Orallo, José and 3 more</td>\n",
       "      <td>April 2021</td>\n",
       "      <td>https://www.sciencedirect.com/science/article/...</td>\n",
       "    </tr>\n",
       "    <tr>\n",
       "      <th>7</th>\n",
       "      <td>Conflict-based search for optimal multi-agent ...</td>\n",
       "      <td>Sharon, Guni, Stern, Roni, Felner, Ariel, Stur...</td>\n",
       "      <td>February 2015</td>\n",
       "      <td>https://www.sciencedirect.com/science/article/...</td>\n",
       "    </tr>\n",
       "    <tr>\n",
       "      <th>8</th>\n",
       "      <td>Between MDPs and semi-MDPs: A framework for te...</td>\n",
       "      <td>Sutton, Richard S., Precup, Doina, Singh, Sati...</td>\n",
       "      <td>August 1999</td>\n",
       "      <td>https://www.sciencedirect.com/science/article/...</td>\n",
       "    </tr>\n",
       "    <tr>\n",
       "      <th>9</th>\n",
       "      <td>The Hanabi challenge: A new frontier for AI re...</td>\n",
       "      <td>Bard, Nolan, Foerster, Jakob N. and 13 more</td>\n",
       "      <td>March 2020</td>\n",
       "      <td>https://www.sciencedirect.com/science/article/...</td>\n",
       "    </tr>\n",
       "    <tr>\n",
       "      <th>10</th>\n",
       "      <td>Evaluating XAI: A comparison of rule-based and...</td>\n",
       "      <td>van der Waa, Jasper, Nieuwburg, Elisabeth, Cre...</td>\n",
       "      <td>February 2021</td>\n",
       "      <td>https://www.sciencedirect.com/science/article/...</td>\n",
       "    </tr>\n",
       "    <tr>\n",
       "      <th>11</th>\n",
       "      <td>Argumentation in artificial intelligence</td>\n",
       "      <td>Bench-Capon, T.J.M., Dunne, Paul E.</td>\n",
       "      <td>October 2007</td>\n",
       "      <td>https://www.sciencedirect.com/science/article/...</td>\n",
       "    </tr>\n",
       "    <tr>\n",
       "      <th>12</th>\n",
       "      <td>Algorithms for computing strategies in two-pla...</td>\n",
       "      <td>Bošanský, Branislav, Lisý, Viliam and 3 more</td>\n",
       "      <td>August 2016</td>\n",
       "      <td>https://www.sciencedirect.com/science/article/...</td>\n",
       "    </tr>\n",
       "    <tr>\n",
       "      <th>13</th>\n",
       "      <td>Multiple object tracking: A literature review</td>\n",
       "      <td>Luo, Wenhan, Xing, Junliang and 4 more</td>\n",
       "      <td>April 2021</td>\n",
       "      <td>https://www.sciencedirect.com/science/article/...</td>\n",
       "    </tr>\n",
       "    <tr>\n",
       "      <th>14</th>\n",
       "      <td>Selection of relevant features and examples in...</td>\n",
       "      <td>Blum, Avrim L., Langley, Pat</td>\n",
       "      <td>December 1997</td>\n",
       "      <td>https://www.sciencedirect.com/science/article/...</td>\n",
       "    </tr>\n",
       "    <tr>\n",
       "      <th>15</th>\n",
       "      <td>A survey of inverse reinforcement learning: Ch...</td>\n",
       "      <td>Arora, Saurabh, Doshi, Prashant</td>\n",
       "      <td>August 2021</td>\n",
       "      <td>https://www.sciencedirect.com/science/article/...</td>\n",
       "    </tr>\n",
       "    <tr>\n",
       "      <th>16</th>\n",
       "      <td>Explaining individual predictions when feature...</td>\n",
       "      <td>Aas, Kjersti, Jullum, Martin, Løland, Anders</td>\n",
       "      <td>September 2021</td>\n",
       "      <td>https://www.sciencedirect.com/science/article/...</td>\n",
       "    </tr>\n",
       "    <tr>\n",
       "      <th>17</th>\n",
       "      <td>A review of possible effects of cognitive bias...</td>\n",
       "      <td>Kliegr, Tomáš, Bahník, Štěpán, Fürnkranz, Joha...</td>\n",
       "      <td>June 2021</td>\n",
       "      <td>https://www.sciencedirect.com/science/article/...</td>\n",
       "    </tr>\n",
       "    <tr>\n",
       "      <th>18</th>\n",
       "      <td>Integrating social power into the decision-mak...</td>\n",
       "      <td>Pereira, Gonçalo, Prada, Rui, Santos, Pedro A.</td>\n",
       "      <td>December 2016</td>\n",
       "      <td>https://www.sciencedirect.com/science/article/...</td>\n",
       "    </tr>\n",
       "    <tr>\n",
       "      <th>19</th>\n",
       "      <td>“That's (not) the output I expected!” On the r...</td>\n",
       "      <td>Riveiro, Maria, Thill, Serge</td>\n",
       "      <td>September 2021</td>\n",
       "      <td>https://www.sciencedirect.com/science/article/...</td>\n",
       "    </tr>\n",
       "    <tr>\n",
       "      <th>20</th>\n",
       "      <td>Explaining black-box classifiers using post-ho...</td>\n",
       "      <td>Kenny, Eoin M., Ford, Courtney, Quinn, Molly, ...</td>\n",
       "      <td>May 2021</td>\n",
       "      <td>https://www.sciencedirect.com/science/article/...</td>\n",
       "    </tr>\n",
       "    <tr>\n",
       "      <th>21</th>\n",
       "      <td>Algorithm runtime prediction: Methods &amp; evalua...</td>\n",
       "      <td>Hutter, Frank, Xu, Lin, Hoos, Holger H., Leyto...</td>\n",
       "      <td>January 2014</td>\n",
       "      <td>https://www.sciencedirect.com/science/article/...</td>\n",
       "    </tr>\n",
       "    <tr>\n",
       "      <th>22</th>\n",
       "      <td>Wrappers for feature subset selection</td>\n",
       "      <td>Kohavi, Ron, John, George H.</td>\n",
       "      <td>December 1997</td>\n",
       "      <td>https://www.sciencedirect.com/science/article/...</td>\n",
       "    </tr>\n",
       "    <tr>\n",
       "      <th>23</th>\n",
       "      <td>Commonsense visual sensemaking for autonomous ...</td>\n",
       "      <td>Suchan, Jakob, Bhatt, Mehul, Varadarajan, Srik...</td>\n",
       "      <td>October 2021</td>\n",
       "      <td>https://www.sciencedirect.com/science/article/...</td>\n",
       "    </tr>\n",
       "    <tr>\n",
       "      <th>24</th>\n",
       "      <td>Quantum computation, quantum theory and AI</td>\n",
       "      <td>Ying, Mingsheng</td>\n",
       "      <td>February 2010</td>\n",
       "      <td>https://www.sciencedirect.com/science/article/...</td>\n",
       "    </tr>\n",
       "  </tbody>\n",
       "</table>\n",
       "</div>"
      ],
      "text/plain": [
       "                                          Paper Title  \\\n",
       "0                                    Reward is enough   \n",
       "1                           Making sense of raw input   \n",
       "2   Law and logic: A review from an argumentation ...   \n",
       "3              Creativity and artificial intelligence   \n",
       "4   Artificial cognition for social human–robot in...   \n",
       "5   Explanation in artificial intelligence: Insigh...   \n",
       "6                       Making sense of sensory input   \n",
       "7   Conflict-based search for optimal multi-agent ...   \n",
       "8   Between MDPs and semi-MDPs: A framework for te...   \n",
       "9   The Hanabi challenge: A new frontier for AI re...   \n",
       "10  Evaluating XAI: A comparison of rule-based and...   \n",
       "11           Argumentation in artificial intelligence   \n",
       "12  Algorithms for computing strategies in two-pla...   \n",
       "13      Multiple object tracking: A literature review   \n",
       "14  Selection of relevant features and examples in...   \n",
       "15  A survey of inverse reinforcement learning: Ch...   \n",
       "16  Explaining individual predictions when feature...   \n",
       "17  A review of possible effects of cognitive bias...   \n",
       "18  Integrating social power into the decision-mak...   \n",
       "19  “That's (not) the output I expected!” On the r...   \n",
       "20  Explaining black-box classifiers using post-ho...   \n",
       "21  Algorithm runtime prediction: Methods & evalua...   \n",
       "22              Wrappers for feature subset selection   \n",
       "23  Commonsense visual sensemaking for autonomous ...   \n",
       "24         Quantum computation, quantum theory and AI   \n",
       "\n",
       "                                              Authors  Published Date  \\\n",
       "0   Silver, David, Singh, Satinder, Precup, Doina,...    October 2021   \n",
       "1           Evans, Richard, Bošnjak, Matko and 5 more    October 2021   \n",
       "2                   Prakken, Henry, Sartor, Giovanni     October 2015   \n",
       "3                                 Boden, Margaret A.      August 1998   \n",
       "4     Lemaignan, Séverin, Warnier, Mathieu and 3 more       June 2017   \n",
       "5                                        Miller, Tim    February 2019   \n",
       "6   Evans, Richard, Hernández-Orallo, José and 3 more      April 2021   \n",
       "7   Sharon, Guni, Stern, Roni, Felner, Ariel, Stur...   February 2015   \n",
       "8   Sutton, Richard S., Precup, Doina, Singh, Sati...     August 1999   \n",
       "9         Bard, Nolan, Foerster, Jakob N. and 13 more      March 2020   \n",
       "10  van der Waa, Jasper, Nieuwburg, Elisabeth, Cre...   February 2021   \n",
       "11               Bench-Capon, T.J.M., Dunne, Paul E.     October 2007   \n",
       "12       Bošanský, Branislav, Lisý, Viliam and 3 more     August 2016   \n",
       "13             Luo, Wenhan, Xing, Junliang and 4 more      April 2021   \n",
       "14                      Blum, Avrim L., Langley, Pat    December 1997   \n",
       "15                   Arora, Saurabh, Doshi, Prashant      August 2021   \n",
       "16      Aas, Kjersti, Jullum, Martin, Løland, Anders   September 2021   \n",
       "17  Kliegr, Tomáš, Bahník, Štěpán, Fürnkranz, Joha...       June 2021   \n",
       "18    Pereira, Gonçalo, Prada, Rui, Santos, Pedro A.    December 2016   \n",
       "19                      Riveiro, Maria, Thill, Serge   September 2021   \n",
       "20  Kenny, Eoin M., Ford, Courtney, Quinn, Molly, ...        May 2021   \n",
       "21  Hutter, Frank, Xu, Lin, Hoos, Holger H., Leyto...    January 2014   \n",
       "22                      Kohavi, Ron, John, George H.    December 1997   \n",
       "23  Suchan, Jakob, Bhatt, Mehul, Varadarajan, Srik...    October 2021   \n",
       "24                                   Ying, Mingsheng    February 2010   \n",
       "\n",
       "                                            Paper URL  \n",
       "0   https://www.sciencedirect.com/science/article/...  \n",
       "1   https://www.sciencedirect.com/science/article/...  \n",
       "2   https://www.sciencedirect.com/science/article/...  \n",
       "3   https://www.sciencedirect.com/science/article/...  \n",
       "4   https://www.sciencedirect.com/science/article/...  \n",
       "5   https://www.sciencedirect.com/science/article/...  \n",
       "6   https://www.sciencedirect.com/science/article/...  \n",
       "7   https://www.sciencedirect.com/science/article/...  \n",
       "8   https://www.sciencedirect.com/science/article/...  \n",
       "9   https://www.sciencedirect.com/science/article/...  \n",
       "10  https://www.sciencedirect.com/science/article/...  \n",
       "11  https://www.sciencedirect.com/science/article/...  \n",
       "12  https://www.sciencedirect.com/science/article/...  \n",
       "13  https://www.sciencedirect.com/science/article/...  \n",
       "14  https://www.sciencedirect.com/science/article/...  \n",
       "15  https://www.sciencedirect.com/science/article/...  \n",
       "16  https://www.sciencedirect.com/science/article/...  \n",
       "17  https://www.sciencedirect.com/science/article/...  \n",
       "18  https://www.sciencedirect.com/science/article/...  \n",
       "19  https://www.sciencedirect.com/science/article/...  \n",
       "20  https://www.sciencedirect.com/science/article/...  \n",
       "21  https://www.sciencedirect.com/science/article/...  \n",
       "22  https://www.sciencedirect.com/science/article/...  \n",
       "23  https://www.sciencedirect.com/science/article/...  \n",
       "24  https://www.sciencedirect.com/science/article/...  "
      ]
     },
     "execution_count": 125,
     "metadata": {},
     "output_type": "execute_result"
    }
   ],
   "source": [
    "# making DataFrame\n",
    "\n",
    "AI_most_downloaded_articles = pd.DataFrame({'Paper Title':paper_title,'Authors':authors,'Published Date':published_date,'Paper URL':paper_url})\n",
    "\n",
    "print(\"\\033[1m\"+\"The most downloaded articles from Artificial Intelligence in the last 90 days\"+\"\\033[0m\")\n",
    "\n",
    "AI_most_downloaded_articles"
   ]
  },
  {
   "cell_type": "code",
   "execution_count": null,
   "id": "162f9888",
   "metadata": {},
   "outputs": [],
   "source": []
  },
  {
   "cell_type": "markdown",
   "id": "94dc1c17",
   "metadata": {},
   "source": [
    "#### 9) Write a python program to scrape mentioned details from dineout.co.in and make data frame.\n",
    "#### i) Restaurant name\n",
    "#### ii) Cuisine\n",
    "#### iii) Location\n",
    "#### iv) Ratings\n",
    "#### v) Image URL"
   ]
  },
  {
   "cell_type": "code",
   "execution_count": 126,
   "id": "0022a41b",
   "metadata": {},
   "outputs": [],
   "source": [
    "# Import requried libraries\n",
    "\n",
    "import requests\n",
    "from bs4 import BeautifulSoup\n",
    "import pandas as pd"
   ]
  },
  {
   "cell_type": "code",
   "execution_count": 127,
   "id": "65d4656d",
   "metadata": {},
   "outputs": [],
   "source": [
    "# send GET request\n",
    "\n",
    "page_9 = requests.get('https://www.dineout.co.in/delhi-restaurants/buffet-special')"
   ]
  },
  {
   "cell_type": "code",
   "execution_count": 128,
   "id": "b5040b45",
   "metadata": {},
   "outputs": [
    {
     "data": {
      "text/plain": [
       "<Response [200]>"
      ]
     },
     "execution_count": 128,
     "metadata": {},
     "output_type": "execute_result"
    }
   ],
   "source": [
    "# checking response code\n",
    "page_9"
   ]
  },
  {
   "cell_type": "code",
   "execution_count": 129,
   "id": "73da31d7",
   "metadata": {},
   "outputs": [],
   "source": [
    "# page content\n",
    "S9 = BeautifulSoup(page_9.content)"
   ]
  },
  {
   "cell_type": "code",
   "execution_count": 130,
   "id": "396a7c92",
   "metadata": {},
   "outputs": [
    {
     "data": {
      "text/plain": [
       "['Castle Barbeque',\n",
       " 'Jungle Jamboree',\n",
       " 'Cafe Knosh',\n",
       " 'Castle Barbeque',\n",
       " 'The Barbeque Company',\n",
       " 'India Grill',\n",
       " 'Delhi Barbeque',\n",
       " 'The Monarch - Bar Be Que Village',\n",
       " 'Indian Grill Room']"
      ]
     },
     "execution_count": 130,
     "metadata": {},
     "output_type": "execute_result"
    }
   ],
   "source": [
    "Rst_name = []   # empty list\n",
    "\n",
    "for i in S9.find_all('a', class_=\"restnt-name ellipsis\"):\n",
    "    Rst_name.append(i.text)\n",
    "    \n",
    "Rst_name"
   ]
  },
  {
   "cell_type": "code",
   "execution_count": 131,
   "id": "30c7c1ce",
   "metadata": {},
   "outputs": [
    {
     "data": {
      "text/plain": [
       "[' Chinese, North Indian',\n",
       " ' North Indian, Asian, Italian',\n",
       " ' Italian, Continental',\n",
       " ' Chinese, North Indian',\n",
       " ' North Indian, Chinese',\n",
       " ' North Indian, Italian',\n",
       " ' North Indian',\n",
       " ' North Indian',\n",
       " ' North Indian, Mughlai']"
      ]
     },
     "execution_count": 131,
     "metadata": {},
     "output_type": "execute_result"
    }
   ],
   "source": [
    "cuisine = []    # empty list\n",
    "\n",
    "for i in S9.find_all('span', class_=\"double-line-ellipsis\"):\n",
    "    cuisine.append(i.text.split('|')[1])\n",
    "    \n",
    "cuisine"
   ]
  },
  {
   "cell_type": "code",
   "execution_count": 132,
   "id": "6da13a79",
   "metadata": {},
   "outputs": [
    {
     "data": {
      "text/plain": [
       "['Connaught Place, Central Delhi',\n",
       " '3CS Mall,Lajpat Nagar - 3, South Delhi',\n",
       " 'The Leela Ambience Convention Hotel,Shahdara, East Delhi',\n",
       " 'Pacific Mall,Tagore Garden, West Delhi',\n",
       " 'Gardens Galleria,Sector 38A, Noida',\n",
       " 'Hilton Garden Inn,Saket, South Delhi',\n",
       " 'Taurus Sarovar Portico,Mahipalpur, South Delhi',\n",
       " 'Indirapuram Habitat Centre,Indirapuram, Ghaziabad',\n",
       " 'Suncity Business Tower,Golf Course Road, Gurgaon']"
      ]
     },
     "execution_count": 132,
     "metadata": {},
     "output_type": "execute_result"
    }
   ],
   "source": [
    "location = []     # empty list\n",
    "\n",
    "for i in S9.find_all('div', class_=\"restnt-loc ellipsis\"):\n",
    "    location.append(i.text)\n",
    "location"
   ]
  },
  {
   "cell_type": "code",
   "execution_count": 133,
   "id": "2f8e2512",
   "metadata": {},
   "outputs": [
    {
     "data": {
      "text/plain": [
       "['4.1', '3.9', '4.3', '3.9', '3.9', '3.9', '3.7', '3.8', '4.3']"
      ]
     },
     "execution_count": 133,
     "metadata": {},
     "output_type": "execute_result"
    }
   ],
   "source": [
    "rating_rst = []    # empty list\n",
    "\n",
    "for i in S9.find_all('div', class_=\"restnt-rating rating-4\"):\n",
    "    rating_rst.append(i.text)\n",
    "    \n",
    "rating_rst"
   ]
  },
  {
   "cell_type": "code",
   "execution_count": 134,
   "id": "feb74fd9",
   "metadata": {},
   "outputs": [
    {
     "data": {
      "text/plain": [
       "['https://im1.dineout.co.in/images/uploads/restaurant/sharpen/8/k/b/p86792-16062953735fbe1f4d3fb7e.jpg?tr=tr:n-medium',\n",
       " 'https://im1.dineout.co.in/images/uploads/restaurant/sharpen/5/p/m/p59633-166088382462ff137009010.jpg?tr=tr:n-medium',\n",
       " 'https://im1.dineout.co.in/images/uploads/restaurant/sharpen/4/p/m/p406-15438184745c04ccea491bc.jpg?tr=tr:n-medium',\n",
       " 'https://im1.dineout.co.in/images/uploads/restaurant/sharpen/3/j/o/p38113-15959192065f1fcb666130c.jpg?tr=tr:n-medium',\n",
       " 'https://im1.dineout.co.in/images/uploads/restaurant/sharpen/7/p/k/p79307-16051787755fad1597f2bf9.jpg?tr=tr:n-medium',\n",
       " 'https://im1.dineout.co.in/images/uploads/restaurant/sharpen/2/v/t/p2687-1482477169585cce712b90f.jpg?tr=tr:n-medium',\n",
       " 'https://im1.dineout.co.in/images/uploads/restaurant/sharpen/5/d/i/p52501-1661855212630de5eceb6d2.jpg?tr=tr:n-medium',\n",
       " 'https://im1.dineout.co.in/images/uploads/restaurant/sharpen/3/n/o/p34822-15599107305cfa594a13c24.jpg?tr=tr:n-medium',\n",
       " 'https://im1.dineout.co.in/images/uploads/restaurant/sharpen/5/y/f/p549-165000147262590640c0afc.jpg?tr=tr:n-medium']"
      ]
     },
     "execution_count": 134,
     "metadata": {},
     "output_type": "execute_result"
    }
   ],
   "source": [
    "img = []     # empty list\n",
    "\n",
    "for i in S9.find_all('img', class_=\"no-img\"):\n",
    "    img.append(i.get('data-src'))\n",
    "    \n",
    "img"
   ]
  },
  {
   "cell_type": "code",
   "execution_count": 135,
   "id": "886f54ed",
   "metadata": {},
   "outputs": [
    {
     "name": "stdout",
     "output_type": "stream",
     "text": [
      "9 9 9 9 9\n"
     ]
    }
   ],
   "source": [
    "print(len(Rst_name),len(cuisine),len(location),len(rating_rst),len(img))"
   ]
  },
  {
   "cell_type": "code",
   "execution_count": 136,
   "id": "97206f2b",
   "metadata": {},
   "outputs": [
    {
     "data": {
      "text/html": [
       "<div>\n",
       "<style scoped>\n",
       "    .dataframe tbody tr th:only-of-type {\n",
       "        vertical-align: middle;\n",
       "    }\n",
       "\n",
       "    .dataframe tbody tr th {\n",
       "        vertical-align: top;\n",
       "    }\n",
       "\n",
       "    .dataframe thead th {\n",
       "        text-align: right;\n",
       "    }\n",
       "</style>\n",
       "<table border=\"1\" class=\"dataframe\">\n",
       "  <thead>\n",
       "    <tr style=\"text-align: right;\">\n",
       "      <th></th>\n",
       "      <th>Restaurant name</th>\n",
       "      <th>Cuisine</th>\n",
       "      <th>Location</th>\n",
       "      <th>Rating</th>\n",
       "      <th>Image URL</th>\n",
       "    </tr>\n",
       "  </thead>\n",
       "  <tbody>\n",
       "    <tr>\n",
       "      <th>0</th>\n",
       "      <td>Castle Barbeque</td>\n",
       "      <td>Chinese, North Indian</td>\n",
       "      <td>Connaught Place, Central Delhi</td>\n",
       "      <td>4.1</td>\n",
       "      <td>https://im1.dineout.co.in/images/uploads/resta...</td>\n",
       "    </tr>\n",
       "    <tr>\n",
       "      <th>1</th>\n",
       "      <td>Jungle Jamboree</td>\n",
       "      <td>North Indian, Asian, Italian</td>\n",
       "      <td>3CS Mall,Lajpat Nagar - 3, South Delhi</td>\n",
       "      <td>3.9</td>\n",
       "      <td>https://im1.dineout.co.in/images/uploads/resta...</td>\n",
       "    </tr>\n",
       "    <tr>\n",
       "      <th>2</th>\n",
       "      <td>Cafe Knosh</td>\n",
       "      <td>Italian, Continental</td>\n",
       "      <td>The Leela Ambience Convention Hotel,Shahdara, ...</td>\n",
       "      <td>4.3</td>\n",
       "      <td>https://im1.dineout.co.in/images/uploads/resta...</td>\n",
       "    </tr>\n",
       "    <tr>\n",
       "      <th>3</th>\n",
       "      <td>Castle Barbeque</td>\n",
       "      <td>Chinese, North Indian</td>\n",
       "      <td>Pacific Mall,Tagore Garden, West Delhi</td>\n",
       "      <td>3.9</td>\n",
       "      <td>https://im1.dineout.co.in/images/uploads/resta...</td>\n",
       "    </tr>\n",
       "    <tr>\n",
       "      <th>4</th>\n",
       "      <td>The Barbeque Company</td>\n",
       "      <td>North Indian, Chinese</td>\n",
       "      <td>Gardens Galleria,Sector 38A, Noida</td>\n",
       "      <td>3.9</td>\n",
       "      <td>https://im1.dineout.co.in/images/uploads/resta...</td>\n",
       "    </tr>\n",
       "    <tr>\n",
       "      <th>5</th>\n",
       "      <td>India Grill</td>\n",
       "      <td>North Indian, Italian</td>\n",
       "      <td>Hilton Garden Inn,Saket, South Delhi</td>\n",
       "      <td>3.9</td>\n",
       "      <td>https://im1.dineout.co.in/images/uploads/resta...</td>\n",
       "    </tr>\n",
       "    <tr>\n",
       "      <th>6</th>\n",
       "      <td>Delhi Barbeque</td>\n",
       "      <td>North Indian</td>\n",
       "      <td>Taurus Sarovar Portico,Mahipalpur, South Delhi</td>\n",
       "      <td>3.7</td>\n",
       "      <td>https://im1.dineout.co.in/images/uploads/resta...</td>\n",
       "    </tr>\n",
       "    <tr>\n",
       "      <th>7</th>\n",
       "      <td>The Monarch - Bar Be Que Village</td>\n",
       "      <td>North Indian</td>\n",
       "      <td>Indirapuram Habitat Centre,Indirapuram, Ghaziabad</td>\n",
       "      <td>3.8</td>\n",
       "      <td>https://im1.dineout.co.in/images/uploads/resta...</td>\n",
       "    </tr>\n",
       "    <tr>\n",
       "      <th>8</th>\n",
       "      <td>Indian Grill Room</td>\n",
       "      <td>North Indian, Mughlai</td>\n",
       "      <td>Suncity Business Tower,Golf Course Road, Gurgaon</td>\n",
       "      <td>4.3</td>\n",
       "      <td>https://im1.dineout.co.in/images/uploads/resta...</td>\n",
       "    </tr>\n",
       "  </tbody>\n",
       "</table>\n",
       "</div>"
      ],
      "text/plain": [
       "                    Restaurant name                        Cuisine  \\\n",
       "0                   Castle Barbeque          Chinese, North Indian   \n",
       "1                   Jungle Jamboree   North Indian, Asian, Italian   \n",
       "2                        Cafe Knosh           Italian, Continental   \n",
       "3                   Castle Barbeque          Chinese, North Indian   \n",
       "4              The Barbeque Company          North Indian, Chinese   \n",
       "5                       India Grill          North Indian, Italian   \n",
       "6                    Delhi Barbeque                   North Indian   \n",
       "7  The Monarch - Bar Be Que Village                   North Indian   \n",
       "8                 Indian Grill Room          North Indian, Mughlai   \n",
       "\n",
       "                                            Location Rating  \\\n",
       "0                     Connaught Place, Central Delhi    4.1   \n",
       "1             3CS Mall,Lajpat Nagar - 3, South Delhi    3.9   \n",
       "2  The Leela Ambience Convention Hotel,Shahdara, ...    4.3   \n",
       "3             Pacific Mall,Tagore Garden, West Delhi    3.9   \n",
       "4                 Gardens Galleria,Sector 38A, Noida    3.9   \n",
       "5               Hilton Garden Inn,Saket, South Delhi    3.9   \n",
       "6     Taurus Sarovar Portico,Mahipalpur, South Delhi    3.7   \n",
       "7  Indirapuram Habitat Centre,Indirapuram, Ghaziabad    3.8   \n",
       "8   Suncity Business Tower,Golf Course Road, Gurgaon    4.3   \n",
       "\n",
       "                                           Image URL  \n",
       "0  https://im1.dineout.co.in/images/uploads/resta...  \n",
       "1  https://im1.dineout.co.in/images/uploads/resta...  \n",
       "2  https://im1.dineout.co.in/images/uploads/resta...  \n",
       "3  https://im1.dineout.co.in/images/uploads/resta...  \n",
       "4  https://im1.dineout.co.in/images/uploads/resta...  \n",
       "5  https://im1.dineout.co.in/images/uploads/resta...  \n",
       "6  https://im1.dineout.co.in/images/uploads/resta...  \n",
       "7  https://im1.dineout.co.in/images/uploads/resta...  \n",
       "8  https://im1.dineout.co.in/images/uploads/resta...  "
      ]
     },
     "execution_count": 136,
     "metadata": {},
     "output_type": "execute_result"
    }
   ],
   "source": [
    "# making DataFrame\n",
    "dineout_details = pd.DataFrame({'Restaurant name':Rst_name,'Cuisine':cuisine,'Location':location,'Rating':rating_rst,'Image URL':img})\n",
    "\n",
    "dineout_details"
   ]
  },
  {
   "cell_type": "code",
   "execution_count": null,
   "id": "c82eea22",
   "metadata": {},
   "outputs": [],
   "source": []
  }
 ],
 "metadata": {
  "kernelspec": {
   "display_name": "Python 3 (ipykernel)",
   "language": "python",
   "name": "python3"
  },
  "language_info": {
   "codemirror_mode": {
    "name": "ipython",
    "version": 3
   },
   "file_extension": ".py",
   "mimetype": "text/x-python",
   "name": "python",
   "nbconvert_exporter": "python",
   "pygments_lexer": "ipython3",
   "version": "3.9.12"
  }
 },
 "nbformat": 4,
 "nbformat_minor": 5
}
